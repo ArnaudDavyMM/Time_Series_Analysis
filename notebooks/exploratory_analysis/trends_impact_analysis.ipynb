{
 "cells": [
  {
   "cell_type": "markdown",
   "id": "56ef5700-bd71-4e44-99c4-6f17485d94f5",
   "metadata": {},
   "source": [
    "# Part 2.1: Features Engineering and Visualitions\n",
    "\n",
    "This phase focuses on enhancing the dataset by creating meaningful features that capture **temporal patterns, store-specific behaviors, customers and sales analysis**. It also includes **visual exploration to uncover trends, seasonality, and anomalies—laying** the groundwork for robust forecasting models.\n"
   ]
  },
  {
   "cell_type": "markdown",
   "id": "dd832622-b6c7-4b7f-a4ef-26eeea11e6a1",
   "metadata": {},
   "source": [
    "## 1. Setup & Imports Libraries\n",
    "-------------------------------"
   ]
  },
  {
   "cell_type": "code",
   "execution_count": null,
   "id": "8f7ea380-c3eb-4357-bb7f-6d7bac2e04df",
   "metadata": {},
   "outputs": [],
   "source": [
    "import time "
   ]
  },
  {
   "cell_type": "code",
   "execution_count": null,
   "id": "46c364c2-8b1d-43e8-bf57-72b9249e155a",
   "metadata": {},
   "outputs": [],
   "source": [
    "# Step 1: Setup & Imports Libraries\n",
    "print(\"Step 1: Setup and Import Libraries started...\")\n",
    "time.sleep(1)  # Simulate processing time"
   ]
  },
  {
   "cell_type": "code",
   "execution_count": null,
   "id": "75d6c5fa-aee0-4e1f-9e59-840fdba88e6f",
   "metadata": {},
   "outputs": [],
   "source": [
    "# Data Manipulation & Processing\n",
    "import math\n",
    "import numpy as np\n",
    "import pandas as pd\n",
    "from pathlib import Path\n",
    "import scipy.stats as stats\n",
    "from datetime import datetime\n",
    "from sklearn.preprocessing import *\n",
    "\n",
    "# Data Visualization\n",
    "import seaborn as sbn\n",
    "import matplotlib.pyplot as plt\n",
    "import matplotlib.ticker as ticker\n",
    "\n",
    "import plotly.io as pio\n",
    "import plotly.express as px\n",
    "import plotly.graph_objects as go\n",
    "from plotly.subplots import make_subplots\n",
    "\n",
    "from pandas.plotting import scatter_matrix\n",
    "\n",
    "sbn.set(rc={'figure.figsize':(14,6)})\n",
    "plt.style.use('seaborn-v0_8')\n",
    "sbn.set_palette(\"husl\")\n",
    "\n",
    "# Set display options\n",
    "pd.set_option('display.max_columns', None)\n",
    "pd.set_option('display.width', 1000)\n",
    "pd.set_option('display.float_format','{:.2f}'.format)\n",
    "\n",
    "# Warnings\n",
    "import warnings\n",
    "warnings.simplefilter('ignore')\n",
    "warnings.filterwarnings('ignore')"
   ]
  },
  {
   "cell_type": "code",
   "execution_count": null,
   "id": "8cce5b68-7d10-4d23-aa9f-34b449a511ef",
   "metadata": {},
   "outputs": [],
   "source": [
    "print(\"=\"*60)\n",
    "print(\"Rossman Store Sales Time Series Analysis - Part 2\")\n",
    "print(\"=\"*60)\n",
    "print(\"All libraries imported successfully!\")\n",
    "print(\"Analysis Date:\", pd.Timestamp.now().strftime('%Y-%m-%d %H:%M:%S'))\n"
   ]
  },
  {
   "cell_type": "code",
   "execution_count": null,
   "id": "56a328c0-6014-4359-a753-d9318c8507cc",
   "metadata": {},
   "outputs": [],
   "source": [
    "print(\"✅ Setup and Import Liraries completed.\\n\")"
   ]
  },
  {
   "cell_type": "code",
   "execution_count": null,
   "id": "b84aa791-e38f-4a98-b105-5ef5608c7eb0",
   "metadata": {},
   "outputs": [],
   "source": [
    "# Start analysis\n",
    "\n",
    "data_viz_begin = pd.Timestamp.now()\n",
    "\n",
    "bold_start = '\\033[1m'\n",
    "bold_end = '\\033[0m'\n",
    "\n",
    "print(\"🔍 Part 2 Started ...\")\n",
    "print(f\"🟢 Begin Date: {bold_start}{data_viz_begin.strftime('%Y-%m-%d %H:%M:%S')}{bold_end}\\n\")"
   ]
  },
  {
   "cell_type": "markdown",
   "id": "b0ca539c-3bf4-4d74-bc5a-0b4a77793146",
   "metadata": {},
   "source": [
    "\n",
    "## Restore the file\n",
    "----------------------------"
   ]
  },
  {
   "cell_type": "code",
   "execution_count": null,
   "id": "e24c581c-c5aa-4b97-ab72-64a64f2e9f55",
   "metadata": {},
   "outputs": [],
   "source": [
    "%store -r train_df"
   ]
  },
  {
   "cell_type": "markdown",
   "id": "4b18d13a-bcf7-4377-b468-a9ff17d584e8",
   "metadata": {},
   "source": [
    "### View or Display Dataset"
   ]
  },
  {
   "cell_type": "code",
   "execution_count": null,
   "id": "9c2f2327-6fa3-4c87-8cb8-57cca0d61d65",
   "metadata": {},
   "outputs": [],
   "source": [
    "print(\"\\nTrain Data Preview:\")\n",
    "print(\"\\n\",train_df.head())"
   ]
  },
  {
   "cell_type": "markdown",
   "id": "45247aa9-f293-427d-adae-d03d3818cb50",
   "metadata": {},
   "source": [
    "# 2 Feature Engineering\n",
    "-------------------------"
   ]
  },
  {
   "cell_type": "code",
   "execution_count": null,
   "id": "aa3b129f-cf7d-47f5-bf0b-d8f97bbb7c08",
   "metadata": {},
   "outputs": [],
   "source": [
    "# Step 2: Data Ingestion\n",
    "print(\"Step 2: Features Engineering started...\")\n",
    "time.sleep(1)  # Simulate processing time"
   ]
  },
  {
   "cell_type": "code",
   "execution_count": null,
   "id": "2ed06638-01ab-4c59-9219-05329fc793d9",
   "metadata": {},
   "outputs": [],
   "source": [
    "# Make a copy of the original dataframe to avoid modifying it\n",
    "df_features = train_df.copy()"
   ]
  },
  {
   "cell_type": "markdown",
   "id": "4acc1257-6cd6-4115-995d-b7686ca3fa62",
   "metadata": {},
   "source": [
    "#### Promo mapping"
   ]
  },
  {
   "cell_type": "code",
   "execution_count": null,
   "id": "254bdcdd-a311-4814-bdaf-5cb473cdd0f4",
   "metadata": {},
   "outputs": [],
   "source": [
    "df_features['promo'] = df_features['promo'].astype(str).map({'1': 'Promo', '0': 'No Promo'})"
   ]
  },
  {
   "cell_type": "markdown",
   "id": "e72b0133-bc42-401d-b294-c941c95068a5",
   "metadata": {},
   "source": [
    "#### Check "
   ]
  },
  {
   "cell_type": "code",
   "execution_count": null,
   "id": "7cbfb82b-27bb-4383-9b56-ad6f873a9005",
   "metadata": {},
   "outputs": [],
   "source": [
    "value_counts = df_features['promo'].value_counts()\n",
    "value_counts"
   ]
  },
  {
   "cell_type": "markdown",
   "id": "2e64b73e-5d1f-44bf-99e2-c251d1492e76",
   "metadata": {},
   "source": [
    "#### Define the holiday type mapping"
   ]
  },
  {
   "cell_type": "code",
   "execution_count": null,
   "id": "83f201ca-3cef-4948-9776-94b1b05ff762",
   "metadata": {},
   "outputs": [],
   "source": [
    "# Define the holiday type mapping\n",
    "holiday_map = {\"0\": \"Normal Day\",\"a\": \"Public\",\"b\": \"Easter\", \"c\": \"Christmas\"}"
   ]
  },
  {
   "cell_type": "markdown",
   "id": "2202b184-6304-4aec-a192-7e160d6f8311",
   "metadata": {},
   "source": [
    "#### Spot Unexpected Values"
   ]
  },
  {
   "cell_type": "code",
   "execution_count": null,
   "id": "b5353291-d542-4ee0-8c10-f9c952685ddc",
   "metadata": {},
   "outputs": [],
   "source": [
    "# Before mapping\n",
    "unexpected_values = df_features[~df_features['stateholiday'].isin(holiday_map.keys())]['stateholiday'].unique()\n",
    "print(f\"Unexpected values before mapping: {unexpected_values}\")\n"
   ]
  },
  {
   "cell_type": "markdown",
   "id": "9d42f240-44bc-416a-84aa-418e8cd76eae",
   "metadata": {},
   "source": [
    "#### StateHoliday Mapping"
   ]
  },
  {
   "cell_type": "code",
   "execution_count": null,
   "id": "437afd6c-3ea6-437a-a6fa-bebbe0f1bf50",
   "metadata": {},
   "outputs": [],
   "source": [
    "# StateHoliday mapping\n",
    "df_features['stateholiday']= df_features['stateholiday'].map(holiday_map)\n",
    "\n",
    "# Create IsHoliday feature\n",
    "df_features['isholiday']= df_features['stateholiday'] !=\"Normal Day\"\n",
    "\n",
    "# IsSchool Feature - Rule: assume school is out for Public, Easter, and Christmas Breaks\n",
    "df_features[\"isschoolDay\"] = ~df_features[\"stateholiday\"].isin([\"Public\", \"Easter\", \"Christmas\"])\n",
    "\n",
    "# Mapping Check\n",
    "unmapped_rows = df_features[df_features['stateholiday'].isna()]\n",
    "print(f\"Unmapped rows after mapping:\\n{unmapped_rows[['stateholiday']]}\")\n",
    "\n",
    "# Print the count of each holiday type, including any missing (NaN) values for unmapped entries\n",
    "print(f\"\\nHoliday type distribution:\\n{df_features['stateholiday'].value_counts()}\")"
   ]
  },
  {
   "cell_type": "markdown",
   "id": "62f2c7b7-90d6-4356-bbbd-acb1edb345b1",
   "metadata": {},
   "source": [
    "#### Temporal F eatures"
   ]
  },
  {
   "cell_type": "code",
   "execution_count": null,
   "id": "2ea6be60-c7c9-40c7-bdb1-c7b9559d50f8",
   "metadata": {},
   "outputs": [],
   "source": [
    "# Ensure date column is in datetime format\n",
    "if not pd.api.types.is_datetime64_any_dtype(df_features['date']):\n",
    "    df_features['date'] = pd.to_datetime(df_features['date'])\n",
    "\n",
    "# Sort by date in ascending order\n",
    "df_features = df_features.sort_values(by='date', ascending=True)\n",
    "\n",
    "# Baic Temporal Features\n",
    "df_features['day'] = df_features['date'].dt.strftime('%a')\n",
    "df_features['week'] = df_features['date'].dt.isocalendar().week\n",
    "df_features['month'] = df_features['date'].dt.strftime('%b')\n",
    "df_features['quarter'] = df_features['date'].dt.quarter\n",
    "df_features['year'] = df_features['date'].dt.year.astype(int)\n",
    "df_features['isweekend']= df_features['dayofweek'] > 5\n",
    "\n",
    "print(f\"\\nDays type distribution:\\n{df_features[['day', 'isweekend']].value_counts()}\\n\")\n",
    "\n",
    "print(df_features['year'].unique())\n",
    "print(df_features['year'].dtype)\n"
   ]
  },
  {
   "cell_type": "markdown",
   "id": "6d33f302-4a51-428a-99e2-89d4a7c78543",
   "metadata": {},
   "source": [
    "#### Features Enginerring check"
   ]
  },
  {
   "cell_type": "code",
   "execution_count": null,
   "id": "efacc42c-0d09-4bcf-8d6d-bd060e2ba19a",
   "metadata": {},
   "outputs": [],
   "source": [
    "print(f'The shape after before features Engineering: {train_df.shape}')\n",
    "print(f'The shape after adding features : {df_features.shape}')"
   ]
  },
  {
   "cell_type": "code",
   "execution_count": null,
   "id": "40558432-9460-42fc-973e-317b5444db74",
   "metadata": {},
   "outputs": [],
   "source": [
    "df_features.head()"
   ]
  },
  {
   "cell_type": "markdown",
   "id": "e9ad971d-73eb-407c-bd70-99d87ab66a45",
   "metadata": {},
   "source": [
    "#### Store Features Dataframe"
   ]
  },
  {
   "cell_type": "code",
   "execution_count": null,
   "id": "66eff3b1-4226-4d97-bbbb-85e030354b1f",
   "metadata": {},
   "outputs": [],
   "source": [
    "# To pull df_features from one notebook to another in JupyterLab\n",
    "%store df_features"
   ]
  },
  {
   "cell_type": "code",
   "execution_count": null,
   "id": "8eecd4a5-d018-4c0c-a590-ab426f3f2890",
   "metadata": {},
   "outputs": [],
   "source": [
    "print(\"✅ Data Engineering completed.\\n\")"
   ]
  },
  {
   "cell_type": "markdown",
   "id": "bc9b02e8-b1e3-46b6-9ff8-41355db97828",
   "metadata": {},
   "source": [
    "# 3. Data Visualization\n",
    "----------------------"
   ]
  },
  {
   "cell_type": "code",
   "execution_count": null,
   "id": "8aef9f0b-a3cb-43b8-8e26-11a31f3aee65",
   "metadata": {},
   "outputs": [],
   "source": [
    "# Step 1: Setup & Imports Libraries\n",
    "print(\"Step 3: Data Visualization started...\")\n",
    "time.sleep(1)  # Simulate processing time"
   ]
  },
  {
   "cell_type": "code",
   "execution_count": null,
   "id": "8b963bdb-0aae-47b6-b3f4-b23986fb9ac7",
   "metadata": {},
   "outputs": [],
   "source": [
    "\n",
    "def export_plotly_chart(fig, name=\"chart\", output_subdir=\"results_visualization\"):\n",
    "    \"\"\"\n",
    "    Exports a Plotly figure to .html and .svg formats under drafts/results_visualization.\n",
    "\n",
    "    Parameters:\n",
    "    - fig: Plotly figure object\n",
    "    - name: Base filename (without extension)\n",
    "    - output_subdir: Subdirectory under 'drafts/' to save files (default: results_visualization)\n",
    "    \"\"\"\n",
    "    # Find repo root assuming you're inside drafts/<subdir>\n",
    "    repo_root = Path.cwd().resolve().parents[1]  # e.g., from drafts/data_exploration/\n",
    "    output_path = repo_root / \"drafts\" / output_subdir\n",
    "    output_path.mkdir(parents=True, exist_ok=True)\n",
    "\n",
    "    # Save HTML (for docs or README links)\n",
    "    html_path = output_path / f\"{name}.html\"\n",
    "    fig.write_html(html_path, include_plotlyjs='cdn')\n",
    "\n",
    "    # Save SVG (for markdown embedding)\n",
    "    svg_path = output_path / f\"{name}.svg\"\n",
    "    pio.write_image(fig, svg_path, format=\"svg\", width=1200, height=500)\n",
    "\n",
    "    print(f\"✅ Exported to:\\n- {html_path}\\n- {svg_path}\")\n",
    "\n"
   ]
  },
  {
   "cell_type": "markdown",
   "id": "28e3fff5-204d-4698-b0b8-24981989ddfe",
   "metadata": {},
   "source": [
    "### Percentage Distribution per Open"
   ]
  },
  {
   "cell_type": "code",
   "execution_count": null,
   "id": "9aef4091-348b-476c-b06c-b9008b0118f3",
   "metadata": {},
   "outputs": [],
   "source": [
    "\n",
    "# Count frequency of each unique value\n",
    "value_counts = df_features['open'].value_counts()\n",
    "\n",
    "# Map numeric labels to descriptive ones using if-else logic\n",
    "labels = [\"Open\" if val == 1 else \"Closed\" for val in value_counts.index]\n",
    "values = value_counts.values.tolist()\n",
    "\n",
    "# Dynamically create 'pull' values to highlight the largest slice\n",
    "pull = [0.1 if i == 0 else 0 for i in range(len(labels))]\n",
    "\n",
    "# Create pie chart\n",
    "fig = go.Figure(data=[go.Pie(\n",
    "    labels=labels,\n",
    "    values=values,\n",
    "    pull=pull,\n",
    "    textinfo='percent+label',\n",
    "    hoverinfo='label+value+percent'\n",
    ")])\n",
    "\n",
    "# Update layout with left-aligned title\n",
    "fig.update_layout(\n",
    "    title_text='📊 Store Status Distribution: Open vs Closed',\n",
    "    title_x=0.0,  # Left-aligned title\n",
    "    showlegend=True,\n",
    "    width=1200,    # Increased width\n",
    "    height=450    # Increased height\n",
    ")\n",
    "\n",
    "fig.show()\n",
    "\n",
    "export_plotly_chart(fig, name=\"open_vs_closed_pie\")"
   ]
  },
  {
   "cell_type": "markdown",
   "id": "0f1548b3-9e33-4c7a-bd4c-53e03d76e1f0",
   "metadata": {},
   "source": [
    "### Percentage Distribution with Respect to Promo"
   ]
  },
  {
   "cell_type": "code",
   "execution_count": null,
   "id": "9b9c0c9d-45d2-4c16-96ea-c595f29f1709",
   "metadata": {},
   "outputs": [],
   "source": [
    "# Get value counts (Series), extracting both labels and values in matching order\n",
    "counts = df_features['promo'].value_counts()\n",
    "labels = counts.index.tolist()\n",
    "values = counts.values.tolist()\n",
    "\n",
    "# Create a 'pull' list to highlight the first class, rest unpulled\n",
    "pull = [0.1 if i == 0 else 0 for i in range(len(labels))]\n",
    "\n",
    "# Create the pie chart\n",
    "fig = go.Figure(\n",
    "    data =[go.Pie(\n",
    "        labels = labels,\n",
    "        values = values,\n",
    "        pull = pull,\n",
    "        textinfo ='percent+label',\n",
    "        insidetextorientation ='radial',\n",
    "    )]\n",
    ")\n",
    "\n",
    "# Update the layout to fix title overlap\n",
    "fig.update_layout(\n",
    "    title_text ='📊 % Distribution per Promo',\n",
    "    title_x = 1.0,  # Centered title\n",
    "    title_font_size = 20,  # Optional: adjust font size\n",
    "    margin = dict(t = 60, r = 60, b = 60, l = 60),  # Increased top margin\n",
    "    width = 1200,\n",
    "    height = 450\n",
    ")\n",
    "\n",
    "fig.show()\n",
    "\n",
    "export_plotly_chart(fig, name=\"promo_pie\")"
   ]
  },
  {
   "cell_type": "markdown",
   "id": "40735711-720e-4a0f-bf2a-f8176805939c",
   "metadata": {},
   "source": [
    "### Percentage Distribution per Holiday Type"
   ]
  },
  {
   "cell_type": "code",
   "execution_count": null,
   "id": "feadabb0-30fe-4e12-b81a-ab8d4ffa80cd",
   "metadata": {},
   "outputs": [],
   "source": [
    "\n",
    "# Get value counts (Series), extracting both labels and values in matching order\n",
    "counts = df_features['stateholiday'].value_counts()\n",
    "labels = counts.index.tolist()\n",
    "values = counts.values.tolist()\n",
    "\n",
    "# Create a 'pull' list to highlight the first class, rest unpulled\n",
    "pull = [0.1 if i == 0 else 0 for i in range(len(labels))]\n",
    "\n",
    "# Create the pie chart\n",
    "fig = go.Figure(\n",
    "    data =[go.Pie(\n",
    "        labels = labels,\n",
    "        values = values,\n",
    "        pull = pull,\n",
    "        textinfo ='percent+label',\n",
    "        insidetextorientation ='radial',\n",
    "    )]\n",
    ")\n",
    "\n",
    "# Update the layout to fix title overlap\n",
    "fig.update_layout(\n",
    "    title_text ='📊 % Distribution per State Holiday',\n",
    "    title_x = 1.0,  # Centered title\n",
    "    title_font_size = 20,  # Optional: adjust font size\n",
    "    margin = dict(t = 60, r = 60, b = 60, l = 60),  # Increased top margin\n",
    "    width = 1200,\n",
    "    height = 450\n",
    ")\n",
    "\n",
    "fig.show()\n",
    "\n",
    "export_plotly_chart(fig, name=\"sateholiday_pie\")"
   ]
  },
  {
   "cell_type": "markdown",
   "id": "806d8342-9812-4d62-b71d-194340e174d9",
   "metadata": {},
   "source": [
    "### Percentage Distribution per School Holiday"
   ]
  },
  {
   "cell_type": "code",
   "execution_count": null,
   "id": "429b99cf-cc94-4ee4-94bc-95a0d9b2259d",
   "metadata": {},
   "outputs": [],
   "source": [
    "# Efficient value counting and labeling\n",
    "counts = df_features['schoolholiday'].value_counts().sort_index()\n",
    "labels = ['No School Holiday', 'School Holiday']  # Assumes 0=no, 1=yes\n",
    "values = counts.values\n",
    "\n",
    "# Create donut chart\n",
    "fig = go.Figure(data=go.Pie(\n",
    "    labels=labels,\n",
    "    values=values,\n",
    "    pull=[0, 0.1],  # Emphasize 'School Holiday' slice\n",
    "    hole=0.3,\n",
    "    textinfo='label+percent',\n",
    "    marker=dict(colors=['#4ECDC4', '#FF6B6B'], line=dict(color='#FFFFFF', width=2))\n",
    "))\n",
    "\n",
    "# Layout for clarity and aesthetics\n",
    "fig.update_layout(\n",
    "    title_text = '📊 % Distribution per School Holiday',\n",
    "    title_x = 0.5,\n",
    "    font = dict(size = 12, family = 'Arial, sans-serif'),\n",
    "    margin = dict(t = 60, b = 40, l = 40, r = 100),\n",
    "    width = 1200,\n",
    "    height = 450,\n",
    "    showlegend  =True\n",
    ")\n",
    "\n",
    "# Annotation for total records\n",
    "fig.add_annotation(\n",
    "    text = f\"Total Records: {len(df_features):,}\",\n",
    "    x = 0.5,\n",
    "    y =- 0.1,\n",
    "    xref =\"paper\",\n",
    "    yref = \"paper\",\n",
    "    showarrow = False,\n",
    "    font = dict(size = 10, color=\"gray\")\n",
    ")\n",
    "\n",
    "fig.show()\n",
    "\n",
    "export_plotly_chart(fig, name=\"schoolholiday_pie\")"
   ]
  },
  {
   "cell_type": "markdown",
   "id": "4b2474c7-19b6-4d23-80fa-1dc70a06089f",
   "metadata": {},
   "source": [
    "### Sales Distribution"
   ]
  },
  {
   "cell_type": "code",
   "execution_count": null,
   "id": "cced02e7-3eff-4565-8fcf-c759eb7a6e99",
   "metadata": {},
   "outputs": [],
   "source": [
    "# Simple histogram\n",
    "fig = px.histogram(\n",
    "    df_features, \n",
    "    x='sales',\n",
    "    nbins=30,\n",
    "    title='📊 Sales Distribution'\n",
    ")\n",
    "\n",
    "# Minimal layout\n",
    "fig.update_layout(title_x=0.5, width = 1200, height = 450,\n",
    ")\n",
    "\n",
    "fig.show()\n",
    "\n",
    "# Simple summary\n",
    "sales = df_features['sales']\n",
    "print(f\"\\nSales Summary:\")\n",
    "print(f\"Mean: €{sales.mean():,.0f}\")\n",
    "print(f\"Median: €{sales.median():,.0f}\")\n",
    "print(f\"Range: €{sales.min():,.0f} - €{sales.max():,.0f}\")\n",
    "\n",
    "# Simple outlier summary using IQR method\n",
    "sales = df_features['sales']\n",
    "q1 = sales.quantile(0.25)\n",
    "q3 = sales.quantile(0.75)\n",
    "iqr = q3 - q1\n",
    "lower_bound = q1 - 1.5 * iqr\n",
    "upper_bound = q3 + 1.5 * iqr\n",
    "\n",
    "outliers = sales[(sales < lower_bound) | (sales > upper_bound)]\n",
    "\n",
    "print(f\"\\nOutlier Analysis:\")\n",
    "print(f\"Q1: €{q1:,.0f}\")\n",
    "print(f\"Q3: €{q3:,.0f}\")\n",
    "print(f\"IQR: €{iqr:,.0f}\")\n",
    "print(f\"Outlier bounds: €{lower_bound:,.0f} - €{upper_bound:,.0f}\")\n",
    "print(f\"Outliers found: {len(outliers):,} ({len(outliers)/len(sales)*100:.1f}%)\")\n",
    "print(f\"Outlier range: €{outliers.min():,.0f} - €{outliers.max():,.0f}\")\n",
    "\n",
    "print(\"\\n\")\n",
    "export_plotly_chart(fig, name=\"sales_histogram\")"
   ]
  },
  {
   "cell_type": "markdown",
   "id": "9c081504-be24-47e7-a6a6-0d09625b8505",
   "metadata": {},
   "source": [
    "### Customers Distribution"
   ]
  },
  {
   "cell_type": "code",
   "execution_count": null,
   "id": "a1317b5d-351c-4617-8029-fcd4d5c754a3",
   "metadata": {},
   "outputs": [],
   "source": [
    "# Simple histogram\n",
    "fig = px.histogram(\n",
    "    df_features, \n",
    "    x='customers',\n",
    "    nbins=30,\n",
    "    title='📊 Customers Distribution'\n",
    ")\n",
    "\n",
    "# Minimal layout\n",
    "fig.update_layout(title_x=0.5, width = 1200, height = 450\n",
    ")\n",
    "\n",
    "fig.show()\n",
    "\n",
    "# Simple summary\n",
    "sales = df_features['customers']\n",
    "print(f\"\\nSales Summary:\")\n",
    "print(f\"Mean: €{sales.mean():,.0f}\")\n",
    "print(f\"Median: €{sales.median():,.0f}\")\n",
    "print(f\"Range: €{sales.min():,.0f} - €{sales.max():,.0f}\")\n",
    "\n",
    "# Simple outlier summary using IQR method\n",
    "sales = df_features['customers']\n",
    "q1 = sales.quantile(0.25)\n",
    "q3 = sales.quantile(0.75)\n",
    "iqr = q3 - q1\n",
    "lower_bound = q1 - 1.5 * iqr\n",
    "upper_bound = q3 + 1.5 * iqr\n",
    "\n",
    "outliers = sales[(sales < lower_bound) | (sales > upper_bound)]\n",
    "\n",
    "print(f\"\\nOutlier Analysis:\")\n",
    "print(f\"Q1: €{q1:,.0f}\")\n",
    "print(f\"Q3: €{q3:,.0f}\")\n",
    "print(f\"IQR: €{iqr:,.0f}\")\n",
    "print(f\"Outlier bounds: €{lower_bound:,.0f} - €{upper_bound:,.0f}\")\n",
    "print(f\"Outliers found: {len(outliers):,} ({len(outliers)/len(sales)*100:.1f}%)\")\n",
    "print(f\"Outlier range: €{outliers.min():,.0f} - €{outliers.max():,.0f}\")\n",
    "\n",
    "print(\"\\n\")\n",
    "export_plotly_chart(fig, name=\"customer_histogram\")\n"
   ]
  },
  {
   "cell_type": "markdown",
   "id": "047d60c4-40c7-4f20-bb08-4f3bd2863012",
   "metadata": {},
   "source": [
    "## Customer Analysis"
   ]
  },
  {
   "cell_type": "markdown",
   "id": "fbc5807f-10d0-4bb7-97f3-1f9206da1e38",
   "metadata": {},
   "source": [
    "#### Average Customers Trend per Day"
   ]
  },
  {
   "cell_type": "code",
   "execution_count": null,
   "id": "6394269a-65d5-457c-a037-8163ed407a48",
   "metadata": {},
   "outputs": [],
   "source": [
    "\n",
    "# Define weekday order\n",
    "weekday_order = ['Mon', 'Tue', 'Wed', 'Thu', 'Fri', 'Sat', 'Sun']\n",
    "\n",
    "# Calculate mean sales by day\n",
    "dow_agg = df_features.groupby('day')['customers'].mean().reset_index()\n",
    "\n",
    "# Apply categorical ordering\n",
    "dow_agg['day'] = pd.Categorical(dow_agg['day'], categories=weekday_order, ordered=True)\n",
    "dow_agg = dow_agg.sort_values('day')\n",
    "\n",
    "# Create simple line chart\n",
    "fig = px.line(\n",
    "    dow_agg, \n",
    "    x = 'day', \n",
    "    y ='customers', \n",
    "    title ='📈 Average Customers by Day of Week',\n",
    "    markers = True\n",
    ")\n",
    "\n",
    "# Simple styling\n",
    "fig.update_layout(\n",
    "    title={'x': 0.5, 'xanchor': 'center'},\n",
    "    xaxis_title ='Day of Week',\n",
    "    yaxis_title ='Average Customers',\n",
    ")\n",
    "\n",
    "# Find peak for simple annotation\n",
    "peak_idx = dow_agg['customers'].idxmax()\n",
    "peak_day = dow_agg.loc[peak_idx, 'day']\n",
    "peak_value = dow_agg.loc[peak_idx, 'customers']\n",
    "\n",
    "# Simple annotation\n",
    "fig.add_annotation(\n",
    "    x = peak_day,\n",
    "    y = peak_value,\n",
    "    text = f\"Peak: {peak_day} ({peak_value:.0f})\",\n",
    "    showarrow = True,\n",
    "    arrowcolor ='red',\n",
    "    font = dict(color = 'red')\n",
    ")\n",
    "\n",
    "fig.update_layout(margin=dict(t=60, r=40, b=40, l=40),  width = 1200,height = 400)\n",
    "fig.show()\n",
    "\n",
    "print(\"Daily Sales Data:\")\n",
    "print(dow_agg)\n",
    "\n",
    "print(\"\\n\")\n",
    "export_plotly_chart(fig, name=\"daily_avg_customers_trend\")\n"
   ]
  },
  {
   "cell_type": "markdown",
   "id": "f745fedb-4656-4c69-87e8-30dc04d88199",
   "metadata": {},
   "source": [
    "#### Average Customers Trend per Month"
   ]
  },
  {
   "cell_type": "code",
   "execution_count": null,
   "id": "d34d6852-0c89-4dc1-98df-d7c1c52139fb",
   "metadata": {},
   "outputs": [],
   "source": [
    "\n",
    "# Ensure month is ordered\n",
    "month_order = ['Jan', 'Feb', 'Mar', 'Apr', 'May', 'Jun','Jul', 'Aug', 'Sep', 'Oct', 'Nov', 'Dec']\n",
    "\n",
    "monthly_grp = df_features.groupby('month', as_index=False)['customers'].mean()\n",
    "monthly_grp['month'] = pd.Categorical(monthly_grp['month'], categories=month_order, ordered=True)\n",
    "monthly_grp = monthly_grp.sort_values('month')\n",
    "\n",
    "# Identify peak\n",
    "peak_row = monthly_grp.loc[monthly_grp['customers'].idxmax()]\n",
    "peak_month = peak_row['month']\n",
    "peak_value = peak_row['customers']\n",
    "\n",
    "# Create Plotly Express line plot\n",
    "fig = px.line(monthly_grp, x='month', y='customers',\n",
    "              markers=True,\n",
    "              title='📈  Average Customers Trend per Month',\n",
    "              labels={'customers': 'Average Customers', 'month': 'Month'},\n",
    "              line_shape='linear')  # You can switch to 'spline' for smooth curves\n",
    "\n",
    "# Annotate peak\n",
    "fig.add_annotation(x=peak_month, y=peak_value,\n",
    "                   text=f'Peak: {peak_month} ({peak_value:.1f})',\n",
    "                   showarrow=True,\n",
    "                   arrowhead=2,\n",
    "                   arrowsize=1,\n",
    "                   arrowwidth=2,\n",
    "                   arrowcolor='red',\n",
    "                   font=dict(color='red', size=12),\n",
    "                   yshift=15)\n",
    "\n",
    "fig.update_layout(margin=dict(t=60, r=40, b=40, l=40),width = 1200,height = 450)\n",
    "fig.show()\n",
    "\n",
    "export_plotly_chart(fig, name=\"monthly_avg_customers_trend\")"
   ]
  },
  {
   "cell_type": "markdown",
   "id": "24f0580a-fb2f-4b19-b944-4526183ce615",
   "metadata": {},
   "source": [
    "## Sales Analysis"
   ]
  },
  {
   "cell_type": "markdown",
   "id": "aa67a935-58c1-4ecb-9a78-9a5637c77efd",
   "metadata": {},
   "source": [
    "#### Average SalesTrend per Day"
   ]
  },
  {
   "cell_type": "code",
   "execution_count": null,
   "id": "32bdaf22-f655-46c6-a024-ab13603d1bae",
   "metadata": {},
   "outputs": [],
   "source": [
    "\n",
    "# Define weekday order\n",
    "weekday_order = ['Mon', 'Tue', 'Wed', 'Thu', 'Fri', 'Sat', 'Sun']\n",
    "\n",
    "# Calculate mean sales by day\n",
    "dow_agg = df_features.groupby('day')['sales'].mean().reset_index()\n",
    "\n",
    "# Apply categorical ordering\n",
    "dow_agg['day'] = pd.Categorical(dow_agg['day'], categories=weekday_order, ordered=True)\n",
    "dow_agg = dow_agg.sort_values('day')\n",
    "\n",
    "# Create simple line chart\n",
    "fig = px.line(\n",
    "    dow_agg, \n",
    "    x = 'day', \n",
    "    y ='sales', \n",
    "    title ='📈 Average Sales by Day of Week',\n",
    "    markers = True\n",
    ")\n",
    "\n",
    "# Simple styling\n",
    "fig.update_layout(\n",
    "    title={'x': 0.5, 'xanchor': 'center'},\n",
    "    xaxis_title ='Day of Week',\n",
    "    yaxis_title ='Average Sales',\n",
    ")\n",
    "\n",
    "# Find peak for simple annotation\n",
    "peak_idx = dow_agg['sales'].idxmax()\n",
    "peak_day = dow_agg.loc[peak_idx, 'day']\n",
    "peak_value = dow_agg.loc[peak_idx, 'sales']\n",
    "\n",
    "# Simple annotation\n",
    "fig.add_annotation(\n",
    "    x = peak_day,\n",
    "    y = peak_value,\n",
    "    text = f\"Peak: {peak_day} ({peak_value:.0f})\",\n",
    "    showarrow = True,\n",
    "    arrowcolor ='red',\n",
    "    font = dict(color = 'red')\n",
    ")\n",
    "\n",
    "fig.update_layout(margin=dict(t=60, r=40, b=40, l=40), width = 1200,height = 400)\n",
    "fig.show()\n",
    "\n",
    "export_plotly_chart(fig, name=\"daily_avg_sales_trend\")"
   ]
  },
  {
   "cell_type": "markdown",
   "id": "a22ecbbf-5a2a-4d2e-bb30-03179b1811bd",
   "metadata": {},
   "source": [
    "### Average Sales Trend per Month"
   ]
  },
  {
   "cell_type": "code",
   "execution_count": null,
   "id": "f1841252-0942-485f-b1dd-87a2ec6836d2",
   "metadata": {},
   "outputs": [],
   "source": [
    "\n",
    "# Ensure month is ordered\n",
    "month_order = ['Jan', 'Feb', 'Mar', 'Apr', 'May', 'Jun','Jul', 'Aug', 'Sep', 'Oct', 'Nov', 'Dec']\n",
    "\n",
    "monthly_grp = df_features.groupby('month', as_index=False)['sales'].mean()\n",
    "monthly_grp['month'] = pd.Categorical(monthly_grp['month'], categories=month_order, ordered=True)\n",
    "monthly_grp = monthly_grp.sort_values('month')\n",
    "\n",
    "# Identify peak\n",
    "peak_row = monthly_grp.loc[monthly_grp['sales'].idxmax()]\n",
    "peak_month = peak_row['month']\n",
    "peak_value = peak_row['sales']\n",
    "\n",
    "# Create Plotly Express line plot\n",
    "fig = px.line(monthly_grp, x='month', y='sales',\n",
    "              markers=True,\n",
    "              title='📈  Average Sales Trend per Month',\n",
    "              labels={'sales': 'Average Sales', 'month': 'Month'},\n",
    "              line_shape='linear')  # You can switch to 'spline' for smooth curves\n",
    "\n",
    "# Annotate peak\n",
    "fig.add_annotation(x=peak_month, y=peak_value,\n",
    "                   text=f'Peak: {peak_month} ({peak_value:.1f})',\n",
    "                   showarrow=True,\n",
    "                   arrowhead=2,\n",
    "                   arrowsize=1,\n",
    "                   arrowwidth=2,\n",
    "                   arrowcolor='red',\n",
    "                   font=dict(color='red', size=12),\n",
    "                   yshift=15)\n",
    "\n",
    "fig.update_layout(margin=dict(t=60, r=40, b=40, l=40),width = 1200,height = 450)\n",
    "fig.show()\n",
    "\n",
    "export_plotly_chart(fig, name=\"montly_avg_sales_trend\")"
   ]
  },
  {
   "cell_type": "markdown",
   "id": "e1298817-6c23-46d4-8290-abfea33a4909",
   "metadata": {},
   "source": [
    "### Box Plots by Time Segment"
   ]
  },
  {
   "cell_type": "code",
   "execution_count": null,
   "id": "f4ee8f35-4b00-4e1a-8f70-eca8ee9a9422",
   "metadata": {},
   "outputs": [],
   "source": [
    "# Box plot by Month\n",
    "fig1 = px.box(\n",
    "    df_features, \n",
    "    x='month', \n",
    "    y='sales',\n",
    "    title='Sales Distribution by Month',\n",
    "    category_orders={'month': ['Jan', 'Feb', 'Mar', 'Apr', 'May', 'Jun','Jul', 'Aug', 'Sep', 'Oct', 'Nov', 'Dec']}\n",
    ")\n",
    "fig1.update_layout(title_x=0.5, width = 1200,height=500)\n",
    "fig1.show()\n",
    "\n",
    "# Box plot by Day of Week  \n",
    "fig2 = px.box(\n",
    "    df_features, \n",
    "    x='day', \n",
    "    y='sales',\n",
    "    title='Sales Distribution by Day of Week',\n",
    "    category_orders={'day': ['Mon', 'Tue', 'Wed', 'Thu', 'Fri', 'Sat', 'Sun']}\n",
    ")\n",
    "fig2.update_layout(title_x=0.5, width = 1200,height=500)\n",
    "fig2.show()\n",
    "\n",
    "# Box plot by Year\n",
    "fig3 = px.box(\n",
    "    df_features, \n",
    "    x='year', \n",
    "    y='sales',\n",
    "    title='Sales Distribution by Year'\n",
    ")\n",
    "fig3.update_layout(title_x=0.5, width = 1200,height = 500)\n",
    "fig3.show()\n",
    "\n",
    "# Simple summary statistics\n",
    "print(\"Sales Distribution Summary by Category:\")\n",
    "print(\"=\" * 45)\n",
    "\n",
    "print(\"\\nBy Month:\")\n",
    "monthly_stats = df_features.groupby('month')['sales'].agg(['mean', 'median', 'std']).round(0)\n",
    "for month, stats in monthly_stats.iterrows():\n",
    "    print(f\"{month}: Mean=€{stats['mean']:,.0f}, Median=€{stats['median']:,.0f}\")\n",
    "\n",
    "print(\"\\nBy Day:\")\n",
    "daily_stats = df_features.groupby('day')['sales'].agg(['mean', 'median', 'std']).round(0)\n",
    "for day, stats in daily_stats.iterrows():\n",
    "    print(f\"{day}: Mean=€{stats['mean']:,.0f}, Median=€{stats['median']:,.0f}\")\n",
    "\n",
    "print(\"\\n\")\n",
    "export_plotly_chart(fig, name=\"timesegment_sales_boxplot\")\n"
   ]
  },
  {
   "cell_type": "code",
   "execution_count": null,
   "id": "f3c081f8-73e5-483c-86f4-5059233a085f",
   "metadata": {},
   "outputs": [],
   "source": [
    "print(\"✅ Data Visualization completed.\\n\")"
   ]
  },
  {
   "cell_type": "markdown",
   "id": "9551f862-9420-44e4-bff4-4e531ed033d8",
   "metadata": {},
   "source": [
    "--------------------------------------------"
   ]
  },
  {
   "cell_type": "code",
   "execution_count": null,
   "id": "2762c538-1813-4a88-85e3-c95194e0834c",
   "metadata": {},
   "outputs": [],
   "source": [
    "print(\"✅ Features Engineering and Data Visualization (I) completed successfully!\")\n",
    "print(f\"🗓️ Analysis Date: {bold_start}{pd.Timestamp.now().strftime('%Y-%m-%d %H:%M:%S')}{bold_end}\")"
   ]
  },
  {
   "cell_type": "code",
   "execution_count": null,
   "id": "2c0d6ddf-f96a-4308-821d-1f56ef4d3e3f",
   "metadata": {},
   "outputs": [],
   "source": [
    "# End analysis\n",
    "data_viz_end = pd.Timestamp.now()\n",
    "duration = data_viz_end - data_viz_begin\n",
    "\n",
    "# Final summary print\n",
    "print(\"\\n📋 Features Engineering && Data Viz Summary\")\n",
    "print(f\"🟢 Begin Date: {bold_start}{data_viz_begin.strftime('%Y-%m-%d %H:%M:%S')}{bold_end}\")\n",
    "print(f\"✅ End Date:   {bold_start}{data_viz_end.strftime('%Y-%m-%d %H:%M:%S')}{bold_end}\")\n",
    "print(f\"⏱️ Duration:   {bold_start}{str(duration)}{bold_end}\")"
   ]
  },
  {
   "cell_type": "markdown",
   "id": "4f0184c5-59e3-4385-b5ef-1c4f75f22c75",
   "metadata": {},
   "source": [
    "-------------------------\n",
    "## Project Design Rationale: Notebook Separation\n",
    "\n",
    "To promote **clarity, maintainability, and scalability** within the project,**Visualization Impact Analysis tasks** are intentionally separated into distinct notebooks. This modular approach prevents the accumulation of excessive code in a single notebook, making it easier to **debug, update, and collaborate across different stages of the workflow**. By isolating data transformation logic from visual analysis, **each notebook remains focused and purpose-driven**, ultimately **enhancing the overall efficiency and readability of the project**."
   ]
  },
  {
   "cell_type": "markdown",
   "id": "a5fd7956-0152-4f58-9f02-56dc4212797a",
   "metadata": {},
   "source": [
    "\n",
    "ARNAUD DAVY - MUKWA NDUDI \n",
    "-----------------------------------------"
   ]
  }
 ],
 "metadata": {
  "kernelspec": {
   "display_name": "Python 3 (ipykernel)",
   "language": "python",
   "name": "python3"
  },
  "language_info": {
   "codemirror_mode": {
    "name": "ipython",
    "version": 3
   },
   "file_extension": ".py",
   "mimetype": "text/x-python",
   "name": "python",
   "nbconvert_exporter": "python",
   "pygments_lexer": "ipython3",
   "version": "3.11.8"
  }
 },
 "nbformat": 4,
 "nbformat_minor": 5
}
