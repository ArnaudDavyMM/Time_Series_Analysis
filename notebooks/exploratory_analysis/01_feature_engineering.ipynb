version https://git-lfs.github.com/spec/v1
oid sha256:92e1e9c4e11b75b8540f4cba7d199fa22bb8e1a68bd53caf1400607ae1f571c2
size 64411
