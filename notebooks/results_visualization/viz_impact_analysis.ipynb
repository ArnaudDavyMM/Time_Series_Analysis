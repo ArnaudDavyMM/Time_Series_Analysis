version https://git-lfs.github.com/spec/v1
oid sha256:e6d0aa15eedb2ff1d752b171c3cd46081b49e4d321507bebdd141aef6d0e3636
size 5100246
