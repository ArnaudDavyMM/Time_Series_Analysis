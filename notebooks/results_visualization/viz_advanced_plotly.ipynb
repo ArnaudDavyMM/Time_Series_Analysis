{
 "cells": [
  {
   "cell_type": "markdown",
   "id": "56ef5700-bd71-4e44-99c4-6f17485d94f5",
   "metadata": {},
   "source": [
    "# Part 2: Advanced Data Visualization\n",
    "\n",
    "This phase focuses on enhancing the dataset by creating meaningful features that capture **temporal patterns, store-specific behaviors, and promotional effects**. It also includes **visual exploration to uncover trends, seasonality, and anomalies—laying** the groundwork for robust forecasting models.\n"
   ]
  },
  {
   "cell_type": "markdown",
   "id": "dd832622-b6c7-4b7f-a4ef-26eeea11e6a1",
   "metadata": {},
   "source": [
    "## 1. Setup & Imports Libraries\n",
    "-------------------------------"
   ]
  },
  {
   "cell_type": "code",
   "execution_count": 1,
   "id": "8f7ea380-c3eb-4357-bb7f-6d7bac2e04df",
   "metadata": {},
   "outputs": [],
   "source": [
    "import time "
   ]
  },
  {
   "cell_type": "code",
   "execution_count": 2,
   "id": "46c364c2-8b1d-43e8-bf57-72b9249e155a",
   "metadata": {},
   "outputs": [
    {
     "name": "stdout",
     "output_type": "stream",
     "text": [
      "Step 1: Setup and Import Libraries started...\n"
     ]
    }
   ],
   "source": [
    "# Step 1: Setup & Imports Libraries\n",
    "print(\"Step 1: Setup and Import Libraries started...\")\n",
    "time.sleep(1)  # Simulate processing time"
   ]
  },
  {
   "cell_type": "code",
   "execution_count": 3,
   "id": "75d6c5fa-aee0-4e1f-9e59-840fdba88e6f",
   "metadata": {},
   "outputs": [],
   "source": [
    "# Data Manipulation & Processing\n",
    "import math\n",
    "import numpy as np\n",
    "import pandas as pd\n",
    "import scipy.stats as stats\n",
    "from datetime import datetime\n",
    "from sklearn.preprocessing import *\n",
    "\n",
    "# Data Visualization\n",
    "import seaborn as sbn\n",
    "import matplotlib.pyplot as plt\n",
    "\n",
    "import plotly.io as pio\n",
    "import plotly.express as px\n",
    "import plotly.graph_objects as go\n",
    "from plotly.subplots import make_subplots\n",
    "\n",
    "from pandas.plotting import scatter_matrix\n",
    "\n",
    "from scipy.stats import ttest_ind\n",
    "from scipy.stats import pearsonr\n",
    "from scipy.cluster.hierarchy import dendrogram, linkage\n",
    "from sklearn.preprocessing import StandardScaler\n",
    "\n",
    "sbn.set(rc={'figure.figsize':(14,6)})\n",
    "plt.style.use('seaborn-v0_8')\n",
    "sbn.set_palette(\"husl\")\n",
    "\n",
    "# Set display options\n",
    "pd.set_option('display.max_columns', None)\n",
    "pd.set_option('display.width', 1000)\n",
    "pd.set_option('display.float_format','{:.2f}'.format)\n",
    "\n",
    "# Warnings\n",
    "import warnings\n",
    "warnings.simplefilter('ignore')\n",
    "warnings.filterwarnings('ignore')"
   ]
  },
  {
   "cell_type": "code",
   "execution_count": 4,
   "id": "8cce5b68-7d10-4d23-aa9f-34b449a511ef",
   "metadata": {},
   "outputs": [
    {
     "name": "stdout",
     "output_type": "stream",
     "text": [
      "============================================================\n",
      "Rossman Store Sales Time Series Analysis - Part 2\n",
      "============================================================\n",
      "All libraries imported successfully!\n",
      "Analysis Date: 2025-08-11 00:38:47\n"
     ]
    }
   ],
   "source": [
    "print(\"=\"*60)\n",
    "print(\"Rossman Store Sales Time Series Analysis - Part 2\")\n",
    "print(\"=\"*60)\n",
    "print(\"All libraries imported successfully!\")\n",
    "print(\"Analysis Date:\", pd.Timestamp.now().strftime('%Y-%m-%d %H:%M:%S'))\n"
   ]
  },
  {
   "cell_type": "code",
   "execution_count": 5,
   "id": "56a328c0-6014-4359-a753-d9318c8507cc",
   "metadata": {},
   "outputs": [
    {
     "name": "stdout",
     "output_type": "stream",
     "text": [
      "✅ Setup and Import Liraries completed.\n",
      "\n"
     ]
    }
   ],
   "source": [
    "print(\"✅ Setup and Import Liraries completed.\\n\")"
   ]
  },
  {
   "cell_type": "code",
   "execution_count": 6,
   "id": "b84aa791-e38f-4a98-b105-5ef5608c7eb0",
   "metadata": {},
   "outputs": [
    {
     "name": "stdout",
     "output_type": "stream",
     "text": [
      "🔍 Part 2 Started ...\n",
      "🟢 Begin Date: \u001b[1m2025-08-11 00:38:47\u001b[0m\n",
      "\n"
     ]
    }
   ],
   "source": [
    "# Start analysis\n",
    "part_2_begin = pd.Timestamp.now()\n",
    "\n",
    "bold_start = '\\033[1m'\n",
    "bold_end = '\\033[0m'\n",
    "\n",
    "print(\"🔍 Part 2 Started ...\")\n",
    "print(f\"🟢 Begin Date: {bold_start}{part_2_begin.strftime('%Y-%m-%d %H:%M:%S')}{bold_end}\\n\")"
   ]
  },
  {
   "cell_type": "markdown",
   "id": "b0ca539c-3bf4-4d74-bc5a-0b4a77793146",
   "metadata": {},
   "source": [
    "\n",
    "## Restore the file\n",
    "----------------------------"
   ]
  },
  {
   "cell_type": "code",
   "execution_count": 7,
   "id": "e24c581c-c5aa-4b97-ab72-64a64f2e9f55",
   "metadata": {},
   "outputs": [],
   "source": [
    "%store -r df_features"
   ]
  },
  {
   "cell_type": "markdown",
   "id": "4b18d13a-bcf7-4377-b468-a9ff17d584e8",
   "metadata": {},
   "source": [
    "### View or Display Dataset"
   ]
  },
  {
   "cell_type": "code",
   "execution_count": 8,
   "id": "b05f67d8-2da7-4205-95f2-5ff2331f7094",
   "metadata": {},
   "outputs": [
    {
     "data": {
      "text/html": [
       "<div>\n",
       "<style scoped>\n",
       "    .dataframe tbody tr th:only-of-type {\n",
       "        vertical-align: middle;\n",
       "    }\n",
       "\n",
       "    .dataframe tbody tr th {\n",
       "        vertical-align: top;\n",
       "    }\n",
       "\n",
       "    .dataframe thead th {\n",
       "        text-align: right;\n",
       "    }\n",
       "</style>\n",
       "<table border=\"1\" class=\"dataframe\">\n",
       "  <thead>\n",
       "    <tr style=\"text-align: right;\">\n",
       "      <th></th>\n",
       "      <th>store</th>\n",
       "      <th>dayofweek</th>\n",
       "      <th>date</th>\n",
       "      <th>sales</th>\n",
       "      <th>customers</th>\n",
       "      <th>open</th>\n",
       "      <th>promo</th>\n",
       "      <th>stateholiday</th>\n",
       "      <th>schoolholiday</th>\n",
       "      <th>isholiday</th>\n",
       "      <th>isschoolDay</th>\n",
       "      <th>day</th>\n",
       "      <th>week</th>\n",
       "      <th>month</th>\n",
       "      <th>quarter</th>\n",
       "      <th>year</th>\n",
       "      <th>isweekend</th>\n",
       "    </tr>\n",
       "  </thead>\n",
       "  <tbody>\n",
       "    <tr>\n",
       "      <th>982643</th>\n",
       "      <td>1115</td>\n",
       "      <td>2</td>\n",
       "      <td>2013-01-01</td>\n",
       "      <td>0</td>\n",
       "      <td>0</td>\n",
       "      <td>0</td>\n",
       "      <td>No Promo</td>\n",
       "      <td>Public</td>\n",
       "      <td>1</td>\n",
       "      <td>True</td>\n",
       "      <td>False</td>\n",
       "      <td>Tue</td>\n",
       "      <td>1</td>\n",
       "      <td>Jan</td>\n",
       "      <td>1</td>\n",
       "      <td>2013</td>\n",
       "      <td>False</td>\n",
       "    </tr>\n",
       "    <tr>\n",
       "      <th>982640</th>\n",
       "      <td>1112</td>\n",
       "      <td>2</td>\n",
       "      <td>2013-01-01</td>\n",
       "      <td>0</td>\n",
       "      <td>0</td>\n",
       "      <td>0</td>\n",
       "      <td>No Promo</td>\n",
       "      <td>Public</td>\n",
       "      <td>1</td>\n",
       "      <td>True</td>\n",
       "      <td>False</td>\n",
       "      <td>Tue</td>\n",
       "      <td>1</td>\n",
       "      <td>Jan</td>\n",
       "      <td>1</td>\n",
       "      <td>2013</td>\n",
       "      <td>False</td>\n",
       "    </tr>\n",
       "    <tr>\n",
       "      <th>982639</th>\n",
       "      <td>1111</td>\n",
       "      <td>2</td>\n",
       "      <td>2013-01-01</td>\n",
       "      <td>0</td>\n",
       "      <td>0</td>\n",
       "      <td>0</td>\n",
       "      <td>No Promo</td>\n",
       "      <td>Public</td>\n",
       "      <td>1</td>\n",
       "      <td>True</td>\n",
       "      <td>False</td>\n",
       "      <td>Tue</td>\n",
       "      <td>1</td>\n",
       "      <td>Jan</td>\n",
       "      <td>1</td>\n",
       "      <td>2013</td>\n",
       "      <td>False</td>\n",
       "    </tr>\n",
       "    <tr>\n",
       "      <th>982638</th>\n",
       "      <td>1110</td>\n",
       "      <td>2</td>\n",
       "      <td>2013-01-01</td>\n",
       "      <td>0</td>\n",
       "      <td>0</td>\n",
       "      <td>0</td>\n",
       "      <td>No Promo</td>\n",
       "      <td>Public</td>\n",
       "      <td>1</td>\n",
       "      <td>True</td>\n",
       "      <td>False</td>\n",
       "      <td>Tue</td>\n",
       "      <td>1</td>\n",
       "      <td>Jan</td>\n",
       "      <td>1</td>\n",
       "      <td>2013</td>\n",
       "      <td>False</td>\n",
       "    </tr>\n",
       "    <tr>\n",
       "      <th>982637</th>\n",
       "      <td>1109</td>\n",
       "      <td>2</td>\n",
       "      <td>2013-01-01</td>\n",
       "      <td>0</td>\n",
       "      <td>0</td>\n",
       "      <td>0</td>\n",
       "      <td>No Promo</td>\n",
       "      <td>Public</td>\n",
       "      <td>1</td>\n",
       "      <td>True</td>\n",
       "      <td>False</td>\n",
       "      <td>Tue</td>\n",
       "      <td>1</td>\n",
       "      <td>Jan</td>\n",
       "      <td>1</td>\n",
       "      <td>2013</td>\n",
       "      <td>False</td>\n",
       "    </tr>\n",
       "  </tbody>\n",
       "</table>\n",
       "</div>"
      ],
      "text/plain": [
       "        store  dayofweek       date  sales  customers  open     promo stateholiday  schoolholiday  isholiday  isschoolDay  day  week month  quarter  year  isweekend\n",
       "982643   1115          2 2013-01-01      0          0     0  No Promo       Public              1       True        False  Tue     1   Jan        1  2013      False\n",
       "982640   1112          2 2013-01-01      0          0     0  No Promo       Public              1       True        False  Tue     1   Jan        1  2013      False\n",
       "982639   1111          2 2013-01-01      0          0     0  No Promo       Public              1       True        False  Tue     1   Jan        1  2013      False\n",
       "982638   1110          2 2013-01-01      0          0     0  No Promo       Public              1       True        False  Tue     1   Jan        1  2013      False\n",
       "982637   1109          2 2013-01-01      0          0     0  No Promo       Public              1       True        False  Tue     1   Jan        1  2013      False"
      ]
     },
     "execution_count": 8,
     "metadata": {},
     "output_type": "execute_result"
    }
   ],
   "source": [
    "df_features.head()"
   ]
  },
  {
   "cell_type": "code",
   "execution_count": 9,
   "id": "8eecd4a5-d018-4c0c-a590-ab426f3f2890",
   "metadata": {},
   "outputs": [
    {
     "name": "stdout",
     "output_type": "stream",
     "text": [
      "✅ Data Engineering completed.\n",
      "\n"
     ]
    }
   ],
   "source": [
    "print(\"✅ Data Engineering completed.\\n\")"
   ]
  },
  {
   "cell_type": "markdown",
   "id": "71ddb823-e155-4e5d-8fcd-e28881f240b1",
   "metadata": {},
   "source": [
    "## Correlation Analysis"
   ]
  },
  {
   "cell_type": "code",
   "execution_count": 10,
   "id": "7696aa31-69cd-4551-888e-68e03d5f50a1",
   "metadata": {},
   "outputs": [
    {
     "name": "stdout",
     "output_type": "stream",
     "text": [
      "🎯 FEATURE SELECTION BASED ON CORRELATION\n",
      "==================================================\n",
      "📊 Initial features meeting threshold (|r| >= 0.3): 3\n",
      "   dayofweek            | -0.461\n",
      "   customers            | +0.896\n",
      "   open                 | +0.679\n",
      "\n",
      "🔗 Checking for multicollinearity...\n",
      "\n",
      "✅ Final selected features: 3\n",
      "   dayofweek            | -0.461\n",
      "   customers            | +0.896\n",
      "   open                 | +0.679\n"
     ]
    }
   ],
   "source": [
    "\n",
    "def enhanced_correlation_analysis(df, target_col='sales', figsize=(16, 12)):\n",
    "    \"\"\"\n",
    "    Comprehensive correlation analysis with business insights\n",
    "    \n",
    "    Parameters:\n",
    "    -----------\n",
    "    df : pandas.DataFrame\n",
    "        Input dataframe\n",
    "    target_col : str\n",
    "        Primary variable of interest (usually 'sales')\n",
    "    figsize : tuple\n",
    "        Figure size for plots\n",
    "    \"\"\"\n",
    "    \n",
    "    # Get numeric columns only\n",
    "    numeric_cols = df.select_dtypes(include=[np.number]).columns.tolist()\n",
    "    \n",
    "    # Remove redundant or non-meaningful columns\n",
    "    exclude_patterns = ['unnamed', 'index', 'id', 'level_0']\n",
    "    numeric_cols = [col for col in numeric_cols if not any(pattern in col.lower() for pattern in exclude_patterns)]\n",
    "    \n",
    "    print(f\"🔍 CORRELATION ANALYSIS\")\n",
    "    print(f\"=\"*50)\n",
    "    print(f\"📊 Analyzing {len(numeric_cols)} numeric variables\")\n",
    "    print(f\"🎯 Primary target: {target_col}\")\n",
    "    print(f\"📋 Variables: {numeric_cols}\")\n",
    "    \n",
    "    # Calculate correlation matrix\n",
    "    corr_data = df[numeric_cols].corr()\n",
    "    \n",
    "    # Create enhanced visualizations\n",
    "    fig = plt.figure(figsize=figsize)\n",
    "    gs = fig.add_gridspec(3, 3, height_ratios=[2, 1, 1], width_ratios=[2, 1, 1], \n",
    "                         hspace=0.3, wspace=0.3)\n",
    "    \n",
    "    # 1. Main correlation heatmap\n",
    "    ax1 = fig.add_subplot(gs[0, 0])\n",
    "    \n",
    "    # Create a mask for the upper triangle\n",
    "    mask = np.triu(np.ones_like(corr_data, dtype=bool))\n",
    "    \n",
    "    # Custom colormap\n",
    "    cmap = sbn.diverging_palette(230, 20, as_cmap=True)\n",
    "    \n",
    "    # Create heatmap\n",
    "    sbn.heatmap(corr_data, \n",
    "                mask=mask,\n",
    "                annot=True, \n",
    "                cmap=cmap,\n",
    "                center=0,\n",
    "                square=True,\n",
    "                fmt='.2f',\n",
    "                cbar_kws={\"shrink\": .8},\n",
    "                ax=ax1,\n",
    "                annot_kws={'size': 9})\n",
    "    \n",
    "    ax1.set_title('📊 Correlation Matrix Heatmap\\n(Lower Triangle Only)', \n",
    "                 fontsize=14, fontweight='bold', pad=20)\n",
    "    ax1.set_xlabel('')\n",
    "    ax1.set_ylabel('')\n",
    "    \n",
    "    # Rotate labels for better readability\n",
    "    plt.setp(ax1.get_xticklabels(), rotation=45, ha='right')\n",
    "    plt.setp(ax1.get_yticklabels(), rotation=0)\n",
    "    \n",
    "    # 2. Target variable correlations (sorted)\n",
    "    ax2 = fig.add_subplot(gs[0, 1])\n",
    "    \n",
    "    if target_col in corr_data.columns:\n",
    "        target_corr = corr_data[target_col].drop(target_col).sort_values(key=abs, ascending=True)\n",
    "        \n",
    "        # Color bars based on correlation strength\n",
    "        colors = ['red' if x < -0.5 else 'orange' if x < -0.2 else \n",
    "                 'lightgray' if abs(x) < 0.2 else 'lightblue' if x < 0.5 else 'green' \n",
    "                 for x in target_corr.values]\n",
    "        \n",
    "        bars = ax2.barh(range(len(target_corr)), target_corr.values, color=colors, alpha=0.7)\n",
    "        ax2.set_yticks(range(len(target_corr)))\n",
    "        ax2.set_yticklabels([f'{label}' for label in target_corr.index], fontsize=9)\n",
    "        ax2.set_xlabel('Correlation with Sales')\n",
    "        ax2.set_title(f'🎯 Correlations with {target_col.title()}\\n(Sorted by Strength)', \n",
    "                     fontsize=12, fontweight='bold')\n",
    "        ax2.axvline(x=0, color='black', linestyle='-', alpha=0.3)\n",
    "        ax2.grid(axis='x', alpha=0.3)\n",
    "        \n",
    "        # Add value labels on bars\n",
    "        for i, (bar, value) in enumerate(zip(bars, target_corr.values)):\n",
    "            ax2.text(value + (0.02 if value > 0 else -0.02), i, f'{value:.2f}', \n",
    "                    va='center', ha='left' if value > 0 else 'right', fontsize=8)\n",
    "    \n",
    "    # 3. Correlation strength distribution\n",
    "    ax3 = fig.add_subplot(gs[0, 2])\n",
    "    \n",
    "    # Get upper triangle correlations (excluding diagonal)\n",
    "    upper_tri = corr_data.where(np.triu(np.ones(corr_data.shape), k=1).astype(bool))\n",
    "    correlations = upper_tri.stack().values\n",
    "    \n",
    "    # Create histogram\n",
    "    ax3.hist(correlations, bins=20, alpha=0.7, color='skyblue', edgecolor='black')\n",
    "    ax3.axvline(x=0, color='red', linestyle='--', alpha=0.7, label='Zero Correlation')\n",
    "    ax3.axvline(x=correlations.mean(), color='orange', linestyle='--', alpha=0.7, \n",
    "               label=f'Mean: {correlations.mean():.2f}')\n",
    "    ax3.set_xlabel('Correlation Coefficient')\n",
    "    ax3.set_ylabel('Frequency')\n",
    "    ax3.set_title('📈 Distribution of\\nCorrelation Coefficients', fontsize=12, fontweight='bold')\n",
    "    ax3.legend(fontsize=8)\n",
    "    ax3.grid(alpha=0.3)\n",
    "    \n",
    "    # 4. Strong correlations table\n",
    "    ax4 = fig.add_subplot(gs[1, :])\n",
    "    ax4.axis('off')\n",
    "    \n",
    "    # Find strong correlations (|r| > 0.5)\n",
    "    strong_corr = []\n",
    "    for i in range(len(corr_data.columns)):\n",
    "        for j in range(i+1, len(corr_data.columns)):\n",
    "            corr_val = corr_data.iloc[i, j]\n",
    "            if abs(corr_val) > 0.5:\n",
    "                strong_corr.append({\n",
    "                    'Variable 1': corr_data.columns[i],\n",
    "                    'Variable 2': corr_data.columns[j],\n",
    "                    'Correlation': corr_val,\n",
    "                    'Strength': 'Very Strong' if abs(corr_val) > 0.8 else 'Strong'\n",
    "                })\n",
    "    \n",
    "    if strong_corr:\n",
    "        strong_df = pd.DataFrame(strong_corr)\n",
    "        strong_df = strong_df.sort_values('Correlation', key=abs, ascending=False)\n",
    "        \n",
    "        # Create table with better spacing and positioning\n",
    "        table_data = []\n",
    "        for _, row in strong_df.head(6).iterrows():  # Show top 6 to avoid crowding\n",
    "            # Truncate long variable names\n",
    "            var1 = row['Variable 1'][:15] + '...' if len(row['Variable 1']) > 15 else row['Variable 1']\n",
    "            var2 = row['Variable 2'][:15] + '...' if len(row['Variable 2']) > 15 else row['Variable 2']\n",
    "            \n",
    "            table_data.append([\n",
    "                var1, \n",
    "                var2, \n",
    "                f\"{row['Correlation']:.3f}\",\n",
    "                row['Strength']\n",
    "            ])\n",
    "        \n",
    "        table = ax4.table(cellText=table_data,\n",
    "                         colLabels=['Variable 1', 'Variable 2', 'Correlation', 'Strength'],\n",
    "                         cellLoc='center',\n",
    "                         loc='upper center',  # Changed position\n",
    "                         colWidths=[0.28, 0.28, 0.18, 0.18],  # Slightly wider columns\n",
    "                         bbox=[0.05, 0.15, 0.9, 0.7])  # Larger table area\n",
    "        table.auto_set_font_size(False)\n",
    "        table.set_fontsize(10)  # Increased font size\n",
    "        table.scale(1, 1.8)  # Increased scaling for better readability\n",
    "        \n",
    "        # Style the header\n",
    "        for j in range(4):\n",
    "            table[(0, j)].set_facecolor('#4472C4')\n",
    "            table[(0, j)].set_text_props(weight='bold', color='white')\n",
    "            table[(0, j)].set_height(0.12)  # Taller header\n",
    "        \n",
    "        # Color code the data rows\n",
    "        for i in range(len(table_data)):\n",
    "            corr_val = float(table_data[i][2])\n",
    "            if abs(corr_val) > 0.8:\n",
    "                color = '#ffcccc' if corr_val < 0 else '#ccffcc'\n",
    "            else:\n",
    "                color = '#ffe6cc' if corr_val < 0 else '#e6f3ff'\n",
    "            \n",
    "            for j in range(4):\n",
    "                table[(i+1, j)].set_facecolor(color)\n",
    "                table[(i+1, j)].set_height(0.10)  # Taller data cells\n",
    "        \n",
    "        # Position title better\n",
    "        ax4.text(0.5, 0.95, '🔍 Strong Correlations (|r| > 0.5)', \n",
    "                ha='center', va='top', fontsize=12, fontweight='bold',\n",
    "                transform=ax4.transAxes)\n",
    "    else:\n",
    "        ax4.text(0.5, 0.5, 'No strong correlations found (|r| > 0.5)', \n",
    "                ha='center', va='center', fontsize=12, style='italic',\n",
    "                transform=ax4.transAxes)\n",
    "        ax4.text(0.5, 0.9, '🔍 Strong Correlations', \n",
    "                ha='center', va='top', fontsize=12, fontweight='bold',\n",
    "                transform=ax4.transAxes)\n",
    "    \n",
    "    # 5. Business insights text\n",
    "    ax5 = fig.add_subplot(gs[2, :])\n",
    "    ax5.axis('off')\n",
    "    \n",
    "    # Generate insights\n",
    "    insights = []\n",
    "    \n",
    "    if target_col in corr_data.columns:\n",
    "        target_correlations = corr_data[target_col].drop(target_col)\n",
    "        \n",
    "        # Strongest positive correlation\n",
    "        max_pos = target_correlations.max()\n",
    "        max_pos_var = target_correlations.idxmax()\n",
    "        \n",
    "        # Strongest negative correlation  \n",
    "        max_neg = target_correlations.min()\n",
    "        max_neg_var = target_correlations.idxmin()\n",
    "        \n",
    "        # Count significant correlations\n",
    "        significant_count = (abs(target_correlations) > 0.3).sum()\n",
    "        \n",
    "        insights.append(f\"🎯 SALES DRIVERS: '{max_pos_var}' has the strongest positive relationship with sales (r={max_pos:.3f})\")\n",
    "        \n",
    "        if max_neg < -0.2:\n",
    "            insights.append(f\"⚠️  NEGATIVE FACTOR: '{max_neg_var}' shows negative correlation with sales (r={max_neg:.3f})\")\n",
    "        \n",
    "        insights.append(f\"📊 SIGNIFICANCE: {significant_count}/{len(target_correlations)} variables show meaningful correlation with sales (|r|>0.3)\")\n",
    "        \n",
    "        if len(strong_corr) > 0:\n",
    "            insights.append(f\"🔗 MULTICOLLINEARITY: Found {len(strong_corr)} strong inter-variable relationships - consider for feature selection\")\n",
    "        \n",
    "        # Interpretation guide\n",
    "        insights.append(f\"📈 INTERPRETATION: |r| > 0.7 (Strong), |r| 0.3-0.7 (Moderate), |r| < 0.3 (Weak)\")\n",
    "    \n",
    "    # Display insights\n",
    "    insight_text = '\\n'.join(insights)\n",
    "    ax5.text(0.05, 0.95, '💡 KEY INSIGHTS:', fontsize=12, fontweight='bold', \n",
    "            transform=ax5.transAxes, va='top')\n",
    "    ax5.text(0.05, 0.85, insight_text, fontsize=10, transform=ax5.transAxes, \n",
    "            va='top', wrap=True, linespacing=1.5)\n",
    "    \n",
    "    plt.suptitle('🔍 COMPREHENSIVE CORRELATION ANALYSIS', fontsize=16, fontweight='bold', y=0.98)\n",
    "    \n",
    "    # Print detailed analysis\n",
    "    print(f\"\\n📋 DETAILED CORRELATION ANALYSIS\")\n",
    "    print(f\"=\"*50)\n",
    "    \n",
    "    if target_col in corr_data.columns:\n",
    "        print(f\"\\n🎯 TOP CORRELATIONS WITH {target_col.upper()}:\")\n",
    "        target_sorted = corr_data[target_col].drop(target_col).sort_values(key=abs, ascending=False)\n",
    "        for var, corr in target_sorted.head(5).items():\n",
    "            strength = \"Very Strong\" if abs(corr) > 0.8 else \"Strong\" if abs(corr) > 0.6 else \"Moderate\" if abs(corr) > 0.3 else \"Weak\"\n",
    "            direction = \"Positive\" if corr > 0 else \"Negative\"\n",
    "            print(f\"   {var:15} | {corr:+.3f} | {strength:12} | {direction}\")\n",
    "    \n",
    "    if strong_corr:\n",
    "        print(f\"\\n🔗 STRONG INTER-VARIABLE CORRELATIONS:\")\n",
    "        for item in strong_df.head(5).to_dict('records'):\n",
    "            print(f\"   {item['Variable 1']} ↔ {item['Variable 2']}: {item['Correlation']:+.3f} ({item['Strength']})\")\n",
    "    \n",
    "    print(f\"\\n📊 SUMMARY STATISTICS:\")\n",
    "    print(f\"   • Mean correlation: {correlations.mean():.3f}\")\n",
    "    print(f\"   • Std correlation: {correlations.std():.3f}\")\n",
    "    print(f\"   • Max correlation: {correlations.max():.3f}\")\n",
    "    print(f\"   • Min correlation: {correlations.min():.3f}\")\n",
    "    print(f\"   • Strong correlations (|r|>0.5): {len(strong_corr)}\")\n",
    "    \n",
    "    plt.tight_layout()\n",
    "    plt.show()\n",
    "    \n",
    "    # Return analysis results\n",
    "    return {\n",
    "        'correlation_matrix': corr_data,\n",
    "        'target_correlations': corr_data[target_col].drop(target_col).sort_values(key=abs, ascending=False) if target_col in corr_data.columns else None,\n",
    "        'strong_correlations': pd.DataFrame(strong_corr) if strong_corr else pd.DataFrame(),\n",
    "        'summary_stats': {\n",
    "            'mean_correlation': correlations.mean(),\n",
    "            'std_correlation': correlations.std(),\n",
    "            'max_correlation': correlations.max(),\n",
    "            'min_correlation': correlations.min(),\n",
    "            'strong_count': len(strong_corr)\n",
    "        }\n",
    "    }\n",
    "\n",
    "def correlation_feature_selector(df, target_col='sales', threshold=0.3, remove_multicollinear=True):\n",
    "    \"\"\"\n",
    "    Select features based on correlation analysis\n",
    "    \n",
    "    Parameters:\n",
    "    -----------\n",
    "    df : pandas.DataFrame\n",
    "        Input dataframe\n",
    "    target_col : str\n",
    "        Target variable\n",
    "    threshold : float\n",
    "        Minimum correlation threshold with target\n",
    "    remove_multicollinear : bool\n",
    "        Whether to remove highly correlated features\n",
    "    \"\"\"\n",
    "    \n",
    "    print(f\"🎯 FEATURE SELECTION BASED ON CORRELATION\")\n",
    "    print(f\"=\"*50)\n",
    "    \n",
    "    # Get numeric columns\n",
    "    numeric_cols = df.select_dtypes(include=[np.number]).columns.tolist()\n",
    "    \n",
    "    if target_col not in numeric_cols:\n",
    "        print(f\"❌ Error: {target_col} not found in numeric columns\")\n",
    "        return None\n",
    "    \n",
    "    # Calculate correlations with target\n",
    "    corr_matrix = df[numeric_cols].corr()\n",
    "    target_corr = corr_matrix[target_col].drop(target_col)\n",
    "    \n",
    "    # Select features based on correlation threshold\n",
    "    selected_features = target_corr[abs(target_corr) >= threshold].index.tolist()\n",
    "    \n",
    "    print(f\"📊 Initial features meeting threshold (|r| >= {threshold}): {len(selected_features)}\")\n",
    "    for feat in selected_features:\n",
    "        print(f\"   {feat:20} | {target_corr[feat]:+.3f}\")\n",
    "    \n",
    "    if remove_multicollinear and len(selected_features) > 1:\n",
    "        print(f\"\\n🔗 Checking for multicollinearity...\")\n",
    "        \n",
    "        # Check correlations among selected features\n",
    "        selected_corr = corr_matrix.loc[selected_features, selected_features]\n",
    "        \n",
    "        # Remove highly correlated features (keep the one most correlated with target)\n",
    "        to_remove = set()\n",
    "        \n",
    "        for i in range(len(selected_features)):\n",
    "            for j in range(i+1, len(selected_features)):\n",
    "                feat1, feat2 = selected_features[i], selected_features[j]\n",
    "                \n",
    "                if abs(selected_corr.loc[feat1, feat2]) > 0.8:  # High correlation threshold\n",
    "                    # Keep the feature more correlated with target\n",
    "                    if abs(target_corr[feat1]) >= abs(target_corr[feat2]):\n",
    "                        to_remove.add(feat2)\n",
    "                        print(f\"   Removing {feat2} (corr with {feat1}: {selected_corr.loc[feat1, feat2]:.3f})\")\n",
    "                    else:\n",
    "                        to_remove.add(feat1)\n",
    "                        print(f\"   Removing {feat1} (corr with {feat2}: {selected_corr.loc[feat1, feat2]:.3f})\")\n",
    "        \n",
    "        # Final feature list\n",
    "        final_features = [f for f in selected_features if f not in to_remove]\n",
    "        print(f\"\\n✅ Final selected features: {len(final_features)}\")\n",
    "        for feat in final_features:\n",
    "            print(f\"   {feat:20} | {target_corr[feat]:+.3f}\")\n",
    "        \n",
    "        return final_features\n",
    "    \n",
    "    return selected_features\n",
    "\n",
    "# Feature selection based on correlation\n",
    "important_features = correlation_feature_selector(df_features, target_col='sales', threshold=0.3)"
   ]
  },
  {
   "cell_type": "markdown",
   "id": "5e8aa1bb-367f-41df-9368-d727513b677c",
   "metadata": {},
   "source": [
    "### Enhnaced Correlation analysis"
   ]
  },
  {
   "cell_type": "code",
   "execution_count": 11,
   "id": "a88fc231-8499-4a28-b6fe-392df90c4de0",
   "metadata": {},
   "outputs": [
    {
     "name": "stdout",
     "output_type": "stream",
     "text": [
      "🔍 CORRELATION ANALYSIS\n",
      "==================================================\n",
      "📊 Analyzing 8 numeric variables\n",
      "🎯 Primary target: sales\n",
      "📋 Variables: ['store', 'dayofweek', 'sales', 'customers', 'open', 'week', 'quarter', 'year']\n",
      "\n",
      "📋 DETAILED CORRELATION ANALYSIS\n",
      "==================================================\n",
      "\n",
      "🎯 TOP CORRELATIONS WITH SALES:\n",
      "   customers       | +0.896 | Very Strong  | Positive\n",
      "   open            | +0.679 | Strong       | Positive\n",
      "   dayofweek       | -0.461 | Moderate     | Negative\n",
      "   week            | +0.052 | Weak         | Positive\n",
      "   quarter         | +0.043 | Weak         | Positive\n",
      "\n",
      "🔗 STRONG INTER-VARIABLE CORRELATIONS:\n",
      "   week ↔ quarter: +0.942 (Very Strong)\n",
      "   sales ↔ customers: +0.896 (Very Strong)\n",
      "   sales ↔ open: +0.679 (Strong)\n",
      "   customers ↔ open: +0.618 (Strong)\n",
      "   dayofweek ↔ open: -0.527 (Strong)\n",
      "\n",
      "📊 SUMMARY STATISTICS:\n",
      "   • Mean correlation: 0.049\n",
      "   • Std correlation: 0.343\n",
      "   • Max correlation: 0.942\n",
      "   • Min correlation: -0.527\n",
      "   • Strong correlations (|r|>0.5): 5\n"
     ]
    },
    {
     "data": {
      "image/png": "[encoded data removed]",
      "text/plain": [
       "<Figure size 1600x1200 with 6 Axes>"
      ]
     },
     "metadata": {},
     "output_type": "display_data"
    }
   ],
   "source": [
    "# Enhanced correlation analysis\n",
    "results = enhanced_correlation_analysis(df_features, target_col='sales')"
   ]
  },
  {
   "cell_type": "markdown",
   "id": "81d4fee6-1cfd-4f02-9d1f-c4db3099b8f3",
   "metadata": {},
   "source": [
    "# Focused correlation matrix with only important features"
   ]
  },
  {
   "cell_type": "code",
   "execution_count": 12,
   "id": "05ffb53f-e6c4-49a9-9de1-6feb8dde340a",
   "metadata": {},
   "outputs": [
    {
     "name": "stdout",
     "output_type": "stream",
     "text": [
      "🔍 CORRELATION ANALYSIS\n",
      "==================================================\n",
      "📊 Analyzing 4 numeric variables\n",
      "🎯 Primary target: sales\n",
      "📋 Variables: ['dayofweek', 'customers', 'open', 'sales']\n",
      "\n",
      "📋 DETAILED CORRELATION ANALYSIS\n",
      "==================================================\n",
      "\n",
      "🎯 TOP CORRELATIONS WITH SALES:\n",
      "   customers       | +0.896 | Very Strong  | Positive\n",
      "   open            | +0.679 | Strong       | Positive\n",
      "   dayofweek       | -0.461 | Moderate     | Negative\n",
      "\n",
      "🔗 STRONG INTER-VARIABLE CORRELATIONS:\n",
      "   customers ↔ sales: +0.896 (Very Strong)\n",
      "   open ↔ sales: +0.679 (Strong)\n",
      "   customers ↔ open: +0.618 (Strong)\n",
      "   dayofweek ↔ open: -0.527 (Strong)\n",
      "\n",
      "📊 SUMMARY STATISTICS:\n",
      "   • Mean correlation: 0.136\n",
      "   • Std correlation: 0.602\n",
      "   • Max correlation: 0.896\n",
      "   • Min correlation: -0.527\n",
      "   • Strong correlations (|r|>0.5): 4\n"
     ]
    },
    {
     "data": {
      "image/png": "[encoded data removed]",
      "text/plain": [
       "<Figure size 1200x1000 with 6 Axes>"
      ]
     },
     "metadata": {},
     "output_type": "display_data"
    }
   ],
   "source": [
    "# Focused correlation matrix with only important features\n",
    "if important_features:\n",
    "    important_features.append('sales')  # Add target back\n",
    "    focused_results = enhanced_correlation_analysis(df_features[important_features], target_col='sales', figsize=(12, 10))"
   ]
  },
  {
   "cell_type": "markdown",
   "id": "40735711-720e-4a0f-bf2a-f8176805939c",
   "metadata": {},
   "source": [
    "### 3.2 Percentage Distribution per Holiday Type"
   ]
  },
  {
   "cell_type": "code",
   "execution_count": 13,
   "id": "e62b4ce0-196d-4a9e-9a72-901539d55e84",
   "metadata": {},
   "outputs": [
    {
     "data": {
      "application/vnd.plotly.v1+json": {
       "config": {
        "plotlyServerURL": "https://plot.ly"
       },
       "data": [
        {
         "hole": 0.3,
         "insidetextorientation": "radial",
         "labels": [
          "Normal Day",
          "Public",
          "Easter",
          "Christmas"
         ],
         "marker": {
          "colors": [
           "#FF6B6B",
           "#4ECDC4",
           "#45B7D1",
           "#96CEB4",
           "#FFEAA7"
          ],
          "line": {
           "color": "#FFFFFF",
           "width": 2
          }
         },
         "pull": [
          0.1,
          0,
          0,
          0
         ],
         "textfont": {
          "size": 10
         },
         "textinfo": "label+percent",
         "textposition": "outside",
         "type": "pie",
         "values": {
          "bdata": "KoUOACRPAAAiGgAABBAAAA==",
          "dtype": "i4"
         }
        }
       ],
       "layout": {
        "annotations": [
         {
          "align": "left",
          "bgcolor": "rgba(255,255,255,0.8)",
          "bordercolor": "gray",
          "borderwidth": 1,
          "font": {
           "color": "gray",
           "size": 10
          },
          "showarrow": false,
          "text": "Total Records: 982,644<br>Holiday Records: 982,644 (100.0%)",
          "x": 0.02,
          "xref": "paper",
          "y": 0.02,
          "yref": "paper"
         }
        ],
        "font": {
         "size": 12
        },
        "height": 500,
        "legend": {
         "orientation": "v",
         "x": 1.01,
         "xanchor": "left",
         "y": 0.5,
         "yanchor": "middle"
        },
        "margin": {
         "b": 60,
         "l": 80,
         "r": 180,
         "t": 80
        },
        "showlegend": true,
        "template": {
         "data": {
          "bar": [
           {
            "error_x": {
             "color": "#2a3f5f"
            },
            "error_y": {
             "color": "#2a3f5f"
            },
            "marker": {
             "line": {
              "color": "#E5ECF6",
              "width": 0.5
             },
             "pattern": {
              "fillmode": "overlay",
              "size": 10,
              "solidity": 0.2
             }
            },
            "type": "bar"
           }
          ],
          "barpolar": [
           {
            "marker": {
             "line": {
              "color": "#E5ECF6",
              "width": 0.5
             },
             "pattern": {
              "fillmode": "overlay",
              "size": 10,
              "solidity": 0.2
             }
            },
            "type": "barpolar"
           }
          ],
          "carpet": [
           {
            "aaxis": {
             "endlinecolor": "#2a3f5f",
             "gridcolor": "white",
             "linecolor": "white",
             "minorgridcolor": "white",
             "startlinecolor": "#2a3f5f"
            },
            "baxis": {
             "endlinecolor": "#2a3f5f",
             "gridcolor": "white",
             "linecolor": "white",
             "minorgridcolor": "white",
             "startlinecolor": "#2a3f5f"
            },
            "type": "carpet"
           }
          ],
          "choropleth": [
           {
            "colorbar": {
             "outlinewidth": 0,
             "ticks": ""
            },
            "type": "choropleth"
           }
          ],
          "contour": [
           {
            "colorbar": {
             "outlinewidth": 0,
             "ticks": ""
            },
            "colorscale": [
             [
              0,
              "#0d0887"
             ],
             [
              0.1111111111111111,
              "#46039f"
             ],
             [
              0.2222222222222222,
              "#7201a8"
             ],
             [
              0.3333333333333333,
              "#9c179e"
             ],
             [
              0.4444444444444444,
              "#bd3786"
             ],
             [
              0.5555555555555556,
              "#d8576b"
             ],
             [
              0.6666666666666666,
              "#ed7953"
             ],
             [
              0.7777777777777778,
              "#fb9f3a"
             ],
             [
              0.8888888888888888,
              "#fdca26"
             ],
             [
              1,
              "#f0f921"
             ]
            ],
            "type": "contour"
           }
          ],
          "contourcarpet": [
           {
            "colorbar": {
             "outlinewidth": 0,
             "ticks": ""
            },
            "type": "contourcarpet"
           }
          ],
          "heatmap": [
           {
            "colorbar": {
             "outlinewidth": 0,
             "ticks": ""
            },
            "colorscale": [
             [
              0,
              "#0d0887"
             ],
             [
              0.1111111111111111,
              "#46039f"
             ],
             [
              0.2222222222222222,
              "#7201a8"
             ],
             [
              0.3333333333333333,
              "#9c179e"
             ],
             [
              0.4444444444444444,
              "#bd3786"
             ],
             [
              0.5555555555555556,
              "#d8576b"
             ],
             [
              0.6666666666666666,
              "#ed7953"
             ],
             [
              0.7777777777777778,
              "#fb9f3a"
             ],
             [
              0.8888888888888888,
              "#fdca26"
             ],
             [
              1,
              "#f0f921"
             ]
            ],
            "type": "heatmap"
           }
          ],
          "histogram": [
           {
            "marker": {
             "pattern": {
              "fillmode": "overlay",
              "size": 10,
              "solidity": 0.2
             }
            },
            "type": "histogram"
           }
          ],
          "histogram2d": [
           {
            "colorbar": {
             "outlinewidth": 0,
             "ticks": ""
            },
            "colorscale": [
             [
              0,
              "#0d0887"
             ],
             [
              0.1111111111111111,
              "#46039f"
             ],
             [
              0.2222222222222222,
              "#7201a8"
             ],
             [
              0.3333333333333333,
              "#9c179e"
             ],
             [
              0.4444444444444444,
              "#bd3786"
             ],
             [
              0.5555555555555556,
              "#d8576b"
             ],
             [
              0.6666666666666666,
              "#ed7953"
             ],
             [
              0.7777777777777778,
              "#fb9f3a"
             ],
             [
              0.8888888888888888,
              "#fdca26"
             ],
             [
              1,
              "#f0f921"
             ]
            ],
            "type": "histogram2d"
           }
          ],
          "histogram2dcontour": [
           {
            "colorbar": {
             "outlinewidth": 0,
             "ticks": ""
            },
            "colorscale": [
             [
              0,
              "#0d0887"
             ],
             [
              0.1111111111111111,
              "#46039f"
             ],
             [
              0.2222222222222222,
              "#7201a8"
             ],
             [
              0.3333333333333333,
              "#9c179e"
             ],
             [
              0.4444444444444444,
              "#bd3786"
             ],
             [
              0.5555555555555556,
              "#d8576b"
             ],
             [
              0.6666666666666666,
              "#ed7953"
             ],
             [
              0.7777777777777778,
              "#fb9f3a"
             ],
             [
              0.8888888888888888,
              "#fdca26"
             ],
             [
              1,
              "#f0f921"
             ]
            ],
            "type": "histogram2dcontour"
           }
          ],
          "mesh3d": [
           {
            "colorbar": {
             "outlinewidth": 0,
             "ticks": ""
            },
            "type": "mesh3d"
           }
          ],
          "parcoords": [
           {
            "line": {
             "colorbar": {
              "outlinewidth": 0,
              "ticks": ""
             }
            },
            "type": "parcoords"
           }
          ],
          "pie": [
           {
            "automargin": true,
            "type": "pie"
           }
          ],
          "scatter": [
           {
            "fillpattern": {
             "fillmode": "overlay",
             "size": 10,
             "solidity": 0.2
            },
            "type": "scatter"
           }
          ],
          "scatter3d": [
           {
            "line": {
             "colorbar": {
              "outlinewidth": 0,
              "ticks": ""
             }
            },
            "marker": {
             "colorbar": {
              "outlinewidth": 0,
              "ticks": ""
             }
            },
            "type": "scatter3d"
           }
          ],
          "scattercarpet": [
           {
            "marker": {
             "colorbar": {
              "outlinewidth": 0,
              "ticks": ""
             }
            },
            "type": "scattercarpet"
           }
          ],
          "scattergeo": [
           {
            "marker": {
             "colorbar": {
              "outlinewidth": 0,
              "ticks": ""
             }
            },
            "type": "scattergeo"
           }
          ],
          "scattergl": [
           {
            "marker": {
             "colorbar": {
              "outlinewidth": 0,
              "ticks": ""
             }
            },
            "type": "scattergl"
           }
          ],
          "scattermap": [
           {
            "marker": {
             "colorbar": {
              "outlinewidth": 0,
              "ticks": ""
             }
            },
            "type": "scattermap"
           }
          ],
          "scattermapbox": [
           {
            "marker": {
             "colorbar": {
              "outlinewidth": 0,
              "ticks": ""
             }
            },
            "type": "scattermapbox"
           }
          ],
          "scatterpolar": [
           {
            "marker": {
             "colorbar": {
              "outlinewidth": 0,
              "ticks": ""
             }
            },
            "type": "scatterpolar"
           }
          ],
          "scatterpolargl": [
           {
            "marker": {
             "colorbar": {
              "outlinewidth": 0,
              "ticks": ""
             }
            },
            "type": "scatterpolargl"
           }
          ],
          "scatterternary": [
           {
            "marker": {
             "colorbar": {
              "outlinewidth": 0,
              "ticks": ""
             }
            },
            "type": "scatterternary"
           }
          ],
          "surface": [
           {
            "colorbar": {
             "outlinewidth": 0,
             "ticks": ""
            },
            "colorscale": [
             [
              0,
              "#0d0887"
             ],
             [
              0.1111111111111111,
              "#46039f"
             ],
             [
              0.2222222222222222,
              "#7201a8"
             ],
             [
              0.3333333333333333,
              "#9c179e"
             ],
             [
              0.4444444444444444,
              "#bd3786"
             ],
             [
              0.5555555555555556,
              "#d8576b"
             ],
             [
              0.6666666666666666,
              "#ed7953"
             ],
             [
              0.7777777777777778,
              "#fb9f3a"
             ],
             [
              0.8888888888888888,
              "#fdca26"
             ],
             [
              1,
              "#f0f921"
             ]
            ],
            "type": "surface"
           }
          ],
          "table": [
           {
            "cells": {
             "fill": {
              "color": "#EBF0F8"
             },
             "line": {
              "color": "white"
             }
            },
            "header": {
             "fill": {
              "color": "#C8D4E3"
             },
             "line": {
              "color": "white"
             }
            },
            "type": "table"
           }
          ]
         },
         "layout": {
          "annotationdefaults": {
           "arrowcolor": "#2a3f5f",
           "arrowhead": 0,
           "arrowwidth": 1
          },
          "autotypenumbers": "strict",
          "coloraxis": {
           "colorbar": {
            "outlinewidth": 0,
            "ticks": ""
           }
          },
          "colorscale": {
           "diverging": [
            [
             0,
             "#8e0152"
            ],
            [
             0.1,
             "#c51b7d"
            ],
            [
             0.2,
             "#de77ae"
            ],
            [
             0.3,
             "#f1b6da"
            ],
            [
             0.4,
             "#fde0ef"
            ],
            [
             0.5,
             "#f7f7f7"
            ],
            [
             0.6,
             "#e6f5d0"
            ],
            [
             0.7,
             "#b8e186"
            ],
            [
             0.8,
             "#7fbc41"
            ],
            [
             0.9,
             "#4d9221"
            ],
            [
             1,
             "#276419"
            ]
           ],
           "sequential": [
            [
             0,
             "#0d0887"
            ],
            [
             0.1111111111111111,
             "#46039f"
            ],
            [
             0.2222222222222222,
             "#7201a8"
            ],
            [
             0.3333333333333333,
             "#9c179e"
            ],
            [
             0.4444444444444444,
             "#bd3786"
            ],
            [
             0.5555555555555556,
             "#d8576b"
            ],
            [
             0.6666666666666666,
             "#ed7953"
            ],
            [
             0.7777777777777778,
             "#fb9f3a"
            ],
            [
             0.8888888888888888,
             "#fdca26"
            ],
            [
             1,
             "#f0f921"
            ]
           ],
           "sequentialminus": [
            [
             0,
             "#0d0887"
            ],
            [
             0.1111111111111111,
             "#46039f"
            ],
            [
             0.2222222222222222,
             "#7201a8"
            ],
            [
             0.3333333333333333,
             "#9c179e"
            ],
            [
             0.4444444444444444,
             "#bd3786"
            ],
            [
             0.5555555555555556,
             "#d8576b"
            ],
            [
             0.6666666666666666,
             "#ed7953"
            ],
            [
             0.7777777777777778,
             "#fb9f3a"
            ],
            [
             0.8888888888888888,
             "#fdca26"
            ],
            [
             1,
             "#f0f921"
            ]
           ]
          },
          "colorway": [
           "#636efa",
           "#EF553B",
           "#00cc96",
           "#ab63fa",
           "#FFA15A",
           "#19d3f3",
           "#FF6692",
           "#B6E880",
           "#FF97FF",
           "#FECB52"
          ],
          "font": {
           "color": "#2a3f5f"
          },
          "geo": {
           "bgcolor": "white",
           "lakecolor": "white",
           "landcolor": "#E5ECF6",
           "showlakes": true,
           "showland": true,
           "subunitcolor": "white"
          },
          "hoverlabel": {
           "align": "left"
          },
          "hovermode": "closest",
          "mapbox": {
           "style": "light"
          },
          "paper_bgcolor": "white",
          "plot_bgcolor": "#E5ECF6",
          "polar": {
           "angularaxis": {
            "gridcolor": "white",
            "linecolor": "white",
            "ticks": ""
           },
           "bgcolor": "#E5ECF6",
           "radialaxis": {
            "gridcolor": "white",
            "linecolor": "white",
            "ticks": ""
           }
          },
          "scene": {
           "xaxis": {
            "backgroundcolor": "#E5ECF6",
            "gridcolor": "white",
            "gridwidth": 2,
            "linecolor": "white",
            "showbackground": true,
            "ticks": "",
            "zerolinecolor": "white"
           },
           "yaxis": {
            "backgroundcolor": "#E5ECF6",
            "gridcolor": "white",
            "gridwidth": 2,
            "linecolor": "white",
            "showbackground": true,
            "ticks": "",
            "zerolinecolor": "white"
           },
           "zaxis": {
            "backgroundcolor": "#E5ECF6",
            "gridcolor": "white",
            "gridwidth": 2,
            "linecolor": "white",
            "showbackground": true,
            "ticks": "",
            "zerolinecolor": "white"
           }
          },
          "shapedefaults": {
           "line": {
            "color": "#2a3f5f"
           }
          },
          "ternary": {
           "aaxis": {
            "gridcolor": "white",
            "linecolor": "white",
            "ticks": ""
           },
           "baxis": {
            "gridcolor": "white",
            "linecolor": "white",
            "ticks": ""
           },
           "bgcolor": "#E5ECF6",
           "caxis": {
            "gridcolor": "white",
            "linecolor": "white",
            "ticks": ""
           }
          },
          "title": {
           "x": 0.05
          },
          "xaxis": {
           "automargin": true,
           "gridcolor": "white",
           "linecolor": "white",
           "ticks": "",
           "title": {
            "standoff": 15
           },
           "zerolinecolor": "white",
           "zerolinewidth": 2
          },
          "yaxis": {
           "automargin": true,
           "gridcolor": "white",
           "linecolor": "white",
           "ticks": "",
           "title": {
            "standoff": 15
           },
           "zerolinecolor": "white",
           "zerolinewidth": 2
          }
         }
        },
        "title": {
         "font": {
          "family": "Arial, sans-serif",
          "size": 18
         },
         "text": "Holiday Type Distribution",
         "x": 0.02,
         "xanchor": "left",
         "y": 0.95,
         "yanchor": "top"
        },
        "width": 800
       }
      }
     },
     "metadata": {},
     "output_type": "display_data"
    },
    {
     "name": "stdout",
     "output_type": "stream",
     "text": [
      "\n",
      "Holiday Type Value Counts:\n",
      "------------------------------\n",
      "Normal Day: 951,594 (96.84%)\n",
      "Public: 20,260 (2.06%)\n",
      "Easter: 6,690 (0.68%)\n",
      "Christmas: 4,100 (0.42%)\n",
      "\n",
      "Total: 982,644 records\n"
     ]
    }
   ],
   "source": [
    "\n",
    "# Get value counts efficiently\n",
    "value_counts = df_features['stateholiday'].value_counts()\n",
    "values = value_counts.values\n",
    "labels = value_counts.index.tolist()\n",
    "\n",
    "# Use original labels since holidaytype is already mapped from stateholiday\n",
    "readable_labels = [str(label) for label in labels]\n",
    "\n",
    "# Create pie chart with enhanced styling\n",
    "fig = go.Figure(data=go.Pie(\n",
    "    values=values,\n",
    "    labels=readable_labels,\n",
    "    pull=[0.1 if i == 0 else 0 for i in range(len(values))],  # Explode largest slice\n",
    "    hole=0.3,  # Donut chart for better readability\n",
    "    textinfo='label+percent',\n",
    "    textposition='outside',\n",
    "    textfont=dict(size=10),\n",
    "    insidetextorientation='radial',\n",
    "    marker=dict(\n",
    "        colors=['#FF6B6B', '#4ECDC4', '#45B7D1', '#96CEB4', '#FFEAA7'],\n",
    "        line=dict(color='#FFFFFF', width=2)\n",
    "    )\n",
    "))\n",
    "\n",
    "# Enhanced layout\n",
    "fig.update_layout(\n",
    "    title={\n",
    "        'text': 'Holiday Type Distribution',\n",
    "        'x': 0.02,  # Position on the left side\n",
    "        'xanchor': 'left',\n",
    "        'y': 0.95,  # Position at the top\n",
    "        'yanchor': 'top',\n",
    "        'font': {'size': 18, 'family': 'Arial, sans-serif'}\n",
    "    },\n",
    "    font=dict(size=12),\n",
    "    showlegend=True,\n",
    "    legend=dict(\n",
    "        orientation=\"v\",\n",
    "        yanchor=\"middle\",\n",
    "        y=0.5,\n",
    "        xanchor=\"left\",\n",
    "        x=1.01\n",
    "    ),\n",
    "    margin=dict(t=80, b=60, l=80, r=180),\n",
    "    width=800,\n",
    "    height=500\n",
    ")\n",
    "\n",
    "# Add summary statistics positioned to avoid obstruction\n",
    "total_records = len(df_features)\n",
    "holiday_records = len(df_features[df_features['stateholiday'] != 0])\n",
    "holiday_percentage = (holiday_records / total_records) * 100\n",
    "\n",
    "fig.add_annotation(\n",
    "    text=f\"Total Records: {total_records:,}<br>Holiday Records: {holiday_records:,} ({holiday_percentage:.1f}%)\",\n",
    "    xref=\"paper\", yref=\"paper\",\n",
    "    x=0.02, y=0.02,  # Bottom left corner\n",
    "    showarrow=False,\n",
    "    font=dict(size=10, color=\"gray\"),\n",
    "    align=\"left\",\n",
    "    bgcolor=\"rgba(255,255,255,0.8)\",  # Semi-transparent background\n",
    "    bordercolor=\"gray\",\n",
    "    borderwidth=1\n",
    ")\n",
    "\n",
    "fig.show()\n",
    "\n",
    "# Display value counts for reference\n",
    "print(\"\\nHoliday Type Value Counts:\")\n",
    "print(\"-\" * 30)\n",
    "for label, count in zip(readable_labels, values):\n",
    "    percentage = (count / total_records) * 100\n",
    "    print(f\"{label}: {count:,} ({percentage:.2f}%)\")\n",
    "print(f\"\\nTotal: {total_records:,} records\")"
   ]
  },
  {
   "cell_type": "markdown",
   "id": "806d8342-9812-4d62-b71d-194340e174d9",
   "metadata": {},
   "source": [
    "### 3.3 Percentage Distribution per School Holiday"
   ]
  },
  {
   "cell_type": "code",
   "execution_count": 14,
   "id": "429b99cf-cc94-4ee4-94bc-95a0d9b2259d",
   "metadata": {},
   "outputs": [
    {
     "data": {
      "application/vnd.plotly.v1+json": {
       "config": {
        "plotlyServerURL": "https://plot.ly"
       },
       "data": [
        {
         "hole": 0.3,
         "labels": [
          "No School Holiday",
          "School Holiday"
         ],
         "marker": {
          "colors": [
           "#FF6B6B",
           "#4ECDC4"
          ],
          "line": {
           "color": "#FFFFFF",
           "width": 2
          }
         },
         "pull": [
          0.1,
          0
         ],
         "textinfo": "label+percent",
         "textposition": "auto",
         "type": "pie",
         "values": {
          "bdata": "hGoMAPCTAgA=",
          "dtype": "i4"
         }
        }
       ],
       "layout": {
        "annotations": [
         {
          "font": {
           "color": "gray",
           "size": 10
          },
          "showarrow": false,
          "text": "Total Records: 982,644",
          "x": 0.5,
          "xref": "paper",
          "y": -0.1,
          "yref": "paper"
         }
        ],
        "font": {
         "size": 12
        },
        "height": 400,
        "legend": {
         "orientation": "v",
         "x": 1.01,
         "xanchor": "left",
         "y": 0.5,
         "yanchor": "middle"
        },
        "margin": {
         "b": 40,
         "l": 40,
         "r": 120,
         "t": 60
        },
        "showlegend": true,
        "template": {
         "data": {
          "bar": [
           {
            "error_x": {
             "color": "#2a3f5f"
            },
            "error_y": {
             "color": "#2a3f5f"
            },
            "marker": {
             "line": {
              "color": "#E5ECF6",
              "width": 0.5
             },
             "pattern": {
              "fillmode": "overlay",
              "size": 10,
              "solidity": 0.2
             }
            },
            "type": "bar"
           }
          ],
          "barpolar": [
           {
            "marker": {
             "line": {
              "color": "#E5ECF6",
              "width": 0.5
             },
             "pattern": {
              "fillmode": "overlay",
              "size": 10,
              "solidity": 0.2
             }
            },
            "type": "barpolar"
           }
          ],
          "carpet": [
           {
            "aaxis": {
             "endlinecolor": "#2a3f5f",
             "gridcolor": "white",
             "linecolor": "white",
             "minorgridcolor": "white",
             "startlinecolor": "#2a3f5f"
            },
            "baxis": {
             "endlinecolor": "#2a3f5f",
             "gridcolor": "white",
             "linecolor": "white",
             "minorgridcolor": "white",
             "startlinecolor": "#2a3f5f"
            },
            "type": "carpet"
           }
          ],
          "choropleth": [
           {
            "colorbar": {
             "outlinewidth": 0,
             "ticks": ""
            },
            "type": "choropleth"
           }
          ],
          "contour": [
           {
            "colorbar": {
             "outlinewidth": 0,
             "ticks": ""
            },
            "colorscale": [
             [
              0,
              "#0d0887"
             ],
             [
              0.1111111111111111,
              "#46039f"
             ],
             [
              0.2222222222222222,
              "#7201a8"
             ],
             [
              0.3333333333333333,
              "#9c179e"
             ],
             [
              0.4444444444444444,
              "#bd3786"
             ],
             [
              0.5555555555555556,
              "#d8576b"
             ],
             [
              0.6666666666666666,
              "#ed7953"
             ],
             [
              0.7777777777777778,
              "#fb9f3a"
             ],
             [
              0.8888888888888888,
              "#fdca26"
             ],
             [
              1,
              "#f0f921"
             ]
            ],
            "type": "contour"
           }
          ],
          "contourcarpet": [
           {
            "colorbar": {
             "outlinewidth": 0,
             "ticks": ""
            },
            "type": "contourcarpet"
           }
          ],
          "heatmap": [
           {
            "colorbar": {
             "outlinewidth": 0,
             "ticks": ""
            },
            "colorscale": [
             [
              0,
              "#0d0887"
             ],
             [
              0.1111111111111111,
              "#46039f"
             ],
             [
              0.2222222222222222,
              "#7201a8"
             ],
             [
              0.3333333333333333,
              "#9c179e"
             ],
             [
              0.4444444444444444,
              "#bd3786"
             ],
             [
              0.5555555555555556,
              "#d8576b"
             ],
             [
              0.6666666666666666,
              "#ed7953"
             ],
             [
              0.7777777777777778,
              "#fb9f3a"
             ],
             [
              0.8888888888888888,
              "#fdca26"
             ],
             [
              1,
              "#f0f921"
             ]
            ],
            "type": "heatmap"
           }
          ],
          "histogram": [
           {
            "marker": {
             "pattern": {
              "fillmode": "overlay",
              "size": 10,
              "solidity": 0.2
             }
            },
            "type": "histogram"
           }
          ],
          "histogram2d": [
           {
            "colorbar": {
             "outlinewidth": 0,
             "ticks": ""
            },
            "colorscale": [
             [
              0,
              "#0d0887"
             ],
             [
              0.1111111111111111,
              "#46039f"
             ],
             [
              0.2222222222222222,
              "#7201a8"
             ],
             [
              0.3333333333333333,
              "#9c179e"
             ],
             [
              0.4444444444444444,
              "#bd3786"
             ],
             [
              0.5555555555555556,
              "#d8576b"
             ],
             [
              0.6666666666666666,
              "#ed7953"
             ],
             [
              0.7777777777777778,
              "#fb9f3a"
             ],
             [
              0.8888888888888888,
              "#fdca26"
             ],
             [
              1,
              "#f0f921"
             ]
            ],
            "type": "histogram2d"
           }
          ],
          "histogram2dcontour": [
           {
            "colorbar": {
             "outlinewidth": 0,
             "ticks": ""
            },
            "colorscale": [
             [
              0,
              "#0d0887"
             ],
             [
              0.1111111111111111,
              "#46039f"
             ],
             [
              0.2222222222222222,
              "#7201a8"
             ],
             [
              0.3333333333333333,
              "#9c179e"
             ],
             [
              0.4444444444444444,
              "#bd3786"
             ],
             [
              0.5555555555555556,
              "#d8576b"
             ],
             [
              0.6666666666666666,
              "#ed7953"
             ],
             [
              0.7777777777777778,
              "#fb9f3a"
             ],
             [
              0.8888888888888888,
              "#fdca26"
             ],
             [
              1,
              "#f0f921"
             ]
            ],
            "type": "histogram2dcontour"
           }
          ],
          "mesh3d": [
           {
            "colorbar": {
             "outlinewidth": 0,
             "ticks": ""
            },
            "type": "mesh3d"
           }
          ],
          "parcoords": [
           {
            "line": {
             "colorbar": {
              "outlinewidth": 0,
              "ticks": ""
             }
            },
            "type": "parcoords"
           }
          ],
          "pie": [
           {
            "automargin": true,
            "type": "pie"
           }
          ],
          "scatter": [
           {
            "fillpattern": {
             "fillmode": "overlay",
             "size": 10,
             "solidity": 0.2
            },
            "type": "scatter"
           }
          ],
          "scatter3d": [
           {
            "line": {
             "colorbar": {
              "outlinewidth": 0,
              "ticks": ""
             }
            },
            "marker": {
             "colorbar": {
              "outlinewidth": 0,
              "ticks": ""
             }
            },
            "type": "scatter3d"
           }
          ],
          "scattercarpet": [
           {
            "marker": {
             "colorbar": {
              "outlinewidth": 0,
              "ticks": ""
             }
            },
            "type": "scattercarpet"
           }
          ],
          "scattergeo": [
           {
            "marker": {
             "colorbar": {
              "outlinewidth": 0,
              "ticks": ""
             }
            },
            "type": "scattergeo"
           }
          ],
          "scattergl": [
           {
            "marker": {
             "colorbar": {
              "outlinewidth": 0,
              "ticks": ""
             }
            },
            "type": "scattergl"
           }
          ],
          "scattermap": [
           {
            "marker": {
             "colorbar": {
              "outlinewidth": 0,
              "ticks": ""
             }
            },
            "type": "scattermap"
           }
          ],
          "scattermapbox": [
           {
            "marker": {
             "colorbar": {
              "outlinewidth": 0,
              "ticks": ""
             }
            },
            "type": "scattermapbox"
           }
          ],
          "scatterpolar": [
           {
            "marker": {
             "colorbar": {
              "outlinewidth": 0,
              "ticks": ""
             }
            },
            "type": "scatterpolar"
           }
          ],
          "scatterpolargl": [
           {
            "marker": {
             "colorbar": {
              "outlinewidth": 0,
              "ticks": ""
             }
            },
            "type": "scatterpolargl"
           }
          ],
          "scatterternary": [
           {
            "marker": {
             "colorbar": {
              "outlinewidth": 0,
              "ticks": ""
             }
            },
            "type": "scatterternary"
           }
          ],
          "surface": [
           {
            "colorbar": {
             "outlinewidth": 0,
             "ticks": ""
            },
            "colorscale": [
             [
              0,
              "#0d0887"
             ],
             [
              0.1111111111111111,
              "#46039f"
             ],
             [
              0.2222222222222222,
              "#7201a8"
             ],
             [
              0.3333333333333333,
              "#9c179e"
             ],
             [
              0.4444444444444444,
              "#bd3786"
             ],
             [
              0.5555555555555556,
              "#d8576b"
             ],
             [
              0.6666666666666666,
              "#ed7953"
             ],
             [
              0.7777777777777778,
              "#fb9f3a"
             ],
             [
              0.8888888888888888,
              "#fdca26"
             ],
             [
              1,
              "#f0f921"
             ]
            ],
            "type": "surface"
           }
          ],
          "table": [
           {
            "cells": {
             "fill": {
              "color": "#EBF0F8"
             },
             "line": {
              "color": "white"
             }
            },
            "header": {
             "fill": {
              "color": "#C8D4E3"
             },
             "line": {
              "color": "white"
             }
            },
            "type": "table"
           }
          ]
         },
         "layout": {
          "annotationdefaults": {
           "arrowcolor": "#2a3f5f",
           "arrowhead": 0,
           "arrowwidth": 1
          },
          "autotypenumbers": "strict",
          "coloraxis": {
           "colorbar": {
            "outlinewidth": 0,
            "ticks": ""
           }
          },
          "colorscale": {
           "diverging": [
            [
             0,
             "#8e0152"
            ],
            [
             0.1,
             "#c51b7d"
            ],
            [
             0.2,
             "#de77ae"
            ],
            [
             0.3,
             "#f1b6da"
            ],
            [
             0.4,
             "#fde0ef"
            ],
            [
             0.5,
             "#f7f7f7"
            ],
            [
             0.6,
             "#e6f5d0"
            ],
            [
             0.7,
             "#b8e186"
            ],
            [
             0.8,
             "#7fbc41"
            ],
            [
             0.9,
             "#4d9221"
            ],
            [
             1,
             "#276419"
            ]
           ],
           "sequential": [
            [
             0,
             "#0d0887"
            ],
            [
             0.1111111111111111,
             "#46039f"
            ],
            [
             0.2222222222222222,
             "#7201a8"
            ],
            [
             0.3333333333333333,
             "#9c179e"
            ],
            [
             0.4444444444444444,
             "#bd3786"
            ],
            [
             0.5555555555555556,
             "#d8576b"
            ],
            [
             0.6666666666666666,
             "#ed7953"
            ],
            [
             0.7777777777777778,
             "#fb9f3a"
            ],
            [
             0.8888888888888888,
             "#fdca26"
            ],
            [
             1,
             "#f0f921"
            ]
           ],
           "sequentialminus": [
            [
             0,
             "#0d0887"
            ],
            [
             0.1111111111111111,
             "#46039f"
            ],
            [
             0.2222222222222222,
             "#7201a8"
            ],
            [
             0.3333333333333333,
             "#9c179e"
            ],
            [
             0.4444444444444444,
             "#bd3786"
            ],
            [
             0.5555555555555556,
             "#d8576b"
            ],
            [
             0.6666666666666666,
             "#ed7953"
            ],
            [
             0.7777777777777778,
             "#fb9f3a"
            ],
            [
             0.8888888888888888,
             "#fdca26"
            ],
            [
             1,
             "#f0f921"
            ]
           ]
          },
          "colorway": [
           "#636efa",
           "#EF553B",
           "#00cc96",
           "#ab63fa",
           "#FFA15A",
           "#19d3f3",
           "#FF6692",
           "#B6E880",
           "#FF97FF",
           "#FECB52"
          ],
          "font": {
           "color": "#2a3f5f"
          },
          "geo": {
           "bgcolor": "white",
           "lakecolor": "white",
           "landcolor": "#E5ECF6",
           "showlakes": true,
           "showland": true,
           "subunitcolor": "white"
          },
          "hoverlabel": {
           "align": "left"
          },
          "hovermode": "closest",
          "mapbox": {
           "style": "light"
          },
          "paper_bgcolor": "white",
          "plot_bgcolor": "#E5ECF6",
          "polar": {
           "angularaxis": {
            "gridcolor": "white",
            "linecolor": "white",
            "ticks": ""
           },
           "bgcolor": "#E5ECF6",
           "radialaxis": {
            "gridcolor": "white",
            "linecolor": "white",
            "ticks": ""
           }
          },
          "scene": {
           "xaxis": {
            "backgroundcolor": "#E5ECF6",
            "gridcolor": "white",
            "gridwidth": 2,
            "linecolor": "white",
            "showbackground": true,
            "ticks": "",
            "zerolinecolor": "white"
           },
           "yaxis": {
            "backgroundcolor": "#E5ECF6",
            "gridcolor": "white",
            "gridwidth": 2,
            "linecolor": "white",
            "showbackground": true,
            "ticks": "",
            "zerolinecolor": "white"
           },
           "zaxis": {
            "backgroundcolor": "#E5ECF6",
            "gridcolor": "white",
            "gridwidth": 2,
            "linecolor": "white",
            "showbackground": true,
            "ticks": "",
            "zerolinecolor": "white"
           }
          },
          "shapedefaults": {
           "line": {
            "color": "#2a3f5f"
           }
          },
          "ternary": {
           "aaxis": {
            "gridcolor": "white",
            "linecolor": "white",
            "ticks": ""
           },
           "baxis": {
            "gridcolor": "white",
            "linecolor": "white",
            "ticks": ""
           },
           "bgcolor": "#E5ECF6",
           "caxis": {
            "gridcolor": "white",
            "linecolor": "white",
            "ticks": ""
           }
          },
          "title": {
           "x": 0.05
          },
          "xaxis": {
           "automargin": true,
           "gridcolor": "white",
           "linecolor": "white",
           "ticks": "",
           "title": {
            "standoff": 15
           },
           "zerolinecolor": "white",
           "zerolinewidth": 2
          },
          "yaxis": {
           "automargin": true,
           "gridcolor": "white",
           "linecolor": "white",
           "ticks": "",
           "title": {
            "standoff": 15
           },
           "zerolinecolor": "white",
           "zerolinewidth": 2
          }
         }
        },
        "title": {
         "font": {
          "family": "Arial, sans-serif",
          "size": 18
         },
         "text": "School Holiday Distribution",
         "x": 0.5,
         "xanchor": "center"
        },
        "width": 600
       }
      }
     },
     "metadata": {},
     "output_type": "display_data"
    }
   ],
   "source": [
    "import plotly.graph_objects as go\n",
    "import pandas as pd\n",
    "\n",
    "# Get value counts and create labels more efficiently\n",
    "value_counts = df_features['schoolholiday'].value_counts()\n",
    "values = value_counts.values\n",
    "labels = ['School Holiday' if x == 1 else 'No School Holiday' for x in value_counts.index]\n",
    "\n",
    "# Create pie chart with improved styling\n",
    "fig = go.Figure(data=go.Pie(\n",
    "    values=values,\n",
    "    labels=labels,\n",
    "    pull=[0.1, 0],  # Explode first slice\n",
    "    hole=0.3,  # Creates a donut chart for better readability\n",
    "    textinfo='label+percent',\n",
    "    textposition='auto',\n",
    "    marker=dict(\n",
    "        colors=['#FF6B6B', '#4ECDC4'],  # Custom colors\n",
    "        line=dict(color='#FFFFFF', width=2)\n",
    "    )\n",
    "))\n",
    "\n",
    "# Enhanced layout with better formatting\n",
    "fig.update_layout(\n",
    "    title={\n",
    "        'text': 'School Holiday Distribution',\n",
    "        'x': 0.5,  # Center the title\n",
    "        'xanchor': 'center',\n",
    "        'font': {'size': 18, 'family': 'Arial, sans-serif'}\n",
    "    },\n",
    "    font=dict(size=12),\n",
    "    showlegend=True,\n",
    "    legend=dict(\n",
    "        orientation=\"v\",\n",
    "        yanchor=\"middle\",\n",
    "        y=0.5,\n",
    "        xanchor=\"left\",\n",
    "        x=1.01\n",
    "    ),\n",
    "    margin=dict(t=60, b=40, l=40, r=120),\n",
    "    width=600,\n",
    "    height=400\n",
    ")\n",
    "\n",
    "# Add annotations for better context\n",
    "total_records = len(df_features)\n",
    "fig.add_annotation(\n",
    "    text=f\"Total Records: {total_records:,}\",\n",
    "    xref=\"paper\", yref=\"paper\",\n",
    "    x=0.5, y=-0.1,\n",
    "    showarrow=False,\n",
    "    font=dict(size=10, color=\"gray\")\n",
    ")\n",
    "\n",
    "fig.show()"
   ]
  },
  {
   "cell_type": "markdown",
   "id": "4b2474c7-19b6-4d23-80fa-1dc70a06089f",
   "metadata": {},
   "source": [
    "### 3.4 Sales Distribution"
   ]
  },
  {
   "cell_type": "code",
   "execution_count": 15,
   "id": "216ee0be-bc4a-424b-aedb-53ffa7c86542",
   "metadata": {},
   "outputs": [
    {
     "data": {
      "application/vnd.plotly.v1+json": {
       "config": {
        "plotlyServerURL": "https://plot.ly"
       },
       "data": [
        {
         "hovertemplate": "Sales Value=%{x}<br>Frequency=%{y}<br>Count=%{marker.color}<extra></extra>",
         "legendgroup": "",
         "marker": {
          "color": {
           "bdata": "OpICAHQBAAAsCAAAGxcAAIw2AABFZAAAnKMAACnhAACkDAEAMSMBAPUlAQCVEgEAQPUAAPLYAABJuQAAjpkAAAB+AAAYZwAAr1QAAPJDAAC1NgAAUisAAAwiAAA7GwAAJxYAAC8SAADCDgAAMgwAAAgKAADhCAAAXgcAAP8FAAA4BQAAxQQAAPcDAABgAwAAzgIAAGECAADyAQAArwEAAFEBAAAfAQAA+gAAAKoAAACFAAAAjgAAAFIAAABTAAAAXwAAADkAAAAwAAAAPAAAAC0AAAAhAAAAJAAAABgAAAAVAAAAGAAAAA4AAAAJAAAABgAAAAkAAAADAAAABgAAAAMAAAACAAAAAQAAAAIAAAACAAAABAAAAAEAAAAAAAAAAAAAAAAAAAAAAAAAAQAAAA==",
           "dtype": "i4"
          },
          "coloraxis": "coloraxis",
          "line": {
           "color": "white",
           "width": 0.5
          },
          "pattern": {
           "shape": ""
          }
         },
         "name": "",
         "orientation": "v",
         "showlegend": false,
         "textposition": "auto",
         "type": "bar",
         "x": {
          "bdata": "AAAAAAAwcUAAAAAAAMiJQAAAAAAAfJVAAAAAAAAUnkAAAAAAAFajQAAAAAAAoqdAAAAAAADuq0AAAAAAAB2wQAAAAAAAQ7JAAAAAAABptEAAAAAAAI+2QAAAAAAAtbhAAAAAAADbukAAAAAAAAG9QAAAAAAAJ79AAAAAAICmwEAAAAAAgLnBQAAAAACAzMJAAAAAAIDfw0AAAAAAgPLEQAAAAACABcZAAAAAAIAYx0AAAAAAgCvIQAAAAACAPslAAAAAAIBRykAAAAAAgGTLQAAAAACAd8xAAAAAAICKzUAAAAAAgJ3OQAAAAACAsM9AAAAAAMBh0EAAAAAAQOvQQAAAAADAdNFAAAAAAED+0UAAAAAAwIfSQAAAAABAEdNAAAAAAMCa00AAAAAAQCTUQAAAAADArdRAAAAAAEA31UAAAAAAwMDVQAAAAABAStZAAAAAAMDT1kAAAAAAQF3XQAAAAADA5tdAAAAAAEBw2EAAAAAAwPnYQAAAAABAg9lAAAAAAMAM2kAAAAAAQJbaQAAAAADAH9tAAAAAAECp20AAAAAAwDLcQAAAAABAvNxAAAAAAMBF3UAAAAAAQM/dQAAAAADAWN5AAAAAAEDi3kAAAAAAwGvfQAAAAABA9d9AAAAAAGA/4EAAAAAAIITgQAAAAADgyOBAAAAAAKAN4UAAAAAAYFLhQAAAAAAgl+FAAAAAAODb4UAAAAAAoCDiQAAAAABgZeJAAAAAACCq4kAAAAAA4O7iQAAAAACgM+NAAAAAAGB440AAAAAAIL3jQAAAAADgAeRAAAAAAKBG5EA=",
          "dtype": "f8"
         },
         "xaxis": "x",
         "y": {
          "bdata": "OpICAHQBAAAsCAAAGxcAAIw2AABFZAAAnKMAACnhAACkDAEAMSMBAPUlAQCVEgEAQPUAAPLYAABJuQAAjpkAAAB+AAAYZwAAr1QAAPJDAAC1NgAAUisAAAwiAAA7GwAAJxYAAC8SAADCDgAAMgwAAAgKAADhCAAAXgcAAP8FAAA4BQAAxQQAAPcDAABgAwAAzgIAAGECAADyAQAArwEAAFEBAAAfAQAA+gAAAKoAAACFAAAAjgAAAFIAAABTAAAAXwAAADkAAAAwAAAAPAAAAC0AAAAhAAAAJAAAABgAAAAVAAAAGAAAAA4AAAAJAAAABgAAAAkAAAADAAAABgAAAAMAAAACAAAAAQAAAAIAAAACAAAABAAAAAEAAAAAAAAAAAAAAAAAAAAAAAAAAQAAAA==",
          "dtype": "i4"
         },
         "yaxis": "y"
        }
       ],
       "layout": {
        "annotations": [
         {
          "align": "right",
          "bgcolor": "rgba(255,255,255,0.9)",
          "bordercolor": "gray",
          "borderpad": 8,
          "borderwidth": 1,
          "font": {
           "color": "black",
           "size": 10
          },
          "showarrow": false,
          "text": "Mean: 5,761<br>Median: 5,731<br>Std Dev: 3,858",
          "x": 0.98,
          "xanchor": "right",
          "xref": "paper",
          "y": 0.98,
          "yanchor": "top",
          "yref": "paper"
         },
         {
          "showarrow": false,
          "text": "Mean",
          "x": 5760.843201607093,
          "xanchor": "center",
          "xref": "x",
          "y": 1,
          "yanchor": "bottom",
          "yref": "y domain"
         },
         {
          "showarrow": false,
          "text": "Median",
          "x": 5731,
          "xanchor": "center",
          "xref": "x",
          "y": 1,
          "yanchor": "bottom",
          "yref": "y domain"
         }
        ],
        "bargap": 0.02,
        "barmode": "relative",
        "coloraxis": {
         "colorbar": {
          "title": {
           "text": "Count"
          }
         },
         "colorscale": [
          [
           0,
           "#440154"
          ],
          [
           0.1111111111111111,
           "#482878"
          ],
          [
           0.2222222222222222,
           "#3e4989"
          ],
          [
           0.3333333333333333,
           "#31688e"
          ],
          [
           0.4444444444444444,
           "#26828e"
          ],
          [
           0.5555555555555556,
           "#1f9e89"
          ],
          [
           0.6666666666666666,
           "#35b779"
          ],
          [
           0.7777777777777778,
           "#6ece58"
          ],
          [
           0.8888888888888888,
           "#b5de2b"
          ],
          [
           1,
           "#fde725"
          ]
         ]
        },
        "font": {
         "size": 12
        },
        "height": 600,
        "legend": {
         "tracegroupgap": 0
        },
        "margin": {
         "b": 60,
         "l": 60,
         "r": 60,
         "t": 80
        },
        "plot_bgcolor": "white",
        "shapes": [
         {
          "line": {
           "color": "red",
           "dash": "dash"
          },
          "type": "line",
          "x0": 5760.843201607093,
          "x1": 5760.843201607093,
          "xref": "x",
          "y0": 0,
          "y1": 1,
          "yref": "y domain"
         },
         {
          "line": {
           "color": "blue",
           "dash": "dot"
          },
          "type": "line",
          "x0": 5731,
          "x1": 5731,
          "xref": "x",
          "y0": 0,
          "y1": 1,
          "yref": "y domain"
         }
        ],
        "template": {
         "data": {
          "bar": [
           {
            "error_x": {
             "color": "#2a3f5f"
            },
            "error_y": {
             "color": "#2a3f5f"
            },
            "marker": {
             "line": {
              "color": "#E5ECF6",
              "width": 0.5
             },
             "pattern": {
              "fillmode": "overlay",
              "size": 10,
              "solidity": 0.2
             }
            },
            "type": "bar"
           }
          ],
          "barpolar": [
           {
            "marker": {
             "line": {
              "color": "#E5ECF6",
              "width": 0.5
             },
             "pattern": {
              "fillmode": "overlay",
              "size": 10,
              "solidity": 0.2
             }
            },
            "type": "barpolar"
           }
          ],
          "carpet": [
           {
            "aaxis": {
             "endlinecolor": "#2a3f5f",
             "gridcolor": "white",
             "linecolor": "white",
             "minorgridcolor": "white",
             "startlinecolor": "#2a3f5f"
            },
            "baxis": {
             "endlinecolor": "#2a3f5f",
             "gridcolor": "white",
             "linecolor": "white",
             "minorgridcolor": "white",
             "startlinecolor": "#2a3f5f"
            },
            "type": "carpet"
           }
          ],
          "choropleth": [
           {
            "colorbar": {
             "outlinewidth": 0,
             "ticks": ""
            },
            "type": "choropleth"
           }
          ],
          "contour": [
           {
            "colorbar": {
             "outlinewidth": 0,
             "ticks": ""
            },
            "colorscale": [
             [
              0,
              "#0d0887"
             ],
             [
              0.1111111111111111,
              "#46039f"
             ],
             [
              0.2222222222222222,
              "#7201a8"
             ],
             [
              0.3333333333333333,
              "#9c179e"
             ],
             [
              0.4444444444444444,
              "#bd3786"
             ],
             [
              0.5555555555555556,
              "#d8576b"
             ],
             [
              0.6666666666666666,
              "#ed7953"
             ],
             [
              0.7777777777777778,
              "#fb9f3a"
             ],
             [
              0.8888888888888888,
              "#fdca26"
             ],
             [
              1,
              "#f0f921"
             ]
            ],
            "type": "contour"
           }
          ],
          "contourcarpet": [
           {
            "colorbar": {
             "outlinewidth": 0,
             "ticks": ""
            },
            "type": "contourcarpet"
           }
          ],
          "heatmap": [
           {
            "colorbar": {
             "outlinewidth": 0,
             "ticks": ""
            },
            "colorscale": [
             [
              0,
              "#0d0887"
             ],
             [
              0.1111111111111111,
              "#46039f"
             ],
             [
              0.2222222222222222,
              "#7201a8"
             ],
             [
              0.3333333333333333,
              "#9c179e"
             ],
             [
              0.4444444444444444,
              "#bd3786"
             ],
             [
              0.5555555555555556,
              "#d8576b"
             ],
             [
              0.6666666666666666,
              "#ed7953"
             ],
             [
              0.7777777777777778,
              "#fb9f3a"
             ],
             [
              0.8888888888888888,
              "#fdca26"
             ],
             [
              1,
              "#f0f921"
             ]
            ],
            "type": "heatmap"
           }
          ],
          "histogram": [
           {
            "marker": {
             "pattern": {
              "fillmode": "overlay",
              "size": 10,
              "solidity": 0.2
             }
            },
            "type": "histogram"
           }
          ],
          "histogram2d": [
           {
            "colorbar": {
             "outlinewidth": 0,
             "ticks": ""
            },
            "colorscale": [
             [
              0,
              "#0d0887"
             ],
             [
              0.1111111111111111,
              "#46039f"
             ],
             [
              0.2222222222222222,
              "#7201a8"
             ],
             [
              0.3333333333333333,
              "#9c179e"
             ],
             [
              0.4444444444444444,
              "#bd3786"
             ],
             [
              0.5555555555555556,
              "#d8576b"
             ],
             [
              0.6666666666666666,
              "#ed7953"
             ],
             [
              0.7777777777777778,
              "#fb9f3a"
             ],
             [
              0.8888888888888888,
              "#fdca26"
             ],
             [
              1,
              "#f0f921"
             ]
            ],
            "type": "histogram2d"
           }
          ],
          "histogram2dcontour": [
           {
            "colorbar": {
             "outlinewidth": 0,
             "ticks": ""
            },
            "colorscale": [
             [
              0,
              "#0d0887"
             ],
             [
              0.1111111111111111,
              "#46039f"
             ],
             [
              0.2222222222222222,
              "#7201a8"
             ],
             [
              0.3333333333333333,
              "#9c179e"
             ],
             [
              0.4444444444444444,
              "#bd3786"
             ],
             [
              0.5555555555555556,
              "#d8576b"
             ],
             [
              0.6666666666666666,
              "#ed7953"
             ],
             [
              0.7777777777777778,
              "#fb9f3a"
             ],
             [
              0.8888888888888888,
              "#fdca26"
             ],
             [
              1,
              "#f0f921"
             ]
            ],
            "type": "histogram2dcontour"
           }
          ],
          "mesh3d": [
           {
            "colorbar": {
             "outlinewidth": 0,
             "ticks": ""
            },
            "type": "mesh3d"
           }
          ],
          "parcoords": [
           {
            "line": {
             "colorbar": {
              "outlinewidth": 0,
              "ticks": ""
             }
            },
            "type": "parcoords"
           }
          ],
          "pie": [
           {
            "automargin": true,
            "type": "pie"
           }
          ],
          "scatter": [
           {
            "fillpattern": {
             "fillmode": "overlay",
             "size": 10,
             "solidity": 0.2
            },
            "type": "scatter"
           }
          ],
          "scatter3d": [
           {
            "line": {
             "colorbar": {
              "outlinewidth": 0,
              "ticks": ""
             }
            },
            "marker": {
             "colorbar": {
              "outlinewidth": 0,
              "ticks": ""
             }
            },
            "type": "scatter3d"
           }
          ],
          "scattercarpet": [
           {
            "marker": {
             "colorbar": {
              "outlinewidth": 0,
              "ticks": ""
             }
            },
            "type": "scattercarpet"
           }
          ],
          "scattergeo": [
           {
            "marker": {
             "colorbar": {
              "outlinewidth": 0,
              "ticks": ""
             }
            },
            "type": "scattergeo"
           }
          ],
          "scattergl": [
           {
            "marker": {
             "colorbar": {
              "outlinewidth": 0,
              "ticks": ""
             }
            },
            "type": "scattergl"
           }
          ],
          "scattermap": [
           {
            "marker": {
             "colorbar": {
              "outlinewidth": 0,
              "ticks": ""
             }
            },
            "type": "scattermap"
           }
          ],
          "scattermapbox": [
           {
            "marker": {
             "colorbar": {
              "outlinewidth": 0,
              "ticks": ""
             }
            },
            "type": "scattermapbox"
           }
          ],
          "scatterpolar": [
           {
            "marker": {
             "colorbar": {
              "outlinewidth": 0,
              "ticks": ""
             }
            },
            "type": "scatterpolar"
           }
          ],
          "scatterpolargl": [
           {
            "marker": {
             "colorbar": {
              "outlinewidth": 0,
              "ticks": ""
             }
            },
            "type": "scatterpolargl"
           }
          ],
          "scatterternary": [
           {
            "marker": {
             "colorbar": {
              "outlinewidth": 0,
              "ticks": ""
             }
            },
            "type": "scatterternary"
           }
          ],
          "surface": [
           {
            "colorbar": {
             "outlinewidth": 0,
             "ticks": ""
            },
            "colorscale": [
             [
              0,
              "#0d0887"
             ],
             [
              0.1111111111111111,
              "#46039f"
             ],
             [
              0.2222222222222222,
              "#7201a8"
             ],
             [
              0.3333333333333333,
              "#9c179e"
             ],
             [
              0.4444444444444444,
              "#bd3786"
             ],
             [
              0.5555555555555556,
              "#d8576b"
             ],
             [
              0.6666666666666666,
              "#ed7953"
             ],
             [
              0.7777777777777778,
              "#fb9f3a"
             ],
             [
              0.8888888888888888,
              "#fdca26"
             ],
             [
              1,
              "#f0f921"
             ]
            ],
            "type": "surface"
           }
          ],
          "table": [
           {
            "cells": {
             "fill": {
              "color": "#EBF0F8"
             },
             "line": {
              "color": "white"
             }
            },
            "header": {
             "fill": {
              "color": "#C8D4E3"
             },
             "line": {
              "color": "white"
             }
            },
            "type": "table"
           }
          ]
         },
         "layout": {
          "annotationdefaults": {
           "arrowcolor": "#2a3f5f",
           "arrowhead": 0,
           "arrowwidth": 1
          },
          "autotypenumbers": "strict",
          "coloraxis": {
           "colorbar": {
            "outlinewidth": 0,
            "ticks": ""
           }
          },
          "colorscale": {
           "diverging": [
            [
             0,
             "#8e0152"
            ],
            [
             0.1,
             "#c51b7d"
            ],
            [
             0.2,
             "#de77ae"
            ],
            [
             0.3,
             "#f1b6da"
            ],
            [
             0.4,
             "#fde0ef"
            ],
            [
             0.5,
             "#f7f7f7"
            ],
            [
             0.6,
             "#e6f5d0"
            ],
            [
             0.7,
             "#b8e186"
            ],
            [
             0.8,
             "#7fbc41"
            ],
            [
             0.9,
             "#4d9221"
            ],
            [
             1,
             "#276419"
            ]
           ],
           "sequential": [
            [
             0,
             "#0d0887"
            ],
            [
             0.1111111111111111,
             "#46039f"
            ],
            [
             0.2222222222222222,
             "#7201a8"
            ],
            [
             0.3333333333333333,
             "#9c179e"
            ],
            [
             0.4444444444444444,
             "#bd3786"
            ],
            [
             0.5555555555555556,
             "#d8576b"
            ],
            [
             0.6666666666666666,
             "#ed7953"
            ],
            [
             0.7777777777777778,
             "#fb9f3a"
            ],
            [
             0.8888888888888888,
             "#fdca26"
            ],
            [
             1,
             "#f0f921"
            ]
           ],
           "sequentialminus": [
            [
             0,
             "#0d0887"
            ],
            [
             0.1111111111111111,
             "#46039f"
            ],
            [
             0.2222222222222222,
             "#7201a8"
            ],
            [
             0.3333333333333333,
             "#9c179e"
            ],
            [
             0.4444444444444444,
             "#bd3786"
            ],
            [
             0.5555555555555556,
             "#d8576b"
            ],
            [
             0.6666666666666666,
             "#ed7953"
            ],
            [
             0.7777777777777778,
             "#fb9f3a"
            ],
            [
             0.8888888888888888,
             "#fdca26"
            ],
            [
             1,
             "#f0f921"
            ]
           ]
          },
          "colorway": [
           "#636efa",
           "#EF553B",
           "#00cc96",
           "#ab63fa",
           "#FFA15A",
           "#19d3f3",
           "#FF6692",
           "#B6E880",
           "#FF97FF",
           "#FECB52"
          ],
          "font": {
           "color": "#2a3f5f"
          },
          "geo": {
           "bgcolor": "white",
           "lakecolor": "white",
           "landcolor": "#E5ECF6",
           "showlakes": true,
           "showland": true,
           "subunitcolor": "white"
          },
          "hoverlabel": {
           "align": "left"
          },
          "hovermode": "closest",
          "mapbox": {
           "style": "light"
          },
          "paper_bgcolor": "white",
          "plot_bgcolor": "#E5ECF6",
          "polar": {
           "angularaxis": {
            "gridcolor": "white",
            "linecolor": "white",
            "ticks": ""
           },
           "bgcolor": "#E5ECF6",
           "radialaxis": {
            "gridcolor": "white",
            "linecolor": "white",
            "ticks": ""
           }
          },
          "scene": {
           "xaxis": {
            "backgroundcolor": "#E5ECF6",
            "gridcolor": "white",
            "gridwidth": 2,
            "linecolor": "white",
            "showbackground": true,
            "ticks": "",
            "zerolinecolor": "white"
           },
           "yaxis": {
            "backgroundcolor": "#E5ECF6",
            "gridcolor": "white",
            "gridwidth": 2,
            "linecolor": "white",
            "showbackground": true,
            "ticks": "",
            "zerolinecolor": "white"
           },
           "zaxis": {
            "backgroundcolor": "#E5ECF6",
            "gridcolor": "white",
            "gridwidth": 2,
            "linecolor": "white",
            "showbackground": true,
            "ticks": "",
            "zerolinecolor": "white"
           }
          },
          "shapedefaults": {
           "line": {
            "color": "#2a3f5f"
           }
          },
          "ternary": {
           "aaxis": {
            "gridcolor": "white",
            "linecolor": "white",
            "ticks": ""
           },
           "baxis": {
            "gridcolor": "white",
            "linecolor": "white",
            "ticks": ""
           },
           "bgcolor": "#E5ECF6",
           "caxis": {
            "gridcolor": "white",
            "linecolor": "white",
            "ticks": ""
           }
          },
          "title": {
           "x": 0.05
          },
          "xaxis": {
           "automargin": true,
           "gridcolor": "white",
           "linecolor": "white",
           "ticks": "",
           "title": {
            "standoff": 15
           },
           "zerolinecolor": "white",
           "zerolinewidth": 2
          },
          "yaxis": {
           "automargin": true,
           "gridcolor": "white",
           "linecolor": "white",
           "ticks": "",
           "title": {
            "standoff": 15
           },
           "zerolinecolor": "white",
           "zerolinewidth": 2
          }
         }
        },
        "title": {
         "font": {
          "family": "Arial, sans-serif",
          "size": 18
         },
         "text": "Sales Distribution Analysis",
         "x": 0.02,
         "xanchor": "left",
         "y": 0.95,
         "yanchor": "top"
        },
        "width": 1300,
        "xaxis": {
         "anchor": "y",
         "domain": [
          0,
          1
         ],
         "gridcolor": "lightgray",
         "gridwidth": 1,
         "showgrid": true,
         "tickformat": ",",
         "title": {
          "text": "Sales Value"
         }
        },
        "yaxis": {
         "anchor": "x",
         "domain": [
          0,
          1
         ],
         "gridcolor": "lightgray",
         "gridwidth": 1,
         "showgrid": true,
         "title": {
          "text": "Frequency"
         }
        }
       }
      }
     },
     "metadata": {},
     "output_type": "display_data"
    },
    {
     "name": "stdout",
     "output_type": "stream",
     "text": [
      "\n",
      "Sales Distribution Summary:\n",
      "----------------------------------------\n",
      "Total Records: 982,644\n",
      "Min Sales: 0\n",
      "Max Sales: 41,551\n",
      "Mean Sales: 5,760.84\n",
      "Median Sales: 5,731.00\n",
      "Standard Deviation: 3,857.57\n",
      "Bin Width: 550\n",
      "Number of Bins: 76\n"
     ]
    }
   ],
   "source": [
    "\n",
    "# Create histogram bins more efficiently\n",
    "max_sales = df_features['sales'].max()\n",
    "bin_width = 550\n",
    "bins = np.arange(0, max_sales + bin_width, bin_width)\n",
    "\n",
    "# Calculate histogram\n",
    "counts, bin_edges = np.histogram(df_features['sales'], bins=bins)\n",
    "bin_centers = 0.5 * (bin_edges[:-1] + bin_edges[1:])\n",
    "\n",
    "# Create improved bar chart\n",
    "fig = px.bar(\n",
    "    x=bin_centers, \n",
    "    y=counts,\n",
    "    labels={\n",
    "        'x': 'Sales Value', \n",
    "        'y': 'Frequency',\n",
    "        'color': 'Count'\n",
    "    },\n",
    "    title='Sales Distribution',\n",
    "    color=counts,  # Color gradient based on frequency\n",
    "    color_continuous_scale='viridis'\n",
    ")\n",
    "\n",
    "# Enhanced styling\n",
    "fig.update_layout(\n",
    "    title={\n",
    "        'text': 'Sales Distribution Analysis',\n",
    "        'x': 0.02,\n",
    "        'xanchor': 'left',\n",
    "        'y': 0.95,\n",
    "        'yanchor': 'top',\n",
    "        'font': {'size': 18, 'family': 'Arial, sans-serif'}\n",
    "    },\n",
    "    xaxis_title='Sales Value',\n",
    "    yaxis_title='Frequency',\n",
    "    bargap=0.02,  # Minimal gap for histogram effect\n",
    "    font=dict(size=12),\n",
    "    plot_bgcolor='white',\n",
    "    width=1300,\n",
    "    height=600,\n",
    "    margin=dict(t=80, b=60, l=60, r=60),\n",
    "    # FIXED: Proper axis formatting for px.bar figures\n",
    "    xaxis=dict(\n",
    "        tickformat=',',  # Add thousands separator\n",
    "        showgrid=True,\n",
    "        gridwidth=1,\n",
    "        gridcolor='lightgray'\n",
    "    ),\n",
    "    yaxis=dict(\n",
    "        showgrid=True,\n",
    "        gridwidth=1,\n",
    "        gridcolor='lightgray'\n",
    "    )\n",
    ")\n",
    "\n",
    "# Improve trace styling\n",
    "fig.update_traces(\n",
    "    marker_line_width=0.5,\n",
    "    marker_line_color='white'\n",
    ")\n",
    "\n",
    "# Add statistical annotations\n",
    "mean_sales = df_features['sales'].mean()\n",
    "median_sales = df_features['sales'].median()\n",
    "std_sales = df_features['sales'].std()\n",
    "\n",
    "fig.add_annotation(\n",
    "    text=f\"Mean: {mean_sales:,.0f}<br>Median: {median_sales:,.0f}<br>Std Dev: {std_sales:,.0f}\",\n",
    "    xref=\"paper\", yref=\"paper\",\n",
    "    x=0.98, y=0.98,\n",
    "    xanchor=\"right\", yanchor=\"top\",\n",
    "    showarrow=False,\n",
    "    font=dict(size=10, color=\"black\"),\n",
    "    align=\"right\",\n",
    "    bgcolor=\"rgba(255,255,255,0.9)\",\n",
    "    bordercolor=\"gray\",\n",
    "    borderwidth=1,\n",
    "    borderpad=8\n",
    ")\n",
    "\n",
    "# Add vertical lines for mean and median\n",
    "fig.add_vline(\n",
    "    x=mean_sales, \n",
    "    line_dash=\"dash\", \n",
    "    line_color=\"red\",\n",
    "    annotation_text=\"Mean\",\n",
    "    annotation_position=\"top\"\n",
    ")\n",
    "\n",
    "fig.add_vline(\n",
    "    x=median_sales, \n",
    "    line_dash=\"dot\", \n",
    "    line_color=\"blue\",\n",
    "    annotation_text=\"Median\",\n",
    "    annotation_position=\"top\"\n",
    ")\n",
    "\n",
    "fig.show()\n",
    "\n",
    "# Print summary statistics\n",
    "print(\"\\nSales Distribution Summary:\")\n",
    "print(\"-\" * 40)\n",
    "print(f\"Total Records: {len(df_features):,}\")\n",
    "print(f\"Min Sales: {df_features['sales'].min():,}\")\n",
    "print(f\"Max Sales: {df_features['sales'].max():,}\")\n",
    "print(f\"Mean Sales: {mean_sales:,.2f}\")\n",
    "print(f\"Median Sales: {median_sales:,.2f}\")\n",
    "print(f\"Standard Deviation: {std_sales:,.2f}\")\n",
    "print(f\"Bin Width: {bin_width}\")\n",
    "print(f\"Number of Bins: {len(counts)}\")"
   ]
  },
  {
   "cell_type": "markdown",
   "id": "1e66f0cb-7523-4398-b68f-8599e65910d1",
   "metadata": {},
   "source": [
    "### 3.4 Customers Distribution"
   ]
  },
  {
   "cell_type": "code",
   "execution_count": 16,
   "id": "e3e1a150-789e-4e66-b30d-adaa477c60ec",
   "metadata": {},
   "outputs": [
    {
     "data": {
      "application/vnd.plotly.v1+json": {
       "config": {
        "plotlyServerURL": "https://plot.ly"
       },
       "data": [
        {
         "hovertemplate": "Customers Value=%{x}<br>Frequency=%{y}<br>Count=%{marker.color}<extra></extra>",
         "legendgroup": "",
         "marker": {
          "color": {
           "bdata": "NJICAD8AAAC8AgAAjQcAAKkUAADfLgAAflIAAAiEAABftQAAdN4AAFf7AADPBgEAgPkAAITpAAA61QAAnboAAMyiAADujgAAmnYAAG1lAAA9VQAAhkUAABw6AABEMQAAaycAAM8gAADJGwAAxhYAAHoTAACgEAAARQ4AAPQLAADwCgAAKgkAAD4IAABjBwAAyAYAAO0FAABABQAAeQQAABEEAABpAwAATAMAAOQCAADBAgAAZQIAAEMCAAAXAgAABQIAALwBAAC1AQAAqAEAAG0BAABZAQAAKQEAACABAAAlAQAAKgEAABQBAAAhAQAAJQEAABcBAAA8AQAARwEAACgBAAALAQAAGAEAAPoAAAD0AAAA0wAAALsAAACcAAAAiwAAAHYAAABtAAAAUAAAADYAAAAxAAAANgAAACMAAAAjAAAAIAAAACAAAAAQAAAAFAAAABQAAAAXAAAAFAAAAAoAAAAQAAAACwAAAA0AAAAKAAAABQAAAAYAAAACAAAABQAAAAIAAAAGAAAAAwAAAAUAAAADAAAABAAAAAIAAAAAAAAAAQAAAAAAAAABAAAAAAAAAAIAAAAAAAAAAAAAAAAAAAAAAAAAAAAAAAAAAAAAAAAAAAAAAAAAAAAAAAAAAAAAAAAAAAAAAAAAAAAAAAAAAAAAAAAAAAAAAAAAAAAAAAAAAAAAAAAAAAAAAAAAAAAAAAAAAAAAAAAAAAAAAAAAAAAAAAAAAAAAAAAAAAAAAAAAAAAAAAAAAAAAAAAAAAAAAAAAAAAAAAAAAQAAAA==",
           "dtype": "i4"
          },
          "coloraxis": "coloraxis",
          "line": {
           "color": "white",
           "width": 0.5
          },
          "pattern": {
           "shape": ""
          }
         },
         "name": "",
         "orientation": "v",
         "showlegend": false,
         "textposition": "auto",
         "type": "bar",
         "x": {
          "bdata": "AAAAAAAAOUAAAAAAAMBSQAAAAAAAQF9AAAAAAADgZUAAAAAAACBsQAAAAAAAMHFAAAAAAABQdEAAAAAAAHB3QAAAAAAAkHpAAAAAAACwfUAAAAAAAGiAQAAAAAAA+IFAAAAAAACIg0AAAAAAABiFQAAAAAAAqIZAAAAAAAA4iEAAAAAAAMiJQAAAAAAAWItAAAAAAADojEAAAAAAAHiOQAAAAAAABJBAAAAAAADMkEAAAAAAAJSRQAAAAAAAXJJAAAAAAAAkk0AAAAAAAOyTQAAAAAAAtJRAAAAAAAB8lUAAAAAAAESWQAAAAAAADJdAAAAAAADUl0AAAAAAAJyYQAAAAAAAZJlAAAAAAAAsmkAAAAAAAPSaQAAAAAAAvJtAAAAAAACEnEAAAAAAAEydQAAAAAAAFJ5AAAAAAADcnkAAAAAAAKSfQAAAAAAANqBAAAAAAACaoEAAAAAAAP6gQAAAAAAAYqFAAAAAAADGoUAAAAAAACqiQAAAAAAAjqJAAAAAAADyokAAAAAAAFajQAAAAAAAuqNAAAAAAAAepEAAAAAAAIKkQAAAAAAA5qRAAAAAAABKpUAAAAAAAK6lQAAAAAAAEqZAAAAAAAB2pkAAAAAAANqmQAAAAAAAPqdAAAAAAACip0AAAAAAAAaoQAAAAAAAaqhAAAAAAADOqEAAAAAAADKpQAAAAAAAlqlAAAAAAAD6qUAAAAAAAF6qQAAAAAAAwqpAAAAAAAAmq0AAAAAAAIqrQAAAAAAA7qtAAAAAAABSrEAAAAAAALasQAAAAAAAGq1AAAAAAAB+rUAAAAAAAOKtQAAAAAAARq5AAAAAAACqrkAAAAAAAA6vQAAAAAAAcq9AAAAAAADWr0AAAAAAAB2wQAAAAAAAT7BAAAAAAACBsEAAAAAAALOwQAAAAAAA5bBAAAAAAAAXsUAAAAAAAEmxQAAAAAAAe7FAAAAAAACtsUAAAAAAAN+xQAAAAAAAEbJAAAAAAABDskAAAAAAAHWyQAAAAAAAp7JAAAAAAADZskAAAAAAAAuzQAAAAAAAPbNAAAAAAABvs0AAAAAAAKGzQAAAAAAA07NAAAAAAAAFtEAAAAAAADe0QAAAAAAAabRAAAAAAACbtEAAAAAAAM20QAAAAAAA/7RAAAAAAAAxtUAAAAAAAGO1QAAAAAAAlbVAAAAAAADHtUAAAAAAAPm1QAAAAAAAK7ZAAAAAAABdtkAAAAAAAI+2QAAAAAAAwbZAAAAAAADztkAAAAAAACW3QAAAAAAAV7dAAAAAAACJt0AAAAAAALu3QAAAAAAA7bdAAAAAAAAfuEAAAAAAAFG4QAAAAAAAg7hAAAAAAAC1uEAAAAAAAOe4QAAAAAAAGblAAAAAAABLuUAAAAAAAH25QAAAAAAAr7lAAAAAAADhuUAAAAAAABO6QAAAAAAARbpAAAAAAAB3ukAAAAAAAKm6QAAAAAAA27pAAAAAAAANu0AAAAAAAD+7QAAAAAAAcbtAAAAAAACju0AAAAAAANW7QAAAAAAAB7xAAAAAAAA5vEAAAAAAAGu8QAAAAAAAnbxAAAAAAADPvEA=",
          "dtype": "f8"
         },
         "xaxis": "x",
         "y": {
          "bdata": "NJICAD8AAAC8AgAAjQcAAKkUAADfLgAAflIAAAiEAABftQAAdN4AAFf7AADPBgEAgPkAAITpAAA61QAAnboAAMyiAADujgAAmnYAAG1lAAA9VQAAhkUAABw6AABEMQAAaycAAM8gAADJGwAAxhYAAHoTAACgEAAARQ4AAPQLAADwCgAAKgkAAD4IAABjBwAAyAYAAO0FAABABQAAeQQAABEEAABpAwAATAMAAOQCAADBAgAAZQIAAEMCAAAXAgAABQIAALwBAAC1AQAAqAEAAG0BAABZAQAAKQEAACABAAAlAQAAKgEAABQBAAAhAQAAJQEAABcBAAA8AQAARwEAACgBAAALAQAAGAEAAPoAAAD0AAAA0wAAALsAAACcAAAAiwAAAHYAAABtAAAAUAAAADYAAAAxAAAANgAAACMAAAAjAAAAIAAAACAAAAAQAAAAFAAAABQAAAAXAAAAFAAAAAoAAAAQAAAACwAAAA0AAAAKAAAABQAAAAYAAAACAAAABQAAAAIAAAAGAAAAAwAAAAUAAAADAAAABAAAAAIAAAAAAAAAAQAAAAAAAAABAAAAAAAAAAIAAAAAAAAAAAAAAAAAAAAAAAAAAAAAAAAAAAAAAAAAAAAAAAAAAAAAAAAAAAAAAAAAAAAAAAAAAAAAAAAAAAAAAAAAAAAAAAAAAAAAAAAAAAAAAAAAAAAAAAAAAAAAAAAAAAAAAAAAAAAAAAAAAAAAAAAAAAAAAAAAAAAAAAAAAAAAAAAAAAAAAAAAAAAAAAAAAAAAAAAAAQAAAA==",
          "dtype": "i4"
         },
         "yaxis": "y"
        }
       ],
       "layout": {
        "annotations": [
         {
          "align": "right",
          "bgcolor": "rgba(255,255,255,0.9)",
          "bordercolor": "gray",
          "borderpad": 8,
          "borderwidth": 1,
          "font": {
           "color": "black",
           "size": 10
          },
          "showarrow": false,
          "text": "Mean: 633<br>Median: 609<br>Std Dev: 465",
          "x": 0.98,
          "xanchor": "right",
          "xref": "paper",
          "y": 0.98,
          "yanchor": "top",
          "yref": "paper"
         },
         {
          "showarrow": false,
          "text": "Mean",
          "x": 632.7702270608685,
          "xanchor": "center",
          "xref": "x",
          "y": 1,
          "yanchor": "bottom",
          "yref": "y domain"
         },
         {
          "showarrow": false,
          "text": "Median",
          "x": 609,
          "xanchor": "center",
          "xref": "x",
          "y": 1,
          "yanchor": "bottom",
          "yref": "y domain"
         }
        ],
        "bargap": 0.02,
        "barmode": "relative",
        "coloraxis": {
         "colorbar": {
          "title": {
           "text": "Count"
          }
         },
         "colorscale": [
          [
           0,
           "#440154"
          ],
          [
           0.1111111111111111,
           "#482878"
          ],
          [
           0.2222222222222222,
           "#3e4989"
          ],
          [
           0.3333333333333333,
           "#31688e"
          ],
          [
           0.4444444444444444,
           "#26828e"
          ],
          [
           0.5555555555555556,
           "#1f9e89"
          ],
          [
           0.6666666666666666,
           "#35b779"
          ],
          [
           0.7777777777777778,
           "#6ece58"
          ],
          [
           0.8888888888888888,
           "#b5de2b"
          ],
          [
           1,
           "#fde725"
          ]
         ]
        },
        "font": {
         "size": 12
        },
        "height": 400,
        "legend": {
         "tracegroupgap": 0
        },
        "margin": {
         "b": 60,
         "l": 60,
         "r": 60,
         "t": 80
        },
        "plot_bgcolor": "white",
        "shapes": [
         {
          "line": {
           "color": "red",
           "dash": "dash"
          },
          "type": "line",
          "x0": 632.7702270608685,
          "x1": 632.7702270608685,
          "xref": "x",
          "y0": 0,
          "y1": 1,
          "yref": "y domain"
         },
         {
          "line": {
           "color": "blue",
           "dash": "dot"
          },
          "type": "line",
          "x0": 609,
          "x1": 609,
          "xref": "x",
          "y0": 0,
          "y1": 1,
          "yref": "y domain"
         }
        ],
        "template": {
         "data": {
          "bar": [
           {
            "error_x": {
             "color": "#2a3f5f"
            },
            "error_y": {
             "color": "#2a3f5f"
            },
            "marker": {
             "line": {
              "color": "#E5ECF6",
              "width": 0.5
             },
             "pattern": {
              "fillmode": "overlay",
              "size": 10,
              "solidity": 0.2
             }
            },
            "type": "bar"
           }
          ],
          "barpolar": [
           {
            "marker": {
             "line": {
              "color": "#E5ECF6",
              "width": 0.5
             },
             "pattern": {
              "fillmode": "overlay",
              "size": 10,
              "solidity": 0.2
             }
            },
            "type": "barpolar"
           }
          ],
          "carpet": [
           {
            "aaxis": {
             "endlinecolor": "#2a3f5f",
             "gridcolor": "white",
             "linecolor": "white",
             "minorgridcolor": "white",
             "startlinecolor": "#2a3f5f"
            },
            "baxis": {
             "endlinecolor": "#2a3f5f",
             "gridcolor": "white",
             "linecolor": "white",
             "minorgridcolor": "white",
             "startlinecolor": "#2a3f5f"
            },
            "type": "carpet"
           }
          ],
          "choropleth": [
           {
            "colorbar": {
             "outlinewidth": 0,
             "ticks": ""
            },
            "type": "choropleth"
           }
          ],
          "contour": [
           {
            "colorbar": {
             "outlinewidth": 0,
             "ticks": ""
            },
            "colorscale": [
             [
              0,
              "#0d0887"
             ],
             [
              0.1111111111111111,
              "#46039f"
             ],
             [
              0.2222222222222222,
              "#7201a8"
             ],
             [
              0.3333333333333333,
              "#9c179e"
             ],
             [
              0.4444444444444444,
              "#bd3786"
             ],
             [
              0.5555555555555556,
              "#d8576b"
             ],
             [
              0.6666666666666666,
              "#ed7953"
             ],
             [
              0.7777777777777778,
              "#fb9f3a"
             ],
             [
              0.8888888888888888,
              "#fdca26"
             ],
             [
              1,
              "#f0f921"
             ]
            ],
            "type": "contour"
           }
          ],
          "contourcarpet": [
           {
            "colorbar": {
             "outlinewidth": 0,
             "ticks": ""
            },
            "type": "contourcarpet"
           }
          ],
          "heatmap": [
           {
            "colorbar": {
             "outlinewidth": 0,
             "ticks": ""
            },
            "colorscale": [
             [
              0,
              "#0d0887"
             ],
             [
              0.1111111111111111,
              "#46039f"
             ],
             [
              0.2222222222222222,
              "#7201a8"
             ],
             [
              0.3333333333333333,
              "#9c179e"
             ],
             [
              0.4444444444444444,
              "#bd3786"
             ],
             [
              0.5555555555555556,
              "#d8576b"
             ],
             [
              0.6666666666666666,
              "#ed7953"
             ],
             [
              0.7777777777777778,
              "#fb9f3a"
             ],
             [
              0.8888888888888888,
              "#fdca26"
             ],
             [
              1,
              "#f0f921"
             ]
            ],
            "type": "heatmap"
           }
          ],
          "histogram": [
           {
            "marker": {
             "pattern": {
              "fillmode": "overlay",
              "size": 10,
              "solidity": 0.2
             }
            },
            "type": "histogram"
           }
          ],
          "histogram2d": [
           {
            "colorbar": {
             "outlinewidth": 0,
             "ticks": ""
            },
            "colorscale": [
             [
              0,
              "#0d0887"
             ],
             [
              0.1111111111111111,
              "#46039f"
             ],
             [
              0.2222222222222222,
              "#7201a8"
             ],
             [
              0.3333333333333333,
              "#9c179e"
             ],
             [
              0.4444444444444444,
              "#bd3786"
             ],
             [
              0.5555555555555556,
              "#d8576b"
             ],
             [
              0.6666666666666666,
              "#ed7953"
             ],
             [
              0.7777777777777778,
              "#fb9f3a"
             ],
             [
              0.8888888888888888,
              "#fdca26"
             ],
             [
              1,
              "#f0f921"
             ]
            ],
            "type": "histogram2d"
           }
          ],
          "histogram2dcontour": [
           {
            "colorbar": {
             "outlinewidth": 0,
             "ticks": ""
            },
            "colorscale": [
             [
              0,
              "#0d0887"
             ],
             [
              0.1111111111111111,
              "#46039f"
             ],
             [
              0.2222222222222222,
              "#7201a8"
             ],
             [
              0.3333333333333333,
              "#9c179e"
             ],
             [
              0.4444444444444444,
              "#bd3786"
             ],
             [
              0.5555555555555556,
              "#d8576b"
             ],
             [
              0.6666666666666666,
              "#ed7953"
             ],
             [
              0.7777777777777778,
              "#fb9f3a"
             ],
             [
              0.8888888888888888,
              "#fdca26"
             ],
             [
              1,
              "#f0f921"
             ]
            ],
            "type": "histogram2dcontour"
           }
          ],
          "mesh3d": [
           {
            "colorbar": {
             "outlinewidth": 0,
             "ticks": ""
            },
            "type": "mesh3d"
           }
          ],
          "parcoords": [
           {
            "line": {
             "colorbar": {
              "outlinewidth": 0,
              "ticks": ""
             }
            },
            "type": "parcoords"
           }
          ],
          "pie": [
           {
            "automargin": true,
            "type": "pie"
           }
          ],
          "scatter": [
           {
            "fillpattern": {
             "fillmode": "overlay",
             "size": 10,
             "solidity": 0.2
            },
            "type": "scatter"
           }
          ],
          "scatter3d": [
           {
            "line": {
             "colorbar": {
              "outlinewidth": 0,
              "ticks": ""
             }
            },
            "marker": {
             "colorbar": {
              "outlinewidth": 0,
              "ticks": ""
             }
            },
            "type": "scatter3d"
           }
          ],
          "scattercarpet": [
           {
            "marker": {
             "colorbar": {
              "outlinewidth": 0,
              "ticks": ""
             }
            },
            "type": "scattercarpet"
           }
          ],
          "scattergeo": [
           {
            "marker": {
             "colorbar": {
              "outlinewidth": 0,
              "ticks": ""
             }
            },
            "type": "scattergeo"
           }
          ],
          "scattergl": [
           {
            "marker": {
             "colorbar": {
              "outlinewidth": 0,
              "ticks": ""
             }
            },
            "type": "scattergl"
           }
          ],
          "scattermap": [
           {
            "marker": {
             "colorbar": {
              "outlinewidth": 0,
              "ticks": ""
             }
            },
            "type": "scattermap"
           }
          ],
          "scattermapbox": [
           {
            "marker": {
             "colorbar": {
              "outlinewidth": 0,
              "ticks": ""
             }
            },
            "type": "scattermapbox"
           }
          ],
          "scatterpolar": [
           {
            "marker": {
             "colorbar": {
              "outlinewidth": 0,
              "ticks": ""
             }
            },
            "type": "scatterpolar"
           }
          ],
          "scatterpolargl": [
           {
            "marker": {
             "colorbar": {
              "outlinewidth": 0,
              "ticks": ""
             }
            },
            "type": "scatterpolargl"
           }
          ],
          "scatterternary": [
           {
            "marker": {
             "colorbar": {
              "outlinewidth": 0,
              "ticks": ""
             }
            },
            "type": "scatterternary"
           }
          ],
          "surface": [
           {
            "colorbar": {
             "outlinewidth": 0,
             "ticks": ""
            },
            "colorscale": [
             [
              0,
              "#0d0887"
             ],
             [
              0.1111111111111111,
              "#46039f"
             ],
             [
              0.2222222222222222,
              "#7201a8"
             ],
             [
              0.3333333333333333,
              "#9c179e"
             ],
             [
              0.4444444444444444,
              "#bd3786"
             ],
             [
              0.5555555555555556,
              "#d8576b"
             ],
             [
              0.6666666666666666,
              "#ed7953"
             ],
             [
              0.7777777777777778,
              "#fb9f3a"
             ],
             [
              0.8888888888888888,
              "#fdca26"
             ],
             [
              1,
              "#f0f921"
             ]
            ],
            "type": "surface"
           }
          ],
          "table": [
           {
            "cells": {
             "fill": {
              "color": "#EBF0F8"
             },
             "line": {
              "color": "white"
             }
            },
            "header": {
             "fill": {
              "color": "#C8D4E3"
             },
             "line": {
              "color": "white"
             }
            },
            "type": "table"
           }
          ]
         },
         "layout": {
          "annotationdefaults": {
           "arrowcolor": "#2a3f5f",
           "arrowhead": 0,
           "arrowwidth": 1
          },
          "autotypenumbers": "strict",
          "coloraxis": {
           "colorbar": {
            "outlinewidth": 0,
            "ticks": ""
           }
          },
          "colorscale": {
           "diverging": [
            [
             0,
             "#8e0152"
            ],
            [
             0.1,
             "#c51b7d"
            ],
            [
             0.2,
             "#de77ae"
            ],
            [
             0.3,
             "#f1b6da"
            ],
            [
             0.4,
             "#fde0ef"
            ],
            [
             0.5,
             "#f7f7f7"
            ],
            [
             0.6,
             "#e6f5d0"
            ],
            [
             0.7,
             "#b8e186"
            ],
            [
             0.8,
             "#7fbc41"
            ],
            [
             0.9,
             "#4d9221"
            ],
            [
             1,
             "#276419"
            ]
           ],
           "sequential": [
            [
             0,
             "#0d0887"
            ],
            [
             0.1111111111111111,
             "#46039f"
            ],
            [
             0.2222222222222222,
             "#7201a8"
            ],
            [
             0.3333333333333333,
             "#9c179e"
            ],
            [
             0.4444444444444444,
             "#bd3786"
            ],
            [
             0.5555555555555556,
             "#d8576b"
            ],
            [
             0.6666666666666666,
             "#ed7953"
            ],
            [
             0.7777777777777778,
             "#fb9f3a"
            ],
            [
             0.8888888888888888,
             "#fdca26"
            ],
            [
             1,
             "#f0f921"
            ]
           ],
           "sequentialminus": [
            [
             0,
             "#0d0887"
            ],
            [
             0.1111111111111111,
             "#46039f"
            ],
            [
             0.2222222222222222,
             "#7201a8"
            ],
            [
             0.3333333333333333,
             "#9c179e"
            ],
            [
             0.4444444444444444,
             "#bd3786"
            ],
            [
             0.5555555555555556,
             "#d8576b"
            ],
            [
             0.6666666666666666,
             "#ed7953"
            ],
            [
             0.7777777777777778,
             "#fb9f3a"
            ],
            [
             0.8888888888888888,
             "#fdca26"
            ],
            [
             1,
             "#f0f921"
            ]
           ]
          },
          "colorway": [
           "#636efa",
           "#EF553B",
           "#00cc96",
           "#ab63fa",
           "#FFA15A",
           "#19d3f3",
           "#FF6692",
           "#B6E880",
           "#FF97FF",
           "#FECB52"
          ],
          "font": {
           "color": "#2a3f5f"
          },
          "geo": {
           "bgcolor": "white",
           "lakecolor": "white",
           "landcolor": "#E5ECF6",
           "showlakes": true,
           "showland": true,
           "subunitcolor": "white"
          },
          "hoverlabel": {
           "align": "left"
          },
          "hovermode": "closest",
          "mapbox": {
           "style": "light"
          },
          "paper_bgcolor": "white",
          "plot_bgcolor": "#E5ECF6",
          "polar": {
           "angularaxis": {
            "gridcolor": "white",
            "linecolor": "white",
            "ticks": ""
           },
           "bgcolor": "#E5ECF6",
           "radialaxis": {
            "gridcolor": "white",
            "linecolor": "white",
            "ticks": ""
           }
          },
          "scene": {
           "xaxis": {
            "backgroundcolor": "#E5ECF6",
            "gridcolor": "white",
            "gridwidth": 2,
            "linecolor": "white",
            "showbackground": true,
            "ticks": "",
            "zerolinecolor": "white"
           },
           "yaxis": {
            "backgroundcolor": "#E5ECF6",
            "gridcolor": "white",
            "gridwidth": 2,
            "linecolor": "white",
            "showbackground": true,
            "ticks": "",
            "zerolinecolor": "white"
           },
           "zaxis": {
            "backgroundcolor": "#E5ECF6",
            "gridcolor": "white",
            "gridwidth": 2,
            "linecolor": "white",
            "showbackground": true,
            "ticks": "",
            "zerolinecolor": "white"
           }
          },
          "shapedefaults": {
           "line": {
            "color": "#2a3f5f"
           }
          },
          "ternary": {
           "aaxis": {
            "gridcolor": "white",
            "linecolor": "white",
            "ticks": ""
           },
           "baxis": {
            "gridcolor": "white",
            "linecolor": "white",
            "ticks": ""
           },
           "bgcolor": "#E5ECF6",
           "caxis": {
            "gridcolor": "white",
            "linecolor": "white",
            "ticks": ""
           }
          },
          "title": {
           "x": 0.05
          },
          "xaxis": {
           "automargin": true,
           "gridcolor": "white",
           "linecolor": "white",
           "ticks": "",
           "title": {
            "standoff": 15
           },
           "zerolinecolor": "white",
           "zerolinewidth": 2
          },
          "yaxis": {
           "automargin": true,
           "gridcolor": "white",
           "linecolor": "white",
           "ticks": "",
           "title": {
            "standoff": 15
           },
           "zerolinecolor": "white",
           "zerolinewidth": 2
          }
         }
        },
        "title": {
         "font": {
          "family": "Arial, sans-serif",
          "size": 18
         },
         "text": "Customers Distribution Analysis",
         "x": 0.02,
         "xanchor": "left",
         "y": 0.95,
         "yanchor": "top"
        },
        "width": 1050,
        "xaxis": {
         "anchor": "y",
         "domain": [
          0,
          1
         ],
         "gridcolor": "lightgray",
         "gridwidth": 1,
         "showgrid": true,
         "tickformat": ",",
         "title": {
          "text": "Customers Value"
         }
        },
        "yaxis": {
         "anchor": "x",
         "domain": [
          0,
          1
         ],
         "gridcolor": "lightgray",
         "gridwidth": 1,
         "showgrid": true,
         "title": {
          "text": "Frequency"
         }
        }
       }
      }
     },
     "metadata": {},
     "output_type": "display_data"
    },
    {
     "name": "stdout",
     "output_type": "stream",
     "text": [
      "\n",
      "Customers Distribution Summary:\n",
      "----------------------------------------\n",
      "Total Records: 982,644\n",
      "Min Customers: 0\n",
      "Max Customers: 7,388\n",
      "Mean Customers: 632.77\n",
      "Median Customers: 609.00\n",
      "Standard Deviation: 465.40\n",
      "Bin Width: 50\n",
      "Number of Bins: 148\n"
     ]
    }
   ],
   "source": [
    "# Create histogram bins more efficiently\n",
    "max_sales = df_features['customers'].max()\n",
    "bin_width = 50\n",
    "bins = np.arange(0, max_sales + bin_width, bin_width)\n",
    "\n",
    "# Calculate histogram\n",
    "counts, bin_edges = np.histogram(df_features['customers'], bins=bins)\n",
    "bin_centers = 0.5 * (bin_edges[:-1] + bin_edges[1:])\n",
    "\n",
    "# Create improved bar chart\n",
    "fig = px.bar(\n",
    "    x=bin_centers, \n",
    "    y=counts,\n",
    "    labels={\n",
    "        'x': 'Customers Value', \n",
    "        'y': 'Frequency',\n",
    "        'color': 'Count'\n",
    "    },\n",
    "    title='Customers Distribution',\n",
    "    color=counts,  # Color gradient based on frequency\n",
    "    color_continuous_scale='viridis'\n",
    ")\n",
    "\n",
    "# Enhanced styling\n",
    "fig.update_layout(\n",
    "    title={\n",
    "        'text': 'Customers Distribution Analysis',\n",
    "        'x': 0.02,\n",
    "        'xanchor': 'left',\n",
    "        'y': 0.95,\n",
    "        'yanchor': 'top',\n",
    "        'font': {'size': 18, 'family': 'Arial, sans-serif'}\n",
    "    },\n",
    "    xaxis_title='Customers Value',\n",
    "    yaxis_title='Frequency',\n",
    "    bargap=0.02,  # Minimal gap for histogram effect\n",
    "    font=dict(size=12),\n",
    "    plot_bgcolor='white',\n",
    "    width=1050,\n",
    "    height=400,\n",
    "    margin=dict(t=80, b=60, l=60, r=60),\n",
    "    # FIXED: Proper axis formatting for px.bar figures\n",
    "    xaxis=dict(\n",
    "        tickformat=',',  # Add thousands separator\n",
    "        showgrid=True,\n",
    "        gridwidth=1,\n",
    "        gridcolor='lightgray'\n",
    "    ),\n",
    "    yaxis=dict(\n",
    "        showgrid=True,\n",
    "        gridwidth=1,\n",
    "        gridcolor='lightgray'\n",
    "    )\n",
    ")\n",
    "\n",
    "# Improve trace styling\n",
    "fig.update_traces(\n",
    "    marker_line_width=0.5,\n",
    "    marker_line_color='white'\n",
    ")\n",
    "\n",
    "# Add statistical annotations\n",
    "mean_sales = df_features['customers'].mean()\n",
    "median_sales = df_features['customers'].median()\n",
    "std_sales = df_features['customers'].std()\n",
    "\n",
    "fig.add_annotation(\n",
    "    text=f\"Mean: {mean_sales:,.0f}<br>Median: {median_sales:,.0f}<br>Std Dev: {std_sales:,.0f}\",\n",
    "    xref=\"paper\", yref=\"paper\",\n",
    "    x=0.98, y=0.98,\n",
    "    xanchor=\"right\", yanchor=\"top\",\n",
    "    showarrow=False,\n",
    "    font=dict(size=10, color=\"black\"),\n",
    "    align=\"right\",\n",
    "    bgcolor=\"rgba(255,255,255,0.9)\",\n",
    "    bordercolor=\"gray\",\n",
    "    borderwidth=1,\n",
    "    borderpad=8\n",
    ")\n",
    "\n",
    "# Add vertical lines for mean and median\n",
    "fig.add_vline(\n",
    "    x=mean_sales, \n",
    "    line_dash=\"dash\", \n",
    "    line_color=\"red\",\n",
    "    annotation_text=\"Mean\",\n",
    "    annotation_position=\"top\"\n",
    ")\n",
    "\n",
    "fig.add_vline(\n",
    "    x=median_sales, \n",
    "    line_dash=\"dot\", \n",
    "    line_color=\"blue\",\n",
    "    annotation_text=\"Median\",\n",
    "    annotation_position=\"top\"\n",
    ")\n",
    "\n",
    "fig.show()\n",
    "\n",
    "# Print summary statistics\n",
    "print(\"\\nCustomers Distribution Summary:\")\n",
    "print(\"-\" * 40)\n",
    "print(f\"Total Records: {len(df_features):,}\")\n",
    "print(f\"Min Customers: {df_features['customers'].min():,}\")\n",
    "print(f\"Max Customers: {df_features['customers'].max():,}\")\n",
    "print(f\"Mean Customers: {mean_sales:,.2f}\")\n",
    "print(f\"Median Customers: {median_sales:,.2f}\")\n",
    "print(f\"Standard Deviation: {std_sales:,.2f}\")\n",
    "print(f\"Bin Width: {bin_width}\")\n",
    "print(f\"Number of Bins: {len(counts)}\")"
   ]
  },
  {
   "cell_type": "markdown",
   "id": "047d60c4-40c7-4f20-bb08-4f3bd2863012",
   "metadata": {},
   "source": [
    "## 3.6 Customer Analysis"
   ]
  },
  {
   "cell_type": "markdown",
   "id": "fbc5807f-10d0-4bb7-97f3-1f9206da1e38",
   "metadata": {},
   "source": [
    "#### Average Customers Trend per Day"
   ]
  },
  {
   "cell_type": "code",
   "execution_count": 17,
   "id": "ce681ce4-43e4-4915-a317-15e506a1e5a4",
   "metadata": {},
   "outputs": [
    {
     "data": {
      "application/vnd.plotly.v1+json": {
       "config": {
        "plotlyServerURL": "https://plot.ly"
       },
       "data": [
        {
         "hovertemplate": "day=%{x}<br>customers=%{y}<extra></extra>",
         "legendgroup": "",
         "line": {
          "color": "#2E8B57",
          "dash": "solid",
          "shape": "spline",
          "width": 3
         },
         "marker": {
          "color": "#FF6B6B",
          "line": {
           "color": "white",
           "width": 2
          },
          "size": 8,
          "symbol": "circle"
         },
         "mode": "lines+markers",
         "name": "",
         "orientation": "v",
         "showlegend": false,
         "type": "scatter",
         "x": [
          "Mon",
          "Tue",
          "Wed",
          "Thu",
          "Fri",
          "Sat",
          "Sun"
         ],
         "xaxis": "x",
         "y": {
          "bdata": "5GQ4CnBniUA5+xYz386HQGtnI/2aiYZAAPTnI0W+hUCVv4+mQDSHQCTwjjgPloRAcjQgf6zKQUA=",
          "dtype": "f8"
         },
         "yaxis": "y"
        }
       ],
       "layout": {
        "annotations": [
         {
          "arrowhead": 2,
          "ax": 0,
          "ay": -50,
          "bgcolor": "rgba(255,255,255,0.9)",
          "bordercolor": "red",
          "borderwidth": 1,
          "font": {
           "color": "red",
           "size": 11
          },
          "showarrow": true,
          "text": "Peak: Mon<br>(813 customers)",
          "x": "Mon",
          "y": 812.9297069936551
         },
         {
          "arrowhead": 2,
          "ax": 0,
          "ay": 50,
          "bgcolor": "rgba(255,255,255,0.9)",
          "bordercolor": "blue",
          "borderwidth": 1,
          "font": {
           "color": "blue",
           "size": 11
          },
          "showarrow": true,
          "text": "Lowest: Sun<br>(36 customers)",
          "x": "Sun",
          "y": 35.58338917801383
         },
         {
          "align": "right",
          "bgcolor": "rgba(255,255,255,0.9)",
          "bordercolor": "gray",
          "borderpad": 8,
          "borderwidth": 1,
          "font": {
           "color": "black",
           "size": 10
          },
          "showarrow": false,
          "text": "Weekly Average: 633<br>Standard Deviation: 268<br>Range: 777",
          "x": 0.98,
          "xanchor": "right",
          "xref": "paper",
          "y": 0.98,
          "yanchor": "top",
          "yref": "paper"
         }
        ],
        "font": {
         "size": 12
        },
        "height": 500,
        "legend": {
         "tracegroupgap": 0
        },
        "margin": {
         "b": 60,
         "l": 80,
         "r": 60,
         "t": 80
        },
        "plot_bgcolor": "white",
        "template": {
         "data": {
          "bar": [
           {
            "error_x": {
             "color": "#2a3f5f"
            },
            "error_y": {
             "color": "#2a3f5f"
            },
            "marker": {
             "line": {
              "color": "#E5ECF6",
              "width": 0.5
             },
             "pattern": {
              "fillmode": "overlay",
              "size": 10,
              "solidity": 0.2
             }
            },
            "type": "bar"
           }
          ],
          "barpolar": [
           {
            "marker": {
             "line": {
              "color": "#E5ECF6",
              "width": 0.5
             },
             "pattern": {
              "fillmode": "overlay",
              "size": 10,
              "solidity": 0.2
             }
            },
            "type": "barpolar"
           }
          ],
          "carpet": [
           {
            "aaxis": {
             "endlinecolor": "#2a3f5f",
             "gridcolor": "white",
             "linecolor": "white",
             "minorgridcolor": "white",
             "startlinecolor": "#2a3f5f"
            },
            "baxis": {
             "endlinecolor": "#2a3f5f",
             "gridcolor": "white",
             "linecolor": "white",
             "minorgridcolor": "white",
             "startlinecolor": "#2a3f5f"
            },
            "type": "carpet"
           }
          ],
          "choropleth": [
           {
            "colorbar": {
             "outlinewidth": 0,
             "ticks": ""
            },
            "type": "choropleth"
           }
          ],
          "contour": [
           {
            "colorbar": {
             "outlinewidth": 0,
             "ticks": ""
            },
            "colorscale": [
             [
              0,
              "#0d0887"
             ],
             [
              0.1111111111111111,
              "#46039f"
             ],
             [
              0.2222222222222222,
              "#7201a8"
             ],
             [
              0.3333333333333333,
              "#9c179e"
             ],
             [
              0.4444444444444444,
              "#bd3786"
             ],
             [
              0.5555555555555556,
              "#d8576b"
             ],
             [
              0.6666666666666666,
              "#ed7953"
             ],
             [
              0.7777777777777778,
              "#fb9f3a"
             ],
             [
              0.8888888888888888,
              "#fdca26"
             ],
             [
              1,
              "#f0f921"
             ]
            ],
            "type": "contour"
           }
          ],
          "contourcarpet": [
           {
            "colorbar": {
             "outlinewidth": 0,
             "ticks": ""
            },
            "type": "contourcarpet"
           }
          ],
          "heatmap": [
           {
            "colorbar": {
             "outlinewidth": 0,
             "ticks": ""
            },
            "colorscale": [
             [
              0,
              "#0d0887"
             ],
             [
              0.1111111111111111,
              "#46039f"
             ],
             [
              0.2222222222222222,
              "#7201a8"
             ],
             [
              0.3333333333333333,
              "#9c179e"
             ],
             [
              0.4444444444444444,
              "#bd3786"
             ],
             [
              0.5555555555555556,
              "#d8576b"
             ],
             [
              0.6666666666666666,
              "#ed7953"
             ],
             [
              0.7777777777777778,
              "#fb9f3a"
             ],
             [
              0.8888888888888888,
              "#fdca26"
             ],
             [
              1,
              "#f0f921"
             ]
            ],
            "type": "heatmap"
           }
          ],
          "histogram": [
           {
            "marker": {
             "pattern": {
              "fillmode": "overlay",
              "size": 10,
              "solidity": 0.2
             }
            },
            "type": "histogram"
           }
          ],
          "histogram2d": [
           {
            "colorbar": {
             "outlinewidth": 0,
             "ticks": ""
            },
            "colorscale": [
             [
              0,
              "#0d0887"
             ],
             [
              0.1111111111111111,
              "#46039f"
             ],
             [
              0.2222222222222222,
              "#7201a8"
             ],
             [
              0.3333333333333333,
              "#9c179e"
             ],
             [
              0.4444444444444444,
              "#bd3786"
             ],
             [
              0.5555555555555556,
              "#d8576b"
             ],
             [
              0.6666666666666666,
              "#ed7953"
             ],
             [
              0.7777777777777778,
              "#fb9f3a"
             ],
             [
              0.8888888888888888,
              "#fdca26"
             ],
             [
              1,
              "#f0f921"
             ]
            ],
            "type": "histogram2d"
           }
          ],
          "histogram2dcontour": [
           {
            "colorbar": {
             "outlinewidth": 0,
             "ticks": ""
            },
            "colorscale": [
             [
              0,
              "#0d0887"
             ],
             [
              0.1111111111111111,
              "#46039f"
             ],
             [
              0.2222222222222222,
              "#7201a8"
             ],
             [
              0.3333333333333333,
              "#9c179e"
             ],
             [
              0.4444444444444444,
              "#bd3786"
             ],
             [
              0.5555555555555556,
              "#d8576b"
             ],
             [
              0.6666666666666666,
              "#ed7953"
             ],
             [
              0.7777777777777778,
              "#fb9f3a"
             ],
             [
              0.8888888888888888,
              "#fdca26"
             ],
             [
              1,
              "#f0f921"
             ]
            ],
            "type": "histogram2dcontour"
           }
          ],
          "mesh3d": [
           {
            "colorbar": {
             "outlinewidth": 0,
             "ticks": ""
            },
            "type": "mesh3d"
           }
          ],
          "parcoords": [
           {
            "line": {
             "colorbar": {
              "outlinewidth": 0,
              "ticks": ""
             }
            },
            "type": "parcoords"
           }
          ],
          "pie": [
           {
            "automargin": true,
            "type": "pie"
           }
          ],
          "scatter": [
           {
            "fillpattern": {
             "fillmode": "overlay",
             "size": 10,
             "solidity": 0.2
            },
            "type": "scatter"
           }
          ],
          "scatter3d": [
           {
            "line": {
             "colorbar": {
              "outlinewidth": 0,
              "ticks": ""
             }
            },
            "marker": {
             "colorbar": {
              "outlinewidth": 0,
              "ticks": ""
             }
            },
            "type": "scatter3d"
           }
          ],
          "scattercarpet": [
           {
            "marker": {
             "colorbar": {
              "outlinewidth": 0,
              "ticks": ""
             }
            },
            "type": "scattercarpet"
           }
          ],
          "scattergeo": [
           {
            "marker": {
             "colorbar": {
              "outlinewidth": 0,
              "ticks": ""
             }
            },
            "type": "scattergeo"
           }
          ],
          "scattergl": [
           {
            "marker": {
             "colorbar": {
              "outlinewidth": 0,
              "ticks": ""
             }
            },
            "type": "scattergl"
           }
          ],
          "scattermap": [
           {
            "marker": {
             "colorbar": {
              "outlinewidth": 0,
              "ticks": ""
             }
            },
            "type": "scattermap"
           }
          ],
          "scattermapbox": [
           {
            "marker": {
             "colorbar": {
              "outlinewidth": 0,
              "ticks": ""
             }
            },
            "type": "scattermapbox"
           }
          ],
          "scatterpolar": [
           {
            "marker": {
             "colorbar": {
              "outlinewidth": 0,
              "ticks": ""
             }
            },
            "type": "scatterpolar"
           }
          ],
          "scatterpolargl": [
           {
            "marker": {
             "colorbar": {
              "outlinewidth": 0,
              "ticks": ""
             }
            },
            "type": "scatterpolargl"
           }
          ],
          "scatterternary": [
           {
            "marker": {
             "colorbar": {
              "outlinewidth": 0,
              "ticks": ""
             }
            },
            "type": "scatterternary"
           }
          ],
          "surface": [
           {
            "colorbar": {
             "outlinewidth": 0,
             "ticks": ""
            },
            "colorscale": [
             [
              0,
              "#0d0887"
             ],
             [
              0.1111111111111111,
              "#46039f"
             ],
             [
              0.2222222222222222,
              "#7201a8"
             ],
             [
              0.3333333333333333,
              "#9c179e"
             ],
             [
              0.4444444444444444,
              "#bd3786"
             ],
             [
              0.5555555555555556,
              "#d8576b"
             ],
             [
              0.6666666666666666,
              "#ed7953"
             ],
             [
              0.7777777777777778,
              "#fb9f3a"
             ],
             [
              0.8888888888888888,
              "#fdca26"
             ],
             [
              1,
              "#f0f921"
             ]
            ],
            "type": "surface"
           }
          ],
          "table": [
           {
            "cells": {
             "fill": {
              "color": "#EBF0F8"
             },
             "line": {
              "color": "white"
             }
            },
            "header": {
             "fill": {
              "color": "#C8D4E3"
             },
             "line": {
              "color": "white"
             }
            },
            "type": "table"
           }
          ]
         },
         "layout": {
          "annotationdefaults": {
           "arrowcolor": "#2a3f5f",
           "arrowhead": 0,
           "arrowwidth": 1
          },
          "autotypenumbers": "strict",
          "coloraxis": {
           "colorbar": {
            "outlinewidth": 0,
            "ticks": ""
           }
          },
          "colorscale": {
           "diverging": [
            [
             0,
             "#8e0152"
            ],
            [
             0.1,
             "#c51b7d"
            ],
            [
             0.2,
             "#de77ae"
            ],
            [
             0.3,
             "#f1b6da"
            ],
            [
             0.4,
             "#fde0ef"
            ],
            [
             0.5,
             "#f7f7f7"
            ],
            [
             0.6,
             "#e6f5d0"
            ],
            [
             0.7,
             "#b8e186"
            ],
            [
             0.8,
             "#7fbc41"
            ],
            [
             0.9,
             "#4d9221"
            ],
            [
             1,
             "#276419"
            ]
           ],
           "sequential": [
            [
             0,
             "#0d0887"
            ],
            [
             0.1111111111111111,
             "#46039f"
            ],
            [
             0.2222222222222222,
             "#7201a8"
            ],
            [
             0.3333333333333333,
             "#9c179e"
            ],
            [
             0.4444444444444444,
             "#bd3786"
            ],
            [
             0.5555555555555556,
             "#d8576b"
            ],
            [
             0.6666666666666666,
             "#ed7953"
            ],
            [
             0.7777777777777778,
             "#fb9f3a"
            ],
            [
             0.8888888888888888,
             "#fdca26"
            ],
            [
             1,
             "#f0f921"
            ]
           ],
           "sequentialminus": [
            [
             0,
             "#0d0887"
            ],
            [
             0.1111111111111111,
             "#46039f"
            ],
            [
             0.2222222222222222,
             "#7201a8"
            ],
            [
             0.3333333333333333,
             "#9c179e"
            ],
            [
             0.4444444444444444,
             "#bd3786"
            ],
            [
             0.5555555555555556,
             "#d8576b"
            ],
            [
             0.6666666666666666,
             "#ed7953"
            ],
            [
             0.7777777777777778,
             "#fb9f3a"
            ],
            [
             0.8888888888888888,
             "#fdca26"
            ],
            [
             1,
             "#f0f921"
            ]
           ]
          },
          "colorway": [
           "#636efa",
           "#EF553B",
           "#00cc96",
           "#ab63fa",
           "#FFA15A",
           "#19d3f3",
           "#FF6692",
           "#B6E880",
           "#FF97FF",
           "#FECB52"
          ],
          "font": {
           "color": "#2a3f5f"
          },
          "geo": {
           "bgcolor": "white",
           "lakecolor": "white",
           "landcolor": "#E5ECF6",
           "showlakes": true,
           "showland": true,
           "subunitcolor": "white"
          },
          "hoverlabel": {
           "align": "left"
          },
          "hovermode": "closest",
          "mapbox": {
           "style": "light"
          },
          "paper_bgcolor": "white",
          "plot_bgcolor": "#E5ECF6",
          "polar": {
           "angularaxis": {
            "gridcolor": "white",
            "linecolor": "white",
            "ticks": ""
           },
           "bgcolor": "#E5ECF6",
           "radialaxis": {
            "gridcolor": "white",
            "linecolor": "white",
            "ticks": ""
           }
          },
          "scene": {
           "xaxis": {
            "backgroundcolor": "#E5ECF6",
            "gridcolor": "white",
            "gridwidth": 2,
            "linecolor": "white",
            "showbackground": true,
            "ticks": "",
            "zerolinecolor": "white"
           },
           "yaxis": {
            "backgroundcolor": "#E5ECF6",
            "gridcolor": "white",
            "gridwidth": 2,
            "linecolor": "white",
            "showbackground": true,
            "ticks": "",
            "zerolinecolor": "white"
           },
           "zaxis": {
            "backgroundcolor": "#E5ECF6",
            "gridcolor": "white",
            "gridwidth": 2,
            "linecolor": "white",
            "showbackground": true,
            "ticks": "",
            "zerolinecolor": "white"
           }
          },
          "shapedefaults": {
           "line": {
            "color": "#2a3f5f"
           }
          },
          "ternary": {
           "aaxis": {
            "gridcolor": "white",
            "linecolor": "white",
            "ticks": ""
           },
           "baxis": {
            "gridcolor": "white",
            "linecolor": "white",
            "ticks": ""
           },
           "bgcolor": "#E5ECF6",
           "caxis": {
            "gridcolor": "white",
            "linecolor": "white",
            "ticks": ""
           }
          },
          "title": {
           "x": 0.05
          },
          "xaxis": {
           "automargin": true,
           "gridcolor": "white",
           "linecolor": "white",
           "ticks": "",
           "title": {
            "standoff": 15
           },
           "zerolinecolor": "white",
           "zerolinewidth": 2
          },
          "yaxis": {
           "automargin": true,
           "gridcolor": "white",
           "linecolor": "white",
           "ticks": "",
           "title": {
            "standoff": 15
           },
           "zerolinecolor": "white",
           "zerolinewidth": 2
          }
         }
        },
        "title": {
         "font": {
          "family": "Arial, sans-serif",
          "size": 18
         },
         "text": "Average Customer Traffic by Day of Week",
         "x": 0.02,
         "xanchor": "left",
         "y": 0.95,
         "yanchor": "top"
        },
        "width": 900,
        "xaxis": {
         "anchor": "y",
         "domain": [
          0,
          1
         ],
         "gridcolor": "lightgray",
         "gridwidth": 1,
         "showgrid": true,
         "title": {
          "text": "Day of Week"
         }
        },
        "yaxis": {
         "anchor": "x",
         "domain": [
          0,
          1
         ],
         "gridcolor": "lightgray",
         "gridwidth": 1,
         "showgrid": true,
         "tickformat": ",",
         "title": {
          "text": "Average Number of Customers"
         }
        }
       }
      }
     },
     "metadata": {},
     "output_type": "display_data"
    },
    {
     "name": "stdout",
     "output_type": "stream",
     "text": [
      "\n",
      "Weekday Customer Traffic Summary:\n",
      "---------------------------------------------\n",
      "Mon: 813 customers (100.0% of peak)\n",
      "Tue: 762 customers (93.7% of peak)\n",
      "Wed: 721 customers (88.7% of peak)\n",
      "Thu: 696 customers (85.6% of peak)\n",
      "Fri: 743 customers (91.3% of peak)\n",
      "Sat: 659 customers (81.0% of peak)\n",
      "Sun: 36 customers (4.4% of peak)\n",
      "\n",
      "Weekly Statistics:\n",
      "Average daily customers: 633\n",
      "Peak day: Mon (813 customers)\n",
      "Lowest day: Sun (36 customers)\n",
      "Difference (Peak - Lowest): 777 customers\n"
     ]
    }
   ],
   "source": [
    "\n",
    "# Define weekday order\n",
    "weekday_order = ['Mon', 'Tue', 'Wed', 'Thu', 'Fri', 'Sat', 'Sun']\n",
    "\n",
    "# Calculate mean customers by day\n",
    "dow_agg = df_features.groupby('day', as_index=False)[['customers']].mean()\n",
    "\n",
    "# Apply categorical ordering\n",
    "dow_agg['day'] = pd.Categorical(dow_agg['day'], categories=weekday_order, ordered=True)\n",
    "dow_agg = dow_agg.sort_values('day')\n",
    "\n",
    "# Identify peak and lowest days\n",
    "peak_row = dow_agg.loc[dow_agg['customers'].idxmax()]\n",
    "lowest_row = dow_agg.loc[dow_agg['customers'].idxmin()]\n",
    "peak_day = peak_row['day']\n",
    "peak_value = peak_row['customers']\n",
    "lowest_day = lowest_row['day']\n",
    "lowest_value = lowest_row['customers']\n",
    "\n",
    "# Create enhanced line chart\n",
    "fig = px.line(\n",
    "    dow_agg, \n",
    "    x='day', \n",
    "    y='customers', \n",
    "    title='Average Customer Traffic by Day of Week',\n",
    "    markers=True,\n",
    "    line_shape='spline'  # Smooth curve\n",
    ")\n",
    "\n",
    "# Enhanced styling\n",
    "fig.update_layout(\n",
    "    title={\n",
    "        'text': 'Average Customer Traffic by Day of Week',\n",
    "        'x': 0.02,\n",
    "        'xanchor': 'left',\n",
    "        'y': 0.95,\n",
    "        'yanchor': 'top',\n",
    "        'font': {'size': 18, 'family': 'Arial, sans-serif'}\n",
    "    },\n",
    "    xaxis_title='Day of Week',\n",
    "    yaxis_title='Average Number of Customers',\n",
    "    font=dict(size=12),\n",
    "    plot_bgcolor='white',\n",
    "    width=900,\n",
    "    height=500,\n",
    "    margin=dict(t=80, b=60, l=80, r=60),\n",
    "    xaxis=dict(\n",
    "        showgrid=True,\n",
    "        gridwidth=1,\n",
    "        gridcolor='lightgray'\n",
    "    ),\n",
    "    yaxis=dict(\n",
    "        showgrid=True,\n",
    "        gridwidth=1,\n",
    "        gridcolor='lightgray',\n",
    "        tickformat=','\n",
    "    )\n",
    ")\n",
    "\n",
    "# Improve line and marker styling\n",
    "fig.update_traces(\n",
    "    line=dict(width=3, color='#2E8B57'),\n",
    "    marker=dict(\n",
    "        size=8,\n",
    "        color='#FF6B6B',\n",
    "        line=dict(width=2, color='white')\n",
    "    )\n",
    ")\n",
    "\n",
    "# Add annotation for peak day\n",
    "fig.add_annotation(\n",
    "    x=peak_day,\n",
    "    y=peak_value,\n",
    "    text=f\"Peak: {peak_day}<br>({peak_value:,.0f} customers)\",\n",
    "    showarrow=True,\n",
    "    arrowhead=2,\n",
    "    ax=0,\n",
    "    ay=-50,\n",
    "    font=dict(color=\"red\", size=11),\n",
    "    bgcolor=\"rgba(255,255,255,0.9)\",\n",
    "    bordercolor=\"red\",\n",
    "    borderwidth=1\n",
    ")\n",
    "\n",
    "# Add annotation for lowest day\n",
    "fig.add_annotation(\n",
    "    x=lowest_day,\n",
    "    y=lowest_value,\n",
    "    text=f\"Lowest: {lowest_day}<br>({lowest_value:,.0f} customers)\",\n",
    "    showarrow=True,\n",
    "    arrowhead=2,\n",
    "    ax=0,\n",
    "    ay=50,\n",
    "    font=dict(color=\"blue\", size=11),\n",
    "    bgcolor=\"rgba(255,255,255,0.9)\",\n",
    "    bordercolor=\"blue\",\n",
    "    borderwidth=1\n",
    ")\n",
    "\n",
    "# Add summary statistics box\n",
    "avg_customers = dow_agg['customers'].mean()\n",
    "std_customers = dow_agg['customers'].std()\n",
    "range_customers = peak_value - lowest_value\n",
    "\n",
    "fig.add_annotation(\n",
    "    text=f\"Weekly Average: {avg_customers:,.0f}<br>Standard Deviation: {std_customers:,.0f}<br>Range: {range_customers:,.0f}\",\n",
    "    xref=\"paper\", yref=\"paper\",\n",
    "    x=0.98, y=0.98,\n",
    "    xanchor=\"right\", yanchor=\"top\",\n",
    "    showarrow=False,\n",
    "    font=dict(size=10, color=\"black\"),\n",
    "    align=\"right\",\n",
    "    bgcolor=\"rgba(255,255,255,0.9)\",\n",
    "    bordercolor=\"gray\",\n",
    "    borderwidth=1,\n",
    "    borderpad=8\n",
    ")\n",
    "\n",
    "fig.show()\n",
    "\n",
    "# Print detailed summary\n",
    "print(\"\\nWeekday Customer Traffic Summary:\")\n",
    "print(\"-\" * 45)\n",
    "for _, row in dow_agg.iterrows():\n",
    "    day = row['day']\n",
    "    customers = row['customers']\n",
    "    percentage_of_peak = (customers / peak_value) * 100\n",
    "    print(f\"{day}: {customers:,.0f} customers ({percentage_of_peak:.1f}% of peak)\")\n",
    "\n",
    "print(f\"\\nWeekly Statistics:\")\n",
    "print(f\"Average daily customers: {avg_customers:,.0f}\")\n",
    "print(f\"Peak day: {peak_day} ({peak_value:,.0f} customers)\")\n",
    "print(f\"Lowest day: {lowest_day} ({lowest_value:,.0f} customers)\")\n",
    "print(f\"Difference (Peak - Lowest): {range_customers:,.0f} customers\")"
   ]
  },
  {
   "cell_type": "markdown",
   "id": "f745fedb-4656-4c69-87e8-30dc04d88199",
   "metadata": {},
   "source": [
    "#### Average Customers Trend per Month"
   ]
  },
  {
   "cell_type": "code",
   "execution_count": 18,
   "id": "ed2322f0-df9a-4fc4-a1b2-c0b7210e9fa7",
   "metadata": {},
   "outputs": [
    {
     "data": {
      "application/vnd.plotly.v1+json": {
       "config": {
        "plotlyServerURL": "https://plot.ly"
       },
       "data": [
        {
         "hovertemplate": "Month=%{x}<br>Average Customers=%{y}<extra></extra>",
         "legendgroup": "",
         "line": {
          "color": "#1f77b4",
          "dash": "solid",
          "shape": "spline",
          "width": 3
         },
         "marker": {
          "color": "#ff7f0e",
          "line": {
           "color": "white",
           "width": 2
          },
          "size": 10,
          "symbol": "circle"
         },
         "mode": "lines+markers",
         "name": "",
         "orientation": "v",
         "showlegend": false,
         "type": "scatter",
         "x": [
          "Jan",
          "Feb",
          "Mar",
          "Apr",
          "May",
          "Jun",
          "Jul",
          "Aug",
          "Sep",
          "Oct",
          "Nov",
          "Dec"
         ],
         "xaxis": "x",
         "y": {
          "bdata": "VW+09+/MgkBrM6eVuJWDQH90lDU3q4NANCmMT+e0g0Ab/DUb7s+CQPo+N0xahoNAeeuLt768hEAAnf/P+ROEQEwnuHSC04NAUUkMlcS4g0CZ8JIJL3GEQO2wyA6L+IVA",
          "dtype": "f8"
         },
         "yaxis": "y"
        }
       ],
       "layout": {
        "annotations": [
         {
          "arrowcolor": "red",
          "arrowhead": 2,
          "arrowsize": 1,
          "arrowwidth": 2,
          "bgcolor": "rgba(255,255,255,0.9)",
          "bordercolor": "red",
          "borderwidth": 1,
          "font": {
           "color": "red",
           "size": 11
          },
          "showarrow": true,
          "text": "Peak: Dec<br>(703 customers)",
          "x": "Dec",
          "y": 703.0678992918962,
          "yshift": 20
         },
         {
          "arrowcolor": "blue",
          "arrowhead": 2,
          "arrowsize": 1,
          "arrowwidth": 2,
          "bgcolor": "rgba(255,255,255,0.9)",
          "bordercolor": "blue",
          "borderwidth": 1,
          "font": {
           "color": "blue",
           "size": 11
          },
          "showarrow": true,
          "text": "Lowest: Jan<br>(602 customers)",
          "x": "Jan",
          "y": 601.617171678207,
          "yshift": -30
         },
         {
          "align": "left",
          "bgcolor": "rgba(255,255,255,0.9)",
          "bordercolor": "gray",
          "borderpad": 8,
          "borderwidth": 1,
          "font": {
           "color": "black",
           "size": 10
          },
          "showarrow": false,
          "text": "Yearly Average: 637<br>Standard Deviation: 27<br>Range: 101<br><br>Seasonal Averages:<br>Spring: 621<br>Summer: 644<br>Fall: 640<br>Winter: 644",
          "x": 0.02,
          "xanchor": "left",
          "xref": "paper",
          "y": 0.5,
          "yanchor": "middle",
          "yref": "paper"
         }
        ],
        "font": {
         "size": 12
        },
        "height": 550,
        "legend": {
         "tracegroupgap": 0
        },
        "margin": {
         "b": 60,
         "l": 80,
         "r": 80,
         "t": 80
        },
        "plot_bgcolor": "white",
        "template": {
         "data": {
          "bar": [
           {
            "error_x": {
             "color": "#2a3f5f"
            },
            "error_y": {
             "color": "#2a3f5f"
            },
            "marker": {
             "line": {
              "color": "#E5ECF6",
              "width": 0.5
             },
             "pattern": {
              "fillmode": "overlay",
              "size": 10,
              "solidity": 0.2
             }
            },
            "type": "bar"
           }
          ],
          "barpolar": [
           {
            "marker": {
             "line": {
              "color": "#E5ECF6",
              "width": 0.5
             },
             "pattern": {
              "fillmode": "overlay",
              "size": 10,
              "solidity": 0.2
             }
            },
            "type": "barpolar"
           }
          ],
          "carpet": [
           {
            "aaxis": {
             "endlinecolor": "#2a3f5f",
             "gridcolor": "white",
             "linecolor": "white",
             "minorgridcolor": "white",
             "startlinecolor": "#2a3f5f"
            },
            "baxis": {
             "endlinecolor": "#2a3f5f",
             "gridcolor": "white",
             "linecolor": "white",
             "minorgridcolor": "white",
             "startlinecolor": "#2a3f5f"
            },
            "type": "carpet"
           }
          ],
          "choropleth": [
           {
            "colorbar": {
             "outlinewidth": 0,
             "ticks": ""
            },
            "type": "choropleth"
           }
          ],
          "contour": [
           {
            "colorbar": {
             "outlinewidth": 0,
             "ticks": ""
            },
            "colorscale": [
             [
              0,
              "#0d0887"
             ],
             [
              0.1111111111111111,
              "#46039f"
             ],
             [
              0.2222222222222222,
              "#7201a8"
             ],
             [
              0.3333333333333333,
              "#9c179e"
             ],
             [
              0.4444444444444444,
              "#bd3786"
             ],
             [
              0.5555555555555556,
              "#d8576b"
             ],
             [
              0.6666666666666666,
              "#ed7953"
             ],
             [
              0.7777777777777778,
              "#fb9f3a"
             ],
             [
              0.8888888888888888,
              "#fdca26"
             ],
             [
              1,
              "#f0f921"
             ]
            ],
            "type": "contour"
           }
          ],
          "contourcarpet": [
           {
            "colorbar": {
             "outlinewidth": 0,
             "ticks": ""
            },
            "type": "contourcarpet"
           }
          ],
          "heatmap": [
           {
            "colorbar": {
             "outlinewidth": 0,
             "ticks": ""
            },
            "colorscale": [
             [
              0,
              "#0d0887"
             ],
             [
              0.1111111111111111,
              "#46039f"
             ],
             [
              0.2222222222222222,
              "#7201a8"
             ],
             [
              0.3333333333333333,
              "#9c179e"
             ],
             [
              0.4444444444444444,
              "#bd3786"
             ],
             [
              0.5555555555555556,
              "#d8576b"
             ],
             [
              0.6666666666666666,
              "#ed7953"
             ],
             [
              0.7777777777777778,
              "#fb9f3a"
             ],
             [
              0.8888888888888888,
              "#fdca26"
             ],
             [
              1,
              "#f0f921"
             ]
            ],
            "type": "heatmap"
           }
          ],
          "histogram": [
           {
            "marker": {
             "pattern": {
              "fillmode": "overlay",
              "size": 10,
              "solidity": 0.2
             }
            },
            "type": "histogram"
           }
          ],
          "histogram2d": [
           {
            "colorbar": {
             "outlinewidth": 0,
             "ticks": ""
            },
            "colorscale": [
             [
              0,
              "#0d0887"
             ],
             [
              0.1111111111111111,
              "#46039f"
             ],
             [
              0.2222222222222222,
              "#7201a8"
             ],
             [
              0.3333333333333333,
              "#9c179e"
             ],
             [
              0.4444444444444444,
              "#bd3786"
             ],
             [
              0.5555555555555556,
              "#d8576b"
             ],
             [
              0.6666666666666666,
              "#ed7953"
             ],
             [
              0.7777777777777778,
              "#fb9f3a"
             ],
             [
              0.8888888888888888,
              "#fdca26"
             ],
             [
              1,
              "#f0f921"
             ]
            ],
            "type": "histogram2d"
           }
          ],
          "histogram2dcontour": [
           {
            "colorbar": {
             "outlinewidth": 0,
             "ticks": ""
            },
            "colorscale": [
             [
              0,
              "#0d0887"
             ],
             [
              0.1111111111111111,
              "#46039f"
             ],
             [
              0.2222222222222222,
              "#7201a8"
             ],
             [
              0.3333333333333333,
              "#9c179e"
             ],
             [
              0.4444444444444444,
              "#bd3786"
             ],
             [
              0.5555555555555556,
              "#d8576b"
             ],
             [
              0.6666666666666666,
              "#ed7953"
             ],
             [
              0.7777777777777778,
              "#fb9f3a"
             ],
             [
              0.8888888888888888,
              "#fdca26"
             ],
             [
              1,
              "#f0f921"
             ]
            ],
            "type": "histogram2dcontour"
           }
          ],
          "mesh3d": [
           {
            "colorbar": {
             "outlinewidth": 0,
             "ticks": ""
            },
            "type": "mesh3d"
           }
          ],
          "parcoords": [
           {
            "line": {
             "colorbar": {
              "outlinewidth": 0,
              "ticks": ""
             }
            },
            "type": "parcoords"
           }
          ],
          "pie": [
           {
            "automargin": true,
            "type": "pie"
           }
          ],
          "scatter": [
           {
            "fillpattern": {
             "fillmode": "overlay",
             "size": 10,
             "solidity": 0.2
            },
            "type": "scatter"
           }
          ],
          "scatter3d": [
           {
            "line": {
             "colorbar": {
              "outlinewidth": 0,
              "ticks": ""
             }
            },
            "marker": {
             "colorbar": {
              "outlinewidth": 0,
              "ticks": ""
             }
            },
            "type": "scatter3d"
           }
          ],
          "scattercarpet": [
           {
            "marker": {
             "colorbar": {
              "outlinewidth": 0,
              "ticks": ""
             }
            },
            "type": "scattercarpet"
           }
          ],
          "scattergeo": [
           {
            "marker": {
             "colorbar": {
              "outlinewidth": 0,
              "ticks": ""
             }
            },
            "type": "scattergeo"
           }
          ],
          "scattergl": [
           {
            "marker": {
             "colorbar": {
              "outlinewidth": 0,
              "ticks": ""
             }
            },
            "type": "scattergl"
           }
          ],
          "scattermap": [
           {
            "marker": {
             "colorbar": {
              "outlinewidth": 0,
              "ticks": ""
             }
            },
            "type": "scattermap"
           }
          ],
          "scattermapbox": [
           {
            "marker": {
             "colorbar": {
              "outlinewidth": 0,
              "ticks": ""
             }
            },
            "type": "scattermapbox"
           }
          ],
          "scatterpolar": [
           {
            "marker": {
             "colorbar": {
              "outlinewidth": 0,
              "ticks": ""
             }
            },
            "type": "scatterpolar"
           }
          ],
          "scatterpolargl": [
           {
            "marker": {
             "colorbar": {
              "outlinewidth": 0,
              "ticks": ""
             }
            },
            "type": "scatterpolargl"
           }
          ],
          "scatterternary": [
           {
            "marker": {
             "colorbar": {
              "outlinewidth": 0,
              "ticks": ""
             }
            },
            "type": "scatterternary"
           }
          ],
          "surface": [
           {
            "colorbar": {
             "outlinewidth": 0,
             "ticks": ""
            },
            "colorscale": [
             [
              0,
              "#0d0887"
             ],
             [
              0.1111111111111111,
              "#46039f"
             ],
             [
              0.2222222222222222,
              "#7201a8"
             ],
             [
              0.3333333333333333,
              "#9c179e"
             ],
             [
              0.4444444444444444,
              "#bd3786"
             ],
             [
              0.5555555555555556,
              "#d8576b"
             ],
             [
              0.6666666666666666,
              "#ed7953"
             ],
             [
              0.7777777777777778,
              "#fb9f3a"
             ],
             [
              0.8888888888888888,
              "#fdca26"
             ],
             [
              1,
              "#f0f921"
             ]
            ],
            "type": "surface"
           }
          ],
          "table": [
           {
            "cells": {
             "fill": {
              "color": "#EBF0F8"
             },
             "line": {
              "color": "white"
             }
            },
            "header": {
             "fill": {
              "color": "#C8D4E3"
             },
             "line": {
              "color": "white"
             }
            },
            "type": "table"
           }
          ]
         },
         "layout": {
          "annotationdefaults": {
           "arrowcolor": "#2a3f5f",
           "arrowhead": 0,
           "arrowwidth": 1
          },
          "autotypenumbers": "strict",
          "coloraxis": {
           "colorbar": {
            "outlinewidth": 0,
            "ticks": ""
           }
          },
          "colorscale": {
           "diverging": [
            [
             0,
             "#8e0152"
            ],
            [
             0.1,
             "#c51b7d"
            ],
            [
             0.2,
             "#de77ae"
            ],
            [
             0.3,
             "#f1b6da"
            ],
            [
             0.4,
             "#fde0ef"
            ],
            [
             0.5,
             "#f7f7f7"
            ],
            [
             0.6,
             "#e6f5d0"
            ],
            [
             0.7,
             "#b8e186"
            ],
            [
             0.8,
             "#7fbc41"
            ],
            [
             0.9,
             "#4d9221"
            ],
            [
             1,
             "#276419"
            ]
           ],
           "sequential": [
            [
             0,
             "#0d0887"
            ],
            [
             0.1111111111111111,
             "#46039f"
            ],
            [
             0.2222222222222222,
             "#7201a8"
            ],
            [
             0.3333333333333333,
             "#9c179e"
            ],
            [
             0.4444444444444444,
             "#bd3786"
            ],
            [
             0.5555555555555556,
             "#d8576b"
            ],
            [
             0.6666666666666666,
             "#ed7953"
            ],
            [
             0.7777777777777778,
             "#fb9f3a"
            ],
            [
             0.8888888888888888,
             "#fdca26"
            ],
            [
             1,
             "#f0f921"
            ]
           ],
           "sequentialminus": [
            [
             0,
             "#0d0887"
            ],
            [
             0.1111111111111111,
             "#46039f"
            ],
            [
             0.2222222222222222,
             "#7201a8"
            ],
            [
             0.3333333333333333,
             "#9c179e"
            ],
            [
             0.4444444444444444,
             "#bd3786"
            ],
            [
             0.5555555555555556,
             "#d8576b"
            ],
            [
             0.6666666666666666,
             "#ed7953"
            ],
            [
             0.7777777777777778,
             "#fb9f3a"
            ],
            [
             0.8888888888888888,
             "#fdca26"
            ],
            [
             1,
             "#f0f921"
            ]
           ]
          },
          "colorway": [
           "#636efa",
           "#EF553B",
           "#00cc96",
           "#ab63fa",
           "#FFA15A",
           "#19d3f3",
           "#FF6692",
           "#B6E880",
           "#FF97FF",
           "#FECB52"
          ],
          "font": {
           "color": "#2a3f5f"
          },
          "geo": {
           "bgcolor": "white",
           "lakecolor": "white",
           "landcolor": "#E5ECF6",
           "showlakes": true,
           "showland": true,
           "subunitcolor": "white"
          },
          "hoverlabel": {
           "align": "left"
          },
          "hovermode": "closest",
          "mapbox": {
           "style": "light"
          },
          "paper_bgcolor": "white",
          "plot_bgcolor": "#E5ECF6",
          "polar": {
           "angularaxis": {
            "gridcolor": "white",
            "linecolor": "white",
            "ticks": ""
           },
           "bgcolor": "#E5ECF6",
           "radialaxis": {
            "gridcolor": "white",
            "linecolor": "white",
            "ticks": ""
           }
          },
          "scene": {
           "xaxis": {
            "backgroundcolor": "#E5ECF6",
            "gridcolor": "white",
            "gridwidth": 2,
            "linecolor": "white",
            "showbackground": true,
            "ticks": "",
            "zerolinecolor": "white"
           },
           "yaxis": {
            "backgroundcolor": "#E5ECF6",
            "gridcolor": "white",
            "gridwidth": 2,
            "linecolor": "white",
            "showbackground": true,
            "ticks": "",
            "zerolinecolor": "white"
           },
           "zaxis": {
            "backgroundcolor": "#E5ECF6",
            "gridcolor": "white",
            "gridwidth": 2,
            "linecolor": "white",
            "showbackground": true,
            "ticks": "",
            "zerolinecolor": "white"
           }
          },
          "shapedefaults": {
           "line": {
            "color": "#2a3f5f"
           }
          },
          "ternary": {
           "aaxis": {
            "gridcolor": "white",
            "linecolor": "white",
            "ticks": ""
           },
           "baxis": {
            "gridcolor": "white",
            "linecolor": "white",
            "ticks": ""
           },
           "bgcolor": "#E5ECF6",
           "caxis": {
            "gridcolor": "white",
            "linecolor": "white",
            "ticks": ""
           }
          },
          "title": {
           "x": 0.05
          },
          "xaxis": {
           "automargin": true,
           "gridcolor": "white",
           "linecolor": "white",
           "ticks": "",
           "title": {
            "standoff": 15
           },
           "zerolinecolor": "white",
           "zerolinewidth": 2
          },
          "yaxis": {
           "automargin": true,
           "gridcolor": "white",
           "linecolor": "white",
           "ticks": "",
           "title": {
            "standoff": 15
           },
           "zerolinecolor": "white",
           "zerolinewidth": 2
          }
         }
        },
        "title": {
         "font": {
          "family": "Arial, sans-serif",
          "size": 18
         },
         "text": "Average Customer Traffic by Month",
         "x": 0.02,
         "xanchor": "left",
         "y": 0.95,
         "yanchor": "top"
        },
        "width": 1000,
        "xaxis": {
         "anchor": "y",
         "domain": [
          0,
          1
         ],
         "gridcolor": "lightgray",
         "gridwidth": 1,
         "showgrid": true,
         "title": {
          "text": "Month"
         }
        },
        "yaxis": {
         "anchor": "x",
         "domain": [
          0,
          1
         ],
         "gridcolor": "lightgray",
         "gridwidth": 1,
         "showgrid": true,
         "tickformat": ",",
         "title": {
          "text": "Average Number of Customers"
         }
        }
       }
      }
     },
     "metadata": {},
     "output_type": "display_data"
    },
    {
     "name": "stdout",
     "output_type": "stream",
     "text": [
      "\n",
      "Monthly Customer Traffic Summary:\n",
      "--------------------------------------------------\n",
      "Jan: 602 customers (85.6% of peak)\n",
      "Feb: 627 customers (89.1% of peak)\n",
      "Mar: 629 customers (89.5% of peak)\n",
      "Apr: 631 customers (89.7% of peak)\n",
      "May: 602 customers (85.6% of peak)\n",
      "Jun: 625 customers (88.9% of peak)\n",
      "Jul: 664 customers (94.4% of peak)\n",
      "Aug: 642 customers (91.4% of peak)\n",
      "Sep: 634 customers (90.2% of peak)\n",
      "Oct: 631 customers (89.8% of peak)\n",
      "Nov: 654 customers (93.0% of peak)\n",
      "Dec: 703 customers (100.0% of peak)\n",
      "\n",
      "Yearly Statistics:\n",
      "Average monthly customers: 637\n",
      "Peak month: Dec (703 customers)\n",
      "Lowest month: Jan (602 customers)\n",
      "Difference (Peak - Lowest): 101 customers\n",
      "\n",
      "Seasonal Analysis:\n",
      "Spring (Mar-May): 621 customers\n",
      "Summer (Jun-Aug): 644 customers\n",
      "Fall (Sep-Nov): 640 customers\n",
      "Winter (Dec-Feb): 644 customers\n"
     ]
    }
   ],
   "source": [
    "# Ensure month is ordered\n",
    "month_order = ['Jan', 'Feb', 'Mar', 'Apr', 'May', 'Jun','Jul', 'Aug', 'Sep', 'Oct', 'Nov', 'Dec']\n",
    "\n",
    "# Calculate monthly averages\n",
    "monthly_grp = df_features.groupby('month', as_index=False)['customers'].mean()\n",
    "monthly_grp['month'] = pd.Categorical(monthly_grp['month'], categories=month_order, ordered=True)\n",
    "monthly_grp = monthly_grp.sort_values('month')\n",
    "\n",
    "# Identify peak and lowest months\n",
    "peak_row = monthly_grp.loc[monthly_grp['customers'].idxmax()]\n",
    "lowest_row = monthly_grp.loc[monthly_grp['customers'].idxmin()]\n",
    "peak_month = peak_row['month']\n",
    "peak_value = peak_row['customers']\n",
    "lowest_month = lowest_row['month']\n",
    "lowest_value = lowest_row['customers']\n",
    "\n",
    "# Create enhanced line chart\n",
    "fig = px.line(\n",
    "    monthly_grp, \n",
    "    x='month', \n",
    "    y='customers',\n",
    "    markers=True,\n",
    "    title='Average Customer Traffic by Month',\n",
    "    labels={'customers': 'Average Customers', 'month': 'Month'},\n",
    "    line_shape='spline'  # Smooth curves for better trend visualization\n",
    ")\n",
    "\n",
    "# Enhanced styling\n",
    "fig.update_layout(\n",
    "    title={\n",
    "        'text': 'Average Customer Traffic by Month',\n",
    "        'x': 0.02,\n",
    "        'xanchor': 'left',\n",
    "        'y': 0.95,\n",
    "        'yanchor': 'top',\n",
    "        'font': {'size': 18, 'family': 'Arial, sans-serif'}\n",
    "    },\n",
    "    xaxis_title='Month',\n",
    "    yaxis_title='Average Number of Customers',\n",
    "    font=dict(size=12),\n",
    "    plot_bgcolor='white',\n",
    "    width=1000,\n",
    "    height=550,\n",
    "    margin=dict(t=80, b=60, l=80, r=80),\n",
    "    xaxis=dict(\n",
    "        showgrid=True,\n",
    "        gridwidth=1,\n",
    "        gridcolor='lightgray'\n",
    "    ),\n",
    "    yaxis=dict(\n",
    "        showgrid=True,\n",
    "        gridwidth=1,\n",
    "        gridcolor='lightgray',\n",
    "        tickformat=','\n",
    "    )\n",
    ")\n",
    "\n",
    "# Improve line and marker styling\n",
    "fig.update_traces(\n",
    "    line=dict(width=3, color='#1f77b4'),\n",
    "    marker=dict(\n",
    "        size=10,\n",
    "        color='#ff7f0e',\n",
    "        line=dict(width=2, color='white')\n",
    "    )\n",
    ")\n",
    "\n",
    "# Annotate peak month\n",
    "fig.add_annotation(\n",
    "    x=peak_month, \n",
    "    y=peak_value,\n",
    "    text=f'Peak: {peak_month}<br>({peak_value:,.0f} customers)',\n",
    "    showarrow=True,\n",
    "    arrowhead=2,\n",
    "    arrowsize=1,\n",
    "    arrowwidth=2,\n",
    "    arrowcolor='red',\n",
    "    font=dict(color='red', size=11),\n",
    "    yshift=20,\n",
    "    bgcolor=\"rgba(255,255,255,0.9)\",\n",
    "    bordercolor=\"red\",\n",
    "    borderwidth=1\n",
    ")\n",
    "\n",
    "# Annotate lowest month\n",
    "fig.add_annotation(\n",
    "    x=lowest_month, \n",
    "    y=lowest_value,\n",
    "    text=f'Lowest: {lowest_month}<br>({lowest_value:,.0f} customers)',\n",
    "    showarrow=True,\n",
    "    arrowhead=2,\n",
    "    arrowsize=1,\n",
    "    arrowwidth=2,\n",
    "    arrowcolor='blue',\n",
    "    font=dict(color='blue', size=11),\n",
    "    yshift=-30,\n",
    "    bgcolor=\"rgba(255,255,255,0.9)\",\n",
    "    bordercolor=\"blue\",\n",
    "    borderwidth=1\n",
    ")\n",
    "\n",
    "# Add seasonal analysis\n",
    "spring_months = ['Mar', 'Apr', 'May']\n",
    "summer_months = ['Jun', 'Jul', 'Aug']\n",
    "fall_months = ['Sep', 'Oct', 'Nov']\n",
    "winter_months = ['Dec', 'Jan', 'Feb']\n",
    "\n",
    "spring_avg = monthly_grp[monthly_grp['month'].isin(spring_months)]['customers'].mean()\n",
    "summer_avg = monthly_grp[monthly_grp['month'].isin(summer_months)]['customers'].mean()\n",
    "fall_avg = monthly_grp[monthly_grp['month'].isin(fall_months)]['customers'].mean()\n",
    "winter_avg = monthly_grp[monthly_grp['month'].isin(winter_months)]['customers'].mean()\n",
    "\n",
    "# Add summary statistics\n",
    "yearly_avg = monthly_grp['customers'].mean()\n",
    "yearly_std = monthly_grp['customers'].std()\n",
    "range_customers = peak_value - lowest_value\n",
    "\n",
    "fig.add_annotation(\n",
    "    text=f\"Yearly Average: {yearly_avg:,.0f}<br>\" +\n",
    "         f\"Standard Deviation: {yearly_std:,.0f}<br>\" +\n",
    "         f\"Range: {range_customers:,.0f}<br><br>\" +\n",
    "         f\"Seasonal Averages:<br>\" +\n",
    "         f\"Spring: {spring_avg:,.0f}<br>\" +\n",
    "         f\"Summer: {summer_avg:,.0f}<br>\" +\n",
    "         f\"Fall: {fall_avg:,.0f}<br>\" +\n",
    "         f\"Winter: {winter_avg:,.0f}\",\n",
    "    xref=\"paper\", yref=\"paper\",\n",
    "    x=0.02, y=0.5,  # Middle left side\n",
    "    xanchor=\"left\", yanchor=\"middle\",\n",
    "    showarrow=False,\n",
    "    font=dict(size=10, color=\"black\"),\n",
    "    align=\"left\",\n",
    "    bgcolor=\"rgba(255,255,255,0.9)\",\n",
    "    bordercolor=\"gray\",\n",
    "    borderwidth=1,\n",
    "    borderpad=8\n",
    ")\n",
    "\n",
    "fig.show()\n",
    "\n",
    "# Print detailed monthly summary\n",
    "print(\"\\nMonthly Customer Traffic Summary:\")\n",
    "print(\"-\" * 50)\n",
    "for _, row in monthly_grp.iterrows():\n",
    "    month = row['month']\n",
    "    customers = row['customers']\n",
    "    percentage_of_peak = (customers / peak_value) * 100\n",
    "    print(f\"{month}: {customers:,.0f} customers ({percentage_of_peak:.1f}% of peak)\")\n",
    "\n",
    "print(f\"\\nYearly Statistics:\")\n",
    "print(f\"Average monthly customers: {yearly_avg:,.0f}\")\n",
    "print(f\"Peak month: {peak_month} ({peak_value:,.0f} customers)\")\n",
    "print(f\"Lowest month: {lowest_month} ({lowest_value:,.0f} customers)\")\n",
    "print(f\"Difference (Peak - Lowest): {range_customers:,.0f} customers\")\n",
    "\n",
    "print(f\"\\nSeasonal Analysis:\")\n",
    "print(f\"Spring (Mar-May): {spring_avg:,.0f} customers\")\n",
    "print(f\"Summer (Jun-Aug): {summer_avg:,.0f} customers\") \n",
    "print(f\"Fall (Sep-Nov): {fall_avg:,.0f} customers\")\n",
    "print(f\"Winter (Dec-Feb): {winter_avg:,.0f} customers\")"
   ]
  },
  {
   "cell_type": "markdown",
   "id": "a64a3a64-edd9-4539-83fb-20b4bad22878",
   "metadata": {},
   "source": [
    "#### Top 10 Crowded Stores"
   ]
  },
  {
   "cell_type": "code",
   "execution_count": 19,
   "id": "885fc02b-1165-4727-bf5a-afceaccb35e2",
   "metadata": {},
   "outputs": [
    {
     "data": {
      "application/vnd.plotly.v1+json": {
       "config": {
        "plotlyServerURL": "https://plot.ly"
       },
       "data": [
        {
         "hovertemplate": "Store=%{x}<br>Average Daily Customers=%{marker.color}<extra></extra>",
         "legendgroup": "",
         "marker": {
          "color": {
           "bdata": "3H+33eWWqkBvKodx1JCqQMOFnH0vRahANlGxZwH/p0DWCdNfJbmkQK15QflnWqRAbne51MXYokBzGEdNw62iQJrTga69O6JAUNwQ/BGwn0A=",
           "dtype": "f8"
          },
          "coloraxis": "coloraxis",
          "line": {
           "color": "white",
           "width": 1
          },
          "pattern": {
           "shape": ""
          }
         },
         "name": "",
         "orientation": "v",
         "showlegend": false,
         "text": {
          "bdata": "3H+33eWWqkBvKodx1JCqQMOFnH0vRahANlGxZwH/p0DWCdNfJbmkQK15QflnWqRAbne51MXYokBzGEdNw62iQJrTga69O6JAUNwQ/BGwn0A=",
          "dtype": "f8"
         },
         "textfont": {
          "color": "black",
          "size": 11
         },
         "textposition": "outside",
         "texttemplate": "%{text:,.0f}",
         "type": "bar",
         "x": [
          "Store 733",
          "Store 262",
          "Store 562",
          "Store 769",
          "Store 1114",
          "Store 817",
          "Store 1097",
          "Store 335",
          "Store 259",
          "Store 251"
         ],
         "xaxis": "x",
         "y": {
          "bdata": "3H+33eWWqkBvKodx1JCqQMOFnH0vRahANlGxZwH/p0DWCdNfJbmkQK15QflnWqRAbne51MXYokBzGEdNw62iQJrTga69O6JAUNwQ/BGwn0A=",
          "dtype": "f8"
         },
         "yaxis": "y"
        }
       ],
       "layout": {
        "annotations": [
         {
          "align": "left",
          "bgcolor": "rgba(255,255,255,0.95)",
          "bordercolor": "gray",
          "borderpad": 10,
          "borderwidth": 1,
          "font": {
           "color": "black",
           "size": 11
          },
          "showarrow": false,
          "text": "Performance Summary:<br>#1 Store 733: 3,403 customers<br>#10 Store 251: 2,028 customers<br>Top 10 Average: 2,740<br>Gap (1st - 10th): 1,375<br>Total Stores: 1115",
          "x": 0.02,
          "xanchor": "left",
          "xref": "paper",
          "y": 0.5,
          "yanchor": "middle",
          "yref": "paper"
         },
         {
          "showarrow": false,
          "text": "Top 10 Avg: 2,740",
          "x": 1,
          "xanchor": "right",
          "xref": "x domain",
          "y": 2740.4891328210756,
          "yanchor": "bottom",
          "yref": "y"
         }
        ],
        "barmode": "relative",
        "coloraxis": {
         "colorbar": {
          "title": {
           "text": "Average Daily Customers"
          }
         },
         "colorscale": [
          [
           0,
           "#440154"
          ],
          [
           0.1111111111111111,
           "#482878"
          ],
          [
           0.2222222222222222,
           "#3e4989"
          ],
          [
           0.3333333333333333,
           "#31688e"
          ],
          [
           0.4444444444444444,
           "#26828e"
          ],
          [
           0.5555555555555556,
           "#1f9e89"
          ],
          [
           0.6666666666666666,
           "#35b779"
          ],
          [
           0.7777777777777778,
           "#6ece58"
          ],
          [
           0.8888888888888888,
           "#b5de2b"
          ],
          [
           1,
           "#fde725"
          ]
         ]
        },
        "font": {
         "size": 12
        },
        "height": 600,
        "legend": {
         "tracegroupgap": 0
        },
        "margin": {
         "b": 80,
         "l": 80,
         "r": 80,
         "t": 100
        },
        "plot_bgcolor": "white",
        "shapes": [
         {
          "line": {
           "color": "red",
           "dash": "dash"
          },
          "type": "line",
          "x0": 0,
          "x1": 1,
          "xref": "x domain",
          "y0": 2740.4891328210756,
          "y1": 2740.4891328210756,
          "yref": "y"
         }
        ],
        "showlegend": false,
        "template": {
         "data": {
          "bar": [
           {
            "error_x": {
             "color": "#2a3f5f"
            },
            "error_y": {
             "color": "#2a3f5f"
            },
            "marker": {
             "line": {
              "color": "#E5ECF6",
              "width": 0.5
             },
             "pattern": {
              "fillmode": "overlay",
              "size": 10,
              "solidity": 0.2
             }
            },
            "type": "bar"
           }
          ],
          "barpolar": [
           {
            "marker": {
             "line": {
              "color": "#E5ECF6",
              "width": 0.5
             },
             "pattern": {
              "fillmode": "overlay",
              "size": 10,
              "solidity": 0.2
             }
            },
            "type": "barpolar"
           }
          ],
          "carpet": [
           {
            "aaxis": {
             "endlinecolor": "#2a3f5f",
             "gridcolor": "white",
             "linecolor": "white",
             "minorgridcolor": "white",
             "startlinecolor": "#2a3f5f"
            },
            "baxis": {
             "endlinecolor": "#2a3f5f",
             "gridcolor": "white",
             "linecolor": "white",
             "minorgridcolor": "white",
             "startlinecolor": "#2a3f5f"
            },
            "type": "carpet"
           }
          ],
          "choropleth": [
           {
            "colorbar": {
             "outlinewidth": 0,
             "ticks": ""
            },
            "type": "choropleth"
           }
          ],
          "contour": [
           {
            "colorbar": {
             "outlinewidth": 0,
             "ticks": ""
            },
            "colorscale": [
             [
              0,
              "#0d0887"
             ],
             [
              0.1111111111111111,
              "#46039f"
             ],
             [
              0.2222222222222222,
              "#7201a8"
             ],
             [
              0.3333333333333333,
              "#9c179e"
             ],
             [
              0.4444444444444444,
              "#bd3786"
             ],
             [
              0.5555555555555556,
              "#d8576b"
             ],
             [
              0.6666666666666666,
              "#ed7953"
             ],
             [
              0.7777777777777778,
              "#fb9f3a"
             ],
             [
              0.8888888888888888,
              "#fdca26"
             ],
             [
              1,
              "#f0f921"
             ]
            ],
            "type": "contour"
           }
          ],
          "contourcarpet": [
           {
            "colorbar": {
             "outlinewidth": 0,
             "ticks": ""
            },
            "type": "contourcarpet"
           }
          ],
          "heatmap": [
           {
            "colorbar": {
             "outlinewidth": 0,
             "ticks": ""
            },
            "colorscale": [
             [
              0,
              "#0d0887"
             ],
             [
              0.1111111111111111,
              "#46039f"
             ],
             [
              0.2222222222222222,
              "#7201a8"
             ],
             [
              0.3333333333333333,
              "#9c179e"
             ],
             [
              0.4444444444444444,
              "#bd3786"
             ],
             [
              0.5555555555555556,
              "#d8576b"
             ],
             [
              0.6666666666666666,
              "#ed7953"
             ],
             [
              0.7777777777777778,
              "#fb9f3a"
             ],
             [
              0.8888888888888888,
              "#fdca26"
             ],
             [
              1,
              "#f0f921"
             ]
            ],
            "type": "heatmap"
           }
          ],
          "histogram": [
           {
            "marker": {
             "pattern": {
              "fillmode": "overlay",
              "size": 10,
              "solidity": 0.2
             }
            },
            "type": "histogram"
           }
          ],
          "histogram2d": [
           {
            "colorbar": {
             "outlinewidth": 0,
             "ticks": ""
            },
            "colorscale": [
             [
              0,
              "#0d0887"
             ],
             [
              0.1111111111111111,
              "#46039f"
             ],
             [
              0.2222222222222222,
              "#7201a8"
             ],
             [
              0.3333333333333333,
              "#9c179e"
             ],
             [
              0.4444444444444444,
              "#bd3786"
             ],
             [
              0.5555555555555556,
              "#d8576b"
             ],
             [
              0.6666666666666666,
              "#ed7953"
             ],
             [
              0.7777777777777778,
              "#fb9f3a"
             ],
             [
              0.8888888888888888,
              "#fdca26"
             ],
             [
              1,
              "#f0f921"
             ]
            ],
            "type": "histogram2d"
           }
          ],
          "histogram2dcontour": [
           {
            "colorbar": {
             "outlinewidth": 0,
             "ticks": ""
            },
            "colorscale": [
             [
              0,
              "#0d0887"
             ],
             [
              0.1111111111111111,
              "#46039f"
             ],
             [
              0.2222222222222222,
              "#7201a8"
             ],
             [
              0.3333333333333333,
              "#9c179e"
             ],
             [
              0.4444444444444444,
              "#bd3786"
             ],
             [
              0.5555555555555556,
              "#d8576b"
             ],
             [
              0.6666666666666666,
              "#ed7953"
             ],
             [
              0.7777777777777778,
              "#fb9f3a"
             ],
             [
              0.8888888888888888,
              "#fdca26"
             ],
             [
              1,
              "#f0f921"
             ]
            ],
            "type": "histogram2dcontour"
           }
          ],
          "mesh3d": [
           {
            "colorbar": {
             "outlinewidth": 0,
             "ticks": ""
            },
            "type": "mesh3d"
           }
          ],
          "parcoords": [
           {
            "line": {
             "colorbar": {
              "outlinewidth": 0,
              "ticks": ""
             }
            },
            "type": "parcoords"
           }
          ],
          "pie": [
           {
            "automargin": true,
            "type": "pie"
           }
          ],
          "scatter": [
           {
            "fillpattern": {
             "fillmode": "overlay",
             "size": 10,
             "solidity": 0.2
            },
            "type": "scatter"
           }
          ],
          "scatter3d": [
           {
            "line": {
             "colorbar": {
              "outlinewidth": 0,
              "ticks": ""
             }
            },
            "marker": {
             "colorbar": {
              "outlinewidth": 0,
              "ticks": ""
             }
            },
            "type": "scatter3d"
           }
          ],
          "scattercarpet": [
           {
            "marker": {
             "colorbar": {
              "outlinewidth": 0,
              "ticks": ""
             }
            },
            "type": "scattercarpet"
           }
          ],
          "scattergeo": [
           {
            "marker": {
             "colorbar": {
              "outlinewidth": 0,
              "ticks": ""
             }
            },
            "type": "scattergeo"
           }
          ],
          "scattergl": [
           {
            "marker": {
             "colorbar": {
              "outlinewidth": 0,
              "ticks": ""
             }
            },
            "type": "scattergl"
           }
          ],
          "scattermap": [
           {
            "marker": {
             "colorbar": {
              "outlinewidth": 0,
              "ticks": ""
             }
            },
            "type": "scattermap"
           }
          ],
          "scattermapbox": [
           {
            "marker": {
             "colorbar": {
              "outlinewidth": 0,
              "ticks": ""
             }
            },
            "type": "scattermapbox"
           }
          ],
          "scatterpolar": [
           {
            "marker": {
             "colorbar": {
              "outlinewidth": 0,
              "ticks": ""
             }
            },
            "type": "scatterpolar"
           }
          ],
          "scatterpolargl": [
           {
            "marker": {
             "colorbar": {
              "outlinewidth": 0,
              "ticks": ""
             }
            },
            "type": "scatterpolargl"
           }
          ],
          "scatterternary": [
           {
            "marker": {
             "colorbar": {
              "outlinewidth": 0,
              "ticks": ""
             }
            },
            "type": "scatterternary"
           }
          ],
          "surface": [
           {
            "colorbar": {
             "outlinewidth": 0,
             "ticks": ""
            },
            "colorscale": [
             [
              0,
              "#0d0887"
             ],
             [
              0.1111111111111111,
              "#46039f"
             ],
             [
              0.2222222222222222,
              "#7201a8"
             ],
             [
              0.3333333333333333,
              "#9c179e"
             ],
             [
              0.4444444444444444,
              "#bd3786"
             ],
             [
              0.5555555555555556,
              "#d8576b"
             ],
             [
              0.6666666666666666,
              "#ed7953"
             ],
             [
              0.7777777777777778,
              "#fb9f3a"
             ],
             [
              0.8888888888888888,
              "#fdca26"
             ],
             [
              1,
              "#f0f921"
             ]
            ],
            "type": "surface"
           }
          ],
          "table": [
           {
            "cells": {
             "fill": {
              "color": "#EBF0F8"
             },
             "line": {
              "color": "white"
             }
            },
            "header": {
             "fill": {
              "color": "#C8D4E3"
             },
             "line": {
              "color": "white"
             }
            },
            "type": "table"
           }
          ]
         },
         "layout": {
          "annotationdefaults": {
           "arrowcolor": "#2a3f5f",
           "arrowhead": 0,
           "arrowwidth": 1
          },
          "autotypenumbers": "strict",
          "coloraxis": {
           "colorbar": {
            "outlinewidth": 0,
            "ticks": ""
           }
          },
          "colorscale": {
           "diverging": [
            [
             0,
             "#8e0152"
            ],
            [
             0.1,
             "#c51b7d"
            ],
            [
             0.2,
             "#de77ae"
            ],
            [
             0.3,
             "#f1b6da"
            ],
            [
             0.4,
             "#fde0ef"
            ],
            [
             0.5,
             "#f7f7f7"
            ],
            [
             0.6,
             "#e6f5d0"
            ],
            [
             0.7,
             "#b8e186"
            ],
            [
             0.8,
             "#7fbc41"
            ],
            [
             0.9,
             "#4d9221"
            ],
            [
             1,
             "#276419"
            ]
           ],
           "sequential": [
            [
             0,
             "#0d0887"
            ],
            [
             0.1111111111111111,
             "#46039f"
            ],
            [
             0.2222222222222222,
             "#7201a8"
            ],
            [
             0.3333333333333333,
             "#9c179e"
            ],
            [
             0.4444444444444444,
             "#bd3786"
            ],
            [
             0.5555555555555556,
             "#d8576b"
            ],
            [
             0.6666666666666666,
             "#ed7953"
            ],
            [
             0.7777777777777778,
             "#fb9f3a"
            ],
            [
             0.8888888888888888,
             "#fdca26"
            ],
            [
             1,
             "#f0f921"
            ]
           ],
           "sequentialminus": [
            [
             0,
             "#0d0887"
            ],
            [
             0.1111111111111111,
             "#46039f"
            ],
            [
             0.2222222222222222,
             "#7201a8"
            ],
            [
             0.3333333333333333,
             "#9c179e"
            ],
            [
             0.4444444444444444,
             "#bd3786"
            ],
            [
             0.5555555555555556,
             "#d8576b"
            ],
            [
             0.6666666666666666,
             "#ed7953"
            ],
            [
             0.7777777777777778,
             "#fb9f3a"
            ],
            [
             0.8888888888888888,
             "#fdca26"
            ],
            [
             1,
             "#f0f921"
            ]
           ]
          },
          "colorway": [
           "#636efa",
           "#EF553B",
           "#00cc96",
           "#ab63fa",
           "#FFA15A",
           "#19d3f3",
           "#FF6692",
           "#B6E880",
           "#FF97FF",
           "#FECB52"
          ],
          "font": {
           "color": "#2a3f5f"
          },
          "geo": {
           "bgcolor": "white",
           "lakecolor": "white",
           "landcolor": "#E5ECF6",
           "showlakes": true,
           "showland": true,
           "subunitcolor": "white"
          },
          "hoverlabel": {
           "align": "left"
          },
          "hovermode": "closest",
          "mapbox": {
           "style": "light"
          },
          "paper_bgcolor": "white",
          "plot_bgcolor": "#E5ECF6",
          "polar": {
           "angularaxis": {
            "gridcolor": "white",
            "linecolor": "white",
            "ticks": ""
           },
           "bgcolor": "#E5ECF6",
           "radialaxis": {
            "gridcolor": "white",
            "linecolor": "white",
            "ticks": ""
           }
          },
          "scene": {
           "xaxis": {
            "backgroundcolor": "#E5ECF6",
            "gridcolor": "white",
            "gridwidth": 2,
            "linecolor": "white",
            "showbackground": true,
            "ticks": "",
            "zerolinecolor": "white"
           },
           "yaxis": {
            "backgroundcolor": "#E5ECF6",
            "gridcolor": "white",
            "gridwidth": 2,
            "linecolor": "white",
            "showbackground": true,
            "ticks": "",
            "zerolinecolor": "white"
           },
           "zaxis": {
            "backgroundcolor": "#E5ECF6",
            "gridcolor": "white",
            "gridwidth": 2,
            "linecolor": "white",
            "showbackground": true,
            "ticks": "",
            "zerolinecolor": "white"
           }
          },
          "shapedefaults": {
           "line": {
            "color": "#2a3f5f"
           }
          },
          "ternary": {
           "aaxis": {
            "gridcolor": "white",
            "linecolor": "white",
            "ticks": ""
           },
           "baxis": {
            "gridcolor": "white",
            "linecolor": "white",
            "ticks": ""
           },
           "bgcolor": "#E5ECF6",
           "caxis": {
            "gridcolor": "white",
            "linecolor": "white",
            "ticks": ""
           }
          },
          "title": {
           "x": 0.05
          },
          "xaxis": {
           "automargin": true,
           "gridcolor": "white",
           "linecolor": "white",
           "ticks": "",
           "title": {
            "standoff": 15
           },
           "zerolinecolor": "white",
           "zerolinewidth": 2
          },
          "yaxis": {
           "automargin": true,
           "gridcolor": "white",
           "linecolor": "white",
           "ticks": "",
           "title": {
            "standoff": 15
           },
           "zerolinecolor": "white",
           "zerolinewidth": 2
          }
         }
        },
        "title": {
         "font": {
          "family": "Arial, sans-serif",
          "size": 20
         },
         "text": "Top 10 Highest Traffic Stores",
         "x": 0.02,
         "xanchor": "left",
         "y": 0.95,
         "yanchor": "top"
        },
        "width": 1200,
        "xaxis": {
         "anchor": "y",
         "domain": [
          0,
          1
         ],
         "showgrid": false,
         "tickangle": 45,
         "title": {
          "text": "Store"
         }
        },
        "yaxis": {
         "anchor": "x",
         "domain": [
          0,
          1
         ],
         "gridcolor": "lightgray",
         "gridwidth": 1,
         "showgrid": true,
         "tickformat": ",",
         "title": {
          "text": "Average Daily Customers"
         }
        }
       }
      }
     },
     "metadata": {},
     "output_type": "display_data"
    },
    {
     "name": "stdout",
     "output_type": "stream",
     "text": [
      "\n",
      "Top 10 Stores Performance Analysis:\n",
      "=======================================================\n",
      "Rank Store ID Avg Customers   % of #1 Store\n",
      "-------------------------------------------------------\n",
      "1    733           3,403        100.0%\n",
      "2    262           3,400         99.9%\n",
      "3    562           3,107         91.3%\n",
      "4    769           3,072         90.2%\n",
      "5    1114          2,653         77.9%\n",
      "6    817           2,605         76.5%\n",
      "7    1097          2,412         70.9%\n",
      "8    335           2,391         70.2%\n",
      "9    259           2,334         68.6%\n",
      "10   251           2,028         59.6%\n",
      "\n",
      "Summary Statistics:\n",
      "-------------------------\n",
      "Total stores analyzed: 1115\n",
      "Top 10 average: 2,740 customers\n",
      "Performance range: 1,375 customers\n",
      "Standard deviation: 477\n",
      "\n",
      "Comparative Analysis:\n",
      "--------------------\n",
      "Overall store average: 629 customers\n",
      "Top 10 outperform overall average by: 335.7%\n"
     ]
    }
   ],
   "source": [
    "# Group and get top 10 stores with highest average customers\n",
    "top10_crowded_store = (\n",
    "    df_features.groupby('store', as_index=False)['customers']\n",
    "    .mean()\n",
    "    .nlargest(10, 'customers')\n",
    ")\n",
    "\n",
    "# Add ranking column for better visualization\n",
    "top10_crowded_store['rank'] = range(1, 11)\n",
    "top10_crowded_store['store_label'] = 'Store ' + top10_crowded_store['store'].astype(str)\n",
    "\n",
    "# Create enhanced bar chart\n",
    "fig = px.bar(\n",
    "    top10_crowded_store,\n",
    "    x='store_label',\n",
    "    y='customers',\n",
    "    title='Top 10 Highest Traffic Stores',\n",
    "    labels={'store_label': 'Store', 'customers': 'Average Daily Customers'},\n",
    "    color='customers',  # Color gradient based on customer count\n",
    "    color_continuous_scale='viridis',\n",
    "    text='customers'  # Show values on bars\n",
    ")\n",
    "\n",
    "# Enhanced styling\n",
    "fig.update_layout(\n",
    "    title={\n",
    "        'text': 'Top 10 Highest Traffic Stores',\n",
    "        'x': 0.02,\n",
    "        'xanchor': 'left',\n",
    "        'y': 0.95,\n",
    "        'yanchor': 'top',\n",
    "        'font': {'size': 20, 'family': 'Arial, sans-serif'}\n",
    "    },\n",
    "    xaxis_title='Store',\n",
    "    yaxis_title='Average Daily Customers',\n",
    "    font=dict(size=12),\n",
    "    plot_bgcolor='white',\n",
    "    width=1200,\n",
    "    height=600,\n",
    "    margin=dict(t=100, b=80, l=80, r=80),\n",
    "    xaxis=dict(\n",
    "        showgrid=False,\n",
    "        tickangle=45  # Rotate labels for better readability\n",
    "    ),\n",
    "    yaxis=dict(\n",
    "        showgrid=True,\n",
    "        gridwidth=1,\n",
    "        gridcolor='lightgray',\n",
    "        tickformat=','\n",
    "    ),\n",
    "    showlegend=False  # Hide color scale legend for cleaner look\n",
    ")\n",
    "\n",
    "# Format text on bars\n",
    "fig.update_traces(\n",
    "    texttemplate='%{text:,.0f}',\n",
    "    textposition='outside',\n",
    "    textfont_size=11,\n",
    "    textfont_color='black',\n",
    "    marker_line_width=1,\n",
    "    marker_line_color='white'\n",
    ")\n",
    "\n",
    "# Add performance insights\n",
    "top_store = top10_crowded_store.iloc[0]\n",
    "bottom_store = top10_crowded_store.iloc[-1]\n",
    "avg_of_top10 = top10_crowded_store['customers'].mean()\n",
    "total_stores = df_features['store'].nunique()\n",
    "\n",
    "# Add summary annotation\n",
    "fig.add_annotation(\n",
    "    text=f\"Performance Summary:<br>\" +\n",
    "         f\"#1 Store {top_store['store']}: {top_store['customers']:,.0f} customers<br>\" +\n",
    "         f\"#10 Store {bottom_store['store']}: {bottom_store['customers']:,.0f} customers<br>\" +\n",
    "         f\"Top 10 Average: {avg_of_top10:,.0f}<br>\" +\n",
    "         f\"Gap (1st - 10th): {top_store['customers'] - bottom_store['customers']:,.0f}<br>\" +\n",
    "         f\"Total Stores: {total_stores}\",\n",
    "    xref=\"paper\", yref=\"paper\",\n",
    "    x=0.02, y=0.5,  # Left center\n",
    "    xanchor=\"left\", yanchor=\"middle\",\n",
    "    showarrow=False,\n",
    "    font=dict(size=11, color=\"black\"),\n",
    "    align=\"left\",\n",
    "    bgcolor=\"rgba(255,255,255,0.95)\",\n",
    "    bordercolor=\"gray\",\n",
    "    borderwidth=1,\n",
    "    borderpad=10\n",
    ")\n",
    "\n",
    "# Add reference line for top 10 average\n",
    "fig.add_hline(\n",
    "    y=avg_of_top10,\n",
    "    line_dash=\"dash\",\n",
    "    line_color=\"red\",\n",
    "    annotation_text=f\"Top 10 Avg: {avg_of_top10:,.0f}\",\n",
    "    annotation_position=\"top right\"\n",
    ")\n",
    "\n",
    "fig.show()\n",
    "\n",
    "# Enhanced data analysis\n",
    "print(\"\\nTop 10 Stores Performance Analysis:\")\n",
    "print(\"=\" * 55)\n",
    "print(f\"{'Rank':<4} {'Store ID':<8} {'Avg Customers':<15} {'% of #1 Store':<12}\")\n",
    "print(\"-\" * 55)\n",
    "\n",
    "for i, row in top10_crowded_store.iterrows():\n",
    "    rank = row['rank']\n",
    "    store_id = row['store']\n",
    "    customers = row['customers']\n",
    "    pct_of_top = (customers / top_store['customers']) * 100\n",
    "    print(f\"{rank:<4} {store_id:<8} {customers:>10,.0f}     {pct_of_top:>8.1f}%\")\n",
    "\n",
    "print(f\"\\nSummary Statistics:\")\n",
    "print(\"-\" * 25)\n",
    "print(f\"Total stores analyzed: {total_stores}\")\n",
    "print(f\"Top 10 average: {avg_of_top10:,.0f} customers\")\n",
    "print(f\"Performance range: {top_store['customers'] - bottom_store['customers']:,.0f} customers\")\n",
    "print(f\"Standard deviation: {top10_crowded_store['customers'].std():,.0f}\")\n",
    "\n",
    "# Additional insights\n",
    "overall_avg = df_features.groupby('store')['customers'].mean().mean()\n",
    "top10_vs_overall = ((avg_of_top10 / overall_avg) - 1) * 100\n",
    "\n",
    "print(f\"\\nComparative Analysis:\")\n",
    "print(\"-\" * 20)\n",
    "print(f\"Overall store average: {overall_avg:,.0f} customers\")\n",
    "print(f\"Top 10 outperform overall average by: {top10_vs_overall:.1f}%\")"
   ]
  },
  {
   "cell_type": "markdown",
   "id": "24f0580a-fb2f-4b19-b944-4526183ce615",
   "metadata": {},
   "source": [
    "## 3.7 Sales Analysis"
   ]
  },
  {
   "cell_type": "markdown",
   "id": "aa67a935-58c1-4ecb-9a78-9a5637c77efd",
   "metadata": {},
   "source": [
    "#### Average SalesTrend per Day"
   ]
  },
  {
   "cell_type": "code",
   "execution_count": 20,
   "id": "7c74df58-d65f-4c44-b8dc-dbe4516bc474",
   "metadata": {},
   "outputs": [
    {
     "data": {
      "application/vnd.plotly.v1+json": {
       "config": {
        "plotlyServerURL": "https://plot.ly"
       },
       "data": [
        {
         "hovertemplate": "day=%{x}<br>sales=%{y}<extra></extra>",
         "legendgroup": "",
         "line": {
          "color": "#2E8B57",
          "dash": "solid",
          "shape": "spline",
          "width": 3
         },
         "marker": {
          "color": "#FF6B6B",
          "line": {
           "color": "white",
           "width": 2
          },
          "size": 8,
          "symbol": "circle"
         },
         "mode": "lines+markers",
         "name": "",
         "orientation": "v",
         "showlegend": false,
         "type": "scatter",
         "x": [
          "Mon",
          "Tue",
          "Wed",
          "Thu",
          "Fri",
          "Sat",
          "Sun"
         ],
         "xaxis": "x",
         "y": {
          "bdata": "P8IZSaN1vkC1F582hF27QISB79RyiLlAS/7LlxtIuEB58dOJgC+6QHnSzibI4LZAaqNS8LBTaUA=",
          "dtype": "f8"
         },
         "yaxis": "y"
        }
       ],
       "layout": {
        "annotations": [
         {
          "arrowhead": 2,
          "ax": 0,
          "ay": -50,
          "bgcolor": "rgba(255,255,255,0.9)",
          "bordercolor": "red",
          "borderwidth": 1,
          "font": {
           "color": "red",
           "size": 11
          },
          "showarrow": true,
          "text": "Peak: Mon<br>(7,798 sales)",
          "x": "Mon",
          "y": 7797.637834176944
         },
         {
          "arrowhead": 2,
          "ax": 0,
          "ay": 50,
          "bgcolor": "rgba(255,255,255,0.9)",
          "bordercolor": "blue",
          "borderwidth": 1,
          "font": {
           "color": "blue",
           "size": 11
          },
          "showarrow": true,
          "text": "Lowest: Sun<br>(203 sales)",
          "x": "Sun",
          "y": 202.61534896984386
         },
         {
          "align": "right",
          "bgcolor": "rgba(255,255,255,0.9)",
          "bordercolor": "gray",
          "borderpad": 8,
          "borderwidth": 1,
          "font": {
           "color": "black",
           "size": 10
          },
          "showarrow": false,
          "text": "Weekly Average: 633<br>Standard Deviation: 268<br>Range: 101",
          "x": 0.98,
          "xanchor": "right",
          "xref": "paper",
          "y": 0.98,
          "yanchor": "top",
          "yref": "paper"
         }
        ],
        "font": {
         "size": 12
        },
        "height": 500,
        "legend": {
         "tracegroupgap": 0
        },
        "margin": {
         "b": 60,
         "l": 80,
         "r": 60,
         "t": 80
        },
        "plot_bgcolor": "white",
        "template": {
         "data": {
          "bar": [
           {
            "error_x": {
             "color": "#2a3f5f"
            },
            "error_y": {
             "color": "#2a3f5f"
            },
            "marker": {
             "line": {
              "color": "#E5ECF6",
              "width": 0.5
             },
             "pattern": {
              "fillmode": "overlay",
              "size": 10,
              "solidity": 0.2
             }
            },
            "type": "bar"
           }
          ],
          "barpolar": [
           {
            "marker": {
             "line": {
              "color": "#E5ECF6",
              "width": 0.5
             },
             "pattern": {
              "fillmode": "overlay",
              "size": 10,
              "solidity": 0.2
             }
            },
            "type": "barpolar"
           }
          ],
          "carpet": [
           {
            "aaxis": {
             "endlinecolor": "#2a3f5f",
             "gridcolor": "white",
             "linecolor": "white",
             "minorgridcolor": "white",
             "startlinecolor": "#2a3f5f"
            },
            "baxis": {
             "endlinecolor": "#2a3f5f",
             "gridcolor": "white",
             "linecolor": "white",
             "minorgridcolor": "white",
             "startlinecolor": "#2a3f5f"
            },
            "type": "carpet"
           }
          ],
          "choropleth": [
           {
            "colorbar": {
             "outlinewidth": 0,
             "ticks": ""
            },
            "type": "choropleth"
           }
          ],
          "contour": [
           {
            "colorbar": {
             "outlinewidth": 0,
             "ticks": ""
            },
            "colorscale": [
             [
              0,
              "#0d0887"
             ],
             [
              0.1111111111111111,
              "#46039f"
             ],
             [
              0.2222222222222222,
              "#7201a8"
             ],
             [
              0.3333333333333333,
              "#9c179e"
             ],
             [
              0.4444444444444444,
              "#bd3786"
             ],
             [
              0.5555555555555556,
              "#d8576b"
             ],
             [
              0.6666666666666666,
              "#ed7953"
             ],
             [
              0.7777777777777778,
              "#fb9f3a"
             ],
             [
              0.8888888888888888,
              "#fdca26"
             ],
             [
              1,
              "#f0f921"
             ]
            ],
            "type": "contour"
           }
          ],
          "contourcarpet": [
           {
            "colorbar": {
             "outlinewidth": 0,
             "ticks": ""
            },
            "type": "contourcarpet"
           }
          ],
          "heatmap": [
           {
            "colorbar": {
             "outlinewidth": 0,
             "ticks": ""
            },
            "colorscale": [
             [
              0,
              "#0d0887"
             ],
             [
              0.1111111111111111,
              "#46039f"
             ],
             [
              0.2222222222222222,
              "#7201a8"
             ],
             [
              0.3333333333333333,
              "#9c179e"
             ],
             [
              0.4444444444444444,
              "#bd3786"
             ],
             [
              0.5555555555555556,
              "#d8576b"
             ],
             [
              0.6666666666666666,
              "#ed7953"
             ],
             [
              0.7777777777777778,
              "#fb9f3a"
             ],
             [
              0.8888888888888888,
              "#fdca26"
             ],
             [
              1,
              "#f0f921"
             ]
            ],
            "type": "heatmap"
           }
          ],
          "histogram": [
           {
            "marker": {
             "pattern": {
              "fillmode": "overlay",
              "size": 10,
              "solidity": 0.2
             }
            },
            "type": "histogram"
           }
          ],
          "histogram2d": [
           {
            "colorbar": {
             "outlinewidth": 0,
             "ticks": ""
            },
            "colorscale": [
             [
              0,
              "#0d0887"
             ],
             [
              0.1111111111111111,
              "#46039f"
             ],
             [
              0.2222222222222222,
              "#7201a8"
             ],
             [
              0.3333333333333333,
              "#9c179e"
             ],
             [
              0.4444444444444444,
              "#bd3786"
             ],
             [
              0.5555555555555556,
              "#d8576b"
             ],
             [
              0.6666666666666666,
              "#ed7953"
             ],
             [
              0.7777777777777778,
              "#fb9f3a"
             ],
             [
              0.8888888888888888,
              "#fdca26"
             ],
             [
              1,
              "#f0f921"
             ]
            ],
            "type": "histogram2d"
           }
          ],
          "histogram2dcontour": [
           {
            "colorbar": {
             "outlinewidth": 0,
             "ticks": ""
            },
            "colorscale": [
             [
              0,
              "#0d0887"
             ],
             [
              0.1111111111111111,
              "#46039f"
             ],
             [
              0.2222222222222222,
              "#7201a8"
             ],
             [
              0.3333333333333333,
              "#9c179e"
             ],
             [
              0.4444444444444444,
              "#bd3786"
             ],
             [
              0.5555555555555556,
              "#d8576b"
             ],
             [
              0.6666666666666666,
              "#ed7953"
             ],
             [
              0.7777777777777778,
              "#fb9f3a"
             ],
             [
              0.8888888888888888,
              "#fdca26"
             ],
             [
              1,
              "#f0f921"
             ]
            ],
            "type": "histogram2dcontour"
           }
          ],
          "mesh3d": [
           {
            "colorbar": {
             "outlinewidth": 0,
             "ticks": ""
            },
            "type": "mesh3d"
           }
          ],
          "parcoords": [
           {
            "line": {
             "colorbar": {
              "outlinewidth": 0,
              "ticks": ""
             }
            },
            "type": "parcoords"
           }
          ],
          "pie": [
           {
            "automargin": true,
            "type": "pie"
           }
          ],
          "scatter": [
           {
            "fillpattern": {
             "fillmode": "overlay",
             "size": 10,
             "solidity": 0.2
            },
            "type": "scatter"
           }
          ],
          "scatter3d": [
           {
            "line": {
             "colorbar": {
              "outlinewidth": 0,
              "ticks": ""
             }
            },
            "marker": {
             "colorbar": {
              "outlinewidth": 0,
              "ticks": ""
             }
            },
            "type": "scatter3d"
           }
          ],
          "scattercarpet": [
           {
            "marker": {
             "colorbar": {
              "outlinewidth": 0,
              "ticks": ""
             }
            },
            "type": "scattercarpet"
           }
          ],
          "scattergeo": [
           {
            "marker": {
             "colorbar": {
              "outlinewidth": 0,
              "ticks": ""
             }
            },
            "type": "scattergeo"
           }
          ],
          "scattergl": [
           {
            "marker": {
             "colorbar": {
              "outlinewidth": 0,
              "ticks": ""
             }
            },
            "type": "scattergl"
           }
          ],
          "scattermap": [
           {
            "marker": {
             "colorbar": {
              "outlinewidth": 0,
              "ticks": ""
             }
            },
            "type": "scattermap"
           }
          ],
          "scattermapbox": [
           {
            "marker": {
             "colorbar": {
              "outlinewidth": 0,
              "ticks": ""
             }
            },
            "type": "scattermapbox"
           }
          ],
          "scatterpolar": [
           {
            "marker": {
             "colorbar": {
              "outlinewidth": 0,
              "ticks": ""
             }
            },
            "type": "scatterpolar"
           }
          ],
          "scatterpolargl": [
           {
            "marker": {
             "colorbar": {
              "outlinewidth": 0,
              "ticks": ""
             }
            },
            "type": "scatterpolargl"
           }
          ],
          "scatterternary": [
           {
            "marker": {
             "colorbar": {
              "outlinewidth": 0,
              "ticks": ""
             }
            },
            "type": "scatterternary"
           }
          ],
          "surface": [
           {
            "colorbar": {
             "outlinewidth": 0,
             "ticks": ""
            },
            "colorscale": [
             [
              0,
              "#0d0887"
             ],
             [
              0.1111111111111111,
              "#46039f"
             ],
             [
              0.2222222222222222,
              "#7201a8"
             ],
             [
              0.3333333333333333,
              "#9c179e"
             ],
             [
              0.4444444444444444,
              "#bd3786"
             ],
             [
              0.5555555555555556,
              "#d8576b"
             ],
             [
              0.6666666666666666,
              "#ed7953"
             ],
             [
              0.7777777777777778,
              "#fb9f3a"
             ],
             [
              0.8888888888888888,
              "#fdca26"
             ],
             [
              1,
              "#f0f921"
             ]
            ],
            "type": "surface"
           }
          ],
          "table": [
           {
            "cells": {
             "fill": {
              "color": "#EBF0F8"
             },
             "line": {
              "color": "white"
             }
            },
            "header": {
             "fill": {
              "color": "#C8D4E3"
             },
             "line": {
              "color": "white"
             }
            },
            "type": "table"
           }
          ]
         },
         "layout": {
          "annotationdefaults": {
           "arrowcolor": "#2a3f5f",
           "arrowhead": 0,
           "arrowwidth": 1
          },
          "autotypenumbers": "strict",
          "coloraxis": {
           "colorbar": {
            "outlinewidth": 0,
            "ticks": ""
           }
          },
          "colorscale": {
           "diverging": [
            [
             0,
             "#8e0152"
            ],
            [
             0.1,
             "#c51b7d"
            ],
            [
             0.2,
             "#de77ae"
            ],
            [
             0.3,
             "#f1b6da"
            ],
            [
             0.4,
             "#fde0ef"
            ],
            [
             0.5,
             "#f7f7f7"
            ],
            [
             0.6,
             "#e6f5d0"
            ],
            [
             0.7,
             "#b8e186"
            ],
            [
             0.8,
             "#7fbc41"
            ],
            [
             0.9,
             "#4d9221"
            ],
            [
             1,
             "#276419"
            ]
           ],
           "sequential": [
            [
             0,
             "#0d0887"
            ],
            [
             0.1111111111111111,
             "#46039f"
            ],
            [
             0.2222222222222222,
             "#7201a8"
            ],
            [
             0.3333333333333333,
             "#9c179e"
            ],
            [
             0.4444444444444444,
             "#bd3786"
            ],
            [
             0.5555555555555556,
             "#d8576b"
            ],
            [
             0.6666666666666666,
             "#ed7953"
            ],
            [
             0.7777777777777778,
             "#fb9f3a"
            ],
            [
             0.8888888888888888,
             "#fdca26"
            ],
            [
             1,
             "#f0f921"
            ]
           ],
           "sequentialminus": [
            [
             0,
             "#0d0887"
            ],
            [
             0.1111111111111111,
             "#46039f"
            ],
            [
             0.2222222222222222,
             "#7201a8"
            ],
            [
             0.3333333333333333,
             "#9c179e"
            ],
            [
             0.4444444444444444,
             "#bd3786"
            ],
            [
             0.5555555555555556,
             "#d8576b"
            ],
            [
             0.6666666666666666,
             "#ed7953"
            ],
            [
             0.7777777777777778,
             "#fb9f3a"
            ],
            [
             0.8888888888888888,
             "#fdca26"
            ],
            [
             1,
             "#f0f921"
            ]
           ]
          },
          "colorway": [
           "#636efa",
           "#EF553B",
           "#00cc96",
           "#ab63fa",
           "#FFA15A",
           "#19d3f3",
           "#FF6692",
           "#B6E880",
           "#FF97FF",
           "#FECB52"
          ],
          "font": {
           "color": "#2a3f5f"
          },
          "geo": {
           "bgcolor": "white",
           "lakecolor": "white",
           "landcolor": "#E5ECF6",
           "showlakes": true,
           "showland": true,
           "subunitcolor": "white"
          },
          "hoverlabel": {
           "align": "left"
          },
          "hovermode": "closest",
          "mapbox": {
           "style": "light"
          },
          "paper_bgcolor": "white",
          "plot_bgcolor": "#E5ECF6",
          "polar": {
           "angularaxis": {
            "gridcolor": "white",
            "linecolor": "white",
            "ticks": ""
           },
           "bgcolor": "#E5ECF6",
           "radialaxis": {
            "gridcolor": "white",
            "linecolor": "white",
            "ticks": ""
           }
          },
          "scene": {
           "xaxis": {
            "backgroundcolor": "#E5ECF6",
            "gridcolor": "white",
            "gridwidth": 2,
            "linecolor": "white",
            "showbackground": true,
            "ticks": "",
            "zerolinecolor": "white"
           },
           "yaxis": {
            "backgroundcolor": "#E5ECF6",
            "gridcolor": "white",
            "gridwidth": 2,
            "linecolor": "white",
            "showbackground": true,
            "ticks": "",
            "zerolinecolor": "white"
           },
           "zaxis": {
            "backgroundcolor": "#E5ECF6",
            "gridcolor": "white",
            "gridwidth": 2,
            "linecolor": "white",
            "showbackground": true,
            "ticks": "",
            "zerolinecolor": "white"
           }
          },
          "shapedefaults": {
           "line": {
            "color": "#2a3f5f"
           }
          },
          "ternary": {
           "aaxis": {
            "gridcolor": "white",
            "linecolor": "white",
            "ticks": ""
           },
           "baxis": {
            "gridcolor": "white",
            "linecolor": "white",
            "ticks": ""
           },
           "bgcolor": "#E5ECF6",
           "caxis": {
            "gridcolor": "white",
            "linecolor": "white",
            "ticks": ""
           }
          },
          "title": {
           "x": 0.05
          },
          "xaxis": {
           "automargin": true,
           "gridcolor": "white",
           "linecolor": "white",
           "ticks": "",
           "title": {
            "standoff": 15
           },
           "zerolinecolor": "white",
           "zerolinewidth": 2
          },
          "yaxis": {
           "automargin": true,
           "gridcolor": "white",
           "linecolor": "white",
           "ticks": "",
           "title": {
            "standoff": 15
           },
           "zerolinecolor": "white",
           "zerolinewidth": 2
          }
         }
        },
        "title": {
         "font": {
          "family": "Arial, sans-serif",
          "size": 18
         },
         "text": "Average Sales Traffic by Day of Week",
         "x": 0.02,
         "xanchor": "left",
         "y": 0.95,
         "yanchor": "top"
        },
        "width": 900,
        "xaxis": {
         "anchor": "y",
         "domain": [
          0,
          1
         ],
         "gridcolor": "lightgray",
         "gridwidth": 1,
         "showgrid": true,
         "title": {
          "text": "Day of Week"
         }
        },
        "yaxis": {
         "anchor": "x",
         "domain": [
          0,
          1
         ],
         "gridcolor": "lightgray",
         "gridwidth": 1,
         "showgrid": true,
         "tickformat": ",",
         "title": {
          "text": "Average Sales"
         }
        }
       }
      }
     },
     "metadata": {},
     "output_type": "display_data"
    },
    {
     "name": "stdout",
     "output_type": "stream",
     "text": [
      "\n",
      "Weekday Sales Traffic Summary:\n",
      "---------------------------------------------\n",
      "Mon: 7,798 sales (100.0% of peak)\n",
      "Tue: 7,006 sales (89.8% of peak)\n",
      "Wed: 6,536 sales (83.8% of peak)\n",
      "Thu: 6,216 sales (79.7% of peak)\n",
      "Fri: 6,704 sales (86.0% of peak)\n",
      "Sat: 5,857 sales (75.1% of peak)\n",
      "Sun: 203 sales (2.6% of peak)\n",
      "\n",
      "Weekly Statistics:\n",
      "Average daily Sales: 5,760\n",
      "Peak day: Mon (7,798 sales)\n",
      "Lowest day: Sun (203 sales)\n",
      "Difference (Peak - Lowest): 7,595 sales\n"
     ]
    }
   ],
   "source": [
    "\n",
    "# Define weekday order\n",
    "weekday_order = ['Mon', 'Tue', 'Wed', 'Thu', 'Fri', 'Sat', 'Sun']\n",
    "\n",
    "# Calculate mean customers by day\n",
    "dow_agg = df_features.groupby('day', as_index=False)[['sales']].mean()\n",
    "\n",
    "# Apply categorical ordering\n",
    "dow_agg['day'] = pd.Categorical(dow_agg['day'], categories=weekday_order, ordered=True)\n",
    "dow_agg = dow_agg.sort_values('day')\n",
    "\n",
    "# Identify peak and lowest days\n",
    "peak_row = dow_agg.loc[dow_agg['sales'].idxmax()]\n",
    "lowest_row = dow_agg.loc[dow_agg['sales'].idxmin()]\n",
    "peak_day = peak_row['day']\n",
    "peak_value = peak_row['sales']\n",
    "lowest_day = lowest_row['day']\n",
    "lowest_value = lowest_row['sales']\n",
    "\n",
    "# Create enhanced line chart\n",
    "fig = px.line(\n",
    "    dow_agg, \n",
    "    x='day', \n",
    "    y='sales', \n",
    "    title='Average Sales Traffic by Day of Week',\n",
    "    markers=True,\n",
    "    line_shape='spline'  # Smooth curve\n",
    ")\n",
    "\n",
    "# Enhanced styling\n",
    "fig.update_layout(\n",
    "    title={\n",
    "        'text': 'Average Sales Traffic by Day of Week',\n",
    "        'x': 0.02,\n",
    "        'xanchor': 'left',\n",
    "        'y': 0.95,\n",
    "        'yanchor': 'top',\n",
    "        'font': {'size': 18, 'family': 'Arial, sans-serif'}\n",
    "    },\n",
    "    xaxis_title='Day of Week',\n",
    "    yaxis_title='Average Sales',\n",
    "    font=dict(size=12),\n",
    "    plot_bgcolor='white',\n",
    "    width=900,\n",
    "    height=500,\n",
    "    margin=dict(t=80, b=60, l=80, r=60),\n",
    "    xaxis=dict(\n",
    "        showgrid=True,\n",
    "        gridwidth=1,\n",
    "        gridcolor='lightgray'\n",
    "    ),\n",
    "    yaxis=dict(\n",
    "        showgrid=True,\n",
    "        gridwidth=1,\n",
    "        gridcolor='lightgray',\n",
    "        tickformat=','\n",
    "    )\n",
    ")\n",
    "\n",
    "# Improve line and marker styling\n",
    "fig.update_traces(\n",
    "    line=dict(width=3, color='#2E8B57'),\n",
    "    marker=dict(\n",
    "        size=8,\n",
    "        color='#FF6B6B',\n",
    "        line=dict(width=2, color='white')\n",
    "    )\n",
    ")\n",
    "\n",
    "# Add annotation for peak day\n",
    "fig.add_annotation(\n",
    "    x=peak_day,\n",
    "    y=peak_value,\n",
    "    text=f\"Peak: {peak_day}<br>({peak_value:,.0f} sales)\",\n",
    "    showarrow=True,\n",
    "    arrowhead=2,\n",
    "    ax=0,\n",
    "    ay=-50,\n",
    "    font=dict(color=\"red\", size=11),\n",
    "    bgcolor=\"rgba(255,255,255,0.9)\",\n",
    "    bordercolor=\"red\",\n",
    "    borderwidth=1\n",
    ")\n",
    "\n",
    "# Add annotation for lowest day\n",
    "fig.add_annotation(\n",
    "    x=lowest_day,\n",
    "    y=lowest_value,\n",
    "    text=f\"Lowest: {lowest_day}<br>({lowest_value:,.0f} sales)\",\n",
    "    showarrow=True,\n",
    "    arrowhead=2,\n",
    "    ax=0,\n",
    "    ay=50,\n",
    "    font=dict(color=\"blue\", size=11),\n",
    "    bgcolor=\"rgba(255,255,255,0.9)\",\n",
    "    bordercolor=\"blue\",\n",
    "    borderwidth=1\n",
    ")\n",
    "\n",
    "# Add summary statistics box\n",
    "avg_sales = dow_agg['sales'].mean()\n",
    "std_sales = dow_agg['sales'].std()\n",
    "range_sales = peak_value - lowest_value\n",
    "\n",
    "fig.add_annotation(\n",
    "    text=f\"Weekly Average: {avg_customers:,.0f}<br>Standard Deviation: {std_customers:,.0f}<br>Range: {range_customers:,.0f}\",\n",
    "    xref=\"paper\", yref=\"paper\",\n",
    "    x=0.98, y=0.98,\n",
    "    xanchor=\"right\", yanchor=\"top\",\n",
    "    showarrow=False,\n",
    "    font=dict(size=10, color=\"black\"),\n",
    "    align=\"right\",\n",
    "    bgcolor=\"rgba(255,255,255,0.9)\",\n",
    "    bordercolor=\"gray\",\n",
    "    borderwidth=1,\n",
    "    borderpad=8\n",
    ")\n",
    "\n",
    "fig.show()\n",
    "\n",
    "# Print detailed summary\n",
    "print(\"\\nWeekday Sales Traffic Summary:\")\n",
    "print(\"-\" * 45)\n",
    "for _, row in dow_agg.iterrows():\n",
    "    day = row['day']\n",
    "    sales = row['sales']\n",
    "    percentage_of_peak = (sales / peak_value) * 100\n",
    "    print(f\"{day}: {sales:,.0f} sales ({percentage_of_peak:.1f}% of peak)\")\n",
    "\n",
    "print(f\"\\nWeekly Statistics:\")\n",
    "print(f\"Average daily Sales: {avg_sales:,.0f}\")\n",
    "print(f\"Peak day: {peak_day} ({peak_value:,.0f} sales)\")\n",
    "print(f\"Lowest day: {lowest_day} ({lowest_value:,.0f} sales)\")\n",
    "print(f\"Difference (Peak - Lowest): {range_sales:,.0f} sales\")"
   ]
  },
  {
   "cell_type": "markdown",
   "id": "d9f69d23-5ee7-4a42-8f7a-7a2278ec6d42",
   "metadata": {},
   "source": [
    "### Holiday and Schoolday Impact"
   ]
  },
  {
   "cell_type": "code",
   "execution_count": 21,
   "id": "ddddf2d2-1ef7-49f4-92ec-7ec9328f8080",
   "metadata": {},
   "outputs": [
    {
     "data": {
      "application/vnd.plotly.v1+json": {
       "config": {
        "plotlyServerURL": "https://plot.ly"
       },
       "data": [
        {
         "hovertemplate": "Month=%{x}<br>sales=%{y}<extra></extra>",
         "legendgroup": "",
         "line": {
          "color": "#1f77b4",
          "dash": "solid",
          "shape": "spline",
          "width": 3
         },
         "marker": {
          "color": "#ff7f0e",
          "line": {
           "color": "white",
           "width": 2
          },
          "size": 10,
          "symbol": "circle"
         },
         "mode": "lines+markers",
         "name": "",
         "orientation": "v",
         "showlegend": false,
         "type": "scatter",
         "x": [
          "Jan",
          "Feb",
          "Mar",
          "Apr",
          "May",
          "Jun",
          "Jul",
          "Aug",
          "Sep",
          "Oct",
          "Nov",
          "Dec"
         ],
         "xaxis": "x",
         "y": {
          "bdata": "HQlmQWVZtUAhCWvOQA22QJM33zCUmLZAtIox7t1qtkCXN0XVo3G1QJV0QuH2gLZAvbDRC5uGt0DOQ+A8BD22QI28/Ps+wrVARZlQlAmhtUCfY0+gHHi3QDPIMYOcqrpA",
          "dtype": "f8"
         },
         "yaxis": "y"
        }
       ],
       "layout": {
        "annotations": [
         {
          "arrowcolor": "red",
          "arrowhead": 2,
          "arrowsize": 1,
          "arrowwidth": 2,
          "bgcolor": "rgba(255,255,255,0.9)",
          "bordercolor": "red",
          "borderwidth": 1,
          "font": {
           "color": "red",
           "size": 11
          },
          "showarrow": true,
          "text": "Peak: Dec<br>(6,827 sales)",
          "x": "Dec",
          "y": 6826.611376868607,
          "yshift": 20
         },
         {
          "arrowcolor": "blue",
          "arrowhead": 2,
          "arrowsize": 1,
          "arrowwidth": 2,
          "bgcolor": "rgba(255,255,255,0.9)",
          "bordercolor": "blue",
          "borderwidth": 1,
          "font": {
           "color": "blue",
           "size": 11
          },
          "showarrow": true,
          "text": "Lowest: Jan<br>(5,465 sales)",
          "x": "Jan",
          "y": 5465.395529153085,
          "yshift": -30
         },
         {
          "align": "left",
          "bgcolor": "rgba(255,255,255,0.9)",
          "bordercolor": "gray",
          "borderpad": 8,
          "borderwidth": 1,
          "font": {
           "color": "black",
           "size": 10
          },
          "showarrow": false,
          "text": "Yearly Average: 5,795<br>Standard Deviation: 371<br>Range: 1,361<br><br>Seasonal Averages:<br>Spring: 5,671<br>Summer: 5,826<br>Fall: 5,705<br>Winter: 5,979",
          "x": 0.02,
          "xanchor": "left",
          "xref": "paper",
          "y": 0.5,
          "yanchor": "middle",
          "yref": "paper"
         }
        ],
        "font": {
         "size": 12
        },
        "height": 550,
        "legend": {
         "tracegroupgap": 0
        },
        "margin": {
         "b": 60,
         "l": 80,
         "r": 80,
         "t": 80
        },
        "plot_bgcolor": "white",
        "template": {
         "data": {
          "bar": [
           {
            "error_x": {
             "color": "#2a3f5f"
            },
            "error_y": {
             "color": "#2a3f5f"
            },
            "marker": {
             "line": {
              "color": "#E5ECF6",
              "width": 0.5
             },
             "pattern": {
              "fillmode": "overlay",
              "size": 10,
              "solidity": 0.2
             }
            },
            "type": "bar"
           }
          ],
          "barpolar": [
           {
            "marker": {
             "line": {
              "color": "#E5ECF6",
              "width": 0.5
             },
             "pattern": {
              "fillmode": "overlay",
              "size": 10,
              "solidity": 0.2
             }
            },
            "type": "barpolar"
           }
          ],
          "carpet": [
           {
            "aaxis": {
             "endlinecolor": "#2a3f5f",
             "gridcolor": "white",
             "linecolor": "white",
             "minorgridcolor": "white",
             "startlinecolor": "#2a3f5f"
            },
            "baxis": {
             "endlinecolor": "#2a3f5f",
             "gridcolor": "white",
             "linecolor": "white",
             "minorgridcolor": "white",
             "startlinecolor": "#2a3f5f"
            },
            "type": "carpet"
           }
          ],
          "choropleth": [
           {
            "colorbar": {
             "outlinewidth": 0,
             "ticks": ""
            },
            "type": "choropleth"
           }
          ],
          "contour": [
           {
            "colorbar": {
             "outlinewidth": 0,
             "ticks": ""
            },
            "colorscale": [
             [
              0,
              "#0d0887"
             ],
             [
              0.1111111111111111,
              "#46039f"
             ],
             [
              0.2222222222222222,
              "#7201a8"
             ],
             [
              0.3333333333333333,
              "#9c179e"
             ],
             [
              0.4444444444444444,
              "#bd3786"
             ],
             [
              0.5555555555555556,
              "#d8576b"
             ],
             [
              0.6666666666666666,
              "#ed7953"
             ],
             [
              0.7777777777777778,
              "#fb9f3a"
             ],
             [
              0.8888888888888888,
              "#fdca26"
             ],
             [
              1,
              "#f0f921"
             ]
            ],
            "type": "contour"
           }
          ],
          "contourcarpet": [
           {
            "colorbar": {
             "outlinewidth": 0,
             "ticks": ""
            },
            "type": "contourcarpet"
           }
          ],
          "heatmap": [
           {
            "colorbar": {
             "outlinewidth": 0,
             "ticks": ""
            },
            "colorscale": [
             [
              0,
              "#0d0887"
             ],
             [
              0.1111111111111111,
              "#46039f"
             ],
             [
              0.2222222222222222,
              "#7201a8"
             ],
             [
              0.3333333333333333,
              "#9c179e"
             ],
             [
              0.4444444444444444,
              "#bd3786"
             ],
             [
              0.5555555555555556,
              "#d8576b"
             ],
             [
              0.6666666666666666,
              "#ed7953"
             ],
             [
              0.7777777777777778,
              "#fb9f3a"
             ],
             [
              0.8888888888888888,
              "#fdca26"
             ],
             [
              1,
              "#f0f921"
             ]
            ],
            "type": "heatmap"
           }
          ],
          "histogram": [
           {
            "marker": {
             "pattern": {
              "fillmode": "overlay",
              "size": 10,
              "solidity": 0.2
             }
            },
            "type": "histogram"
           }
          ],
          "histogram2d": [
           {
            "colorbar": {
             "outlinewidth": 0,
             "ticks": ""
            },
            "colorscale": [
             [
              0,
              "#0d0887"
             ],
             [
              0.1111111111111111,
              "#46039f"
             ],
             [
              0.2222222222222222,
              "#7201a8"
             ],
             [
              0.3333333333333333,
              "#9c179e"
             ],
             [
              0.4444444444444444,
              "#bd3786"
             ],
             [
              0.5555555555555556,
              "#d8576b"
             ],
             [
              0.6666666666666666,
              "#ed7953"
             ],
             [
              0.7777777777777778,
              "#fb9f3a"
             ],
             [
              0.8888888888888888,
              "#fdca26"
             ],
             [
              1,
              "#f0f921"
             ]
            ],
            "type": "histogram2d"
           }
          ],
          "histogram2dcontour": [
           {
            "colorbar": {
             "outlinewidth": 0,
             "ticks": ""
            },
            "colorscale": [
             [
              0,
              "#0d0887"
             ],
             [
              0.1111111111111111,
              "#46039f"
             ],
             [
              0.2222222222222222,
              "#7201a8"
             ],
             [
              0.3333333333333333,
              "#9c179e"
             ],
             [
              0.4444444444444444,
              "#bd3786"
             ],
             [
              0.5555555555555556,
              "#d8576b"
             ],
             [
              0.6666666666666666,
              "#ed7953"
             ],
             [
              0.7777777777777778,
              "#fb9f3a"
             ],
             [
              0.8888888888888888,
              "#fdca26"
             ],
             [
              1,
              "#f0f921"
             ]
            ],
            "type": "histogram2dcontour"
           }
          ],
          "mesh3d": [
           {
            "colorbar": {
             "outlinewidth": 0,
             "ticks": ""
            },
            "type": "mesh3d"
           }
          ],
          "parcoords": [
           {
            "line": {
             "colorbar": {
              "outlinewidth": 0,
              "ticks": ""
             }
            },
            "type": "parcoords"
           }
          ],
          "pie": [
           {
            "automargin": true,
            "type": "pie"
           }
          ],
          "scatter": [
           {
            "fillpattern": {
             "fillmode": "overlay",
             "size": 10,
             "solidity": 0.2
            },
            "type": "scatter"
           }
          ],
          "scatter3d": [
           {
            "line": {
             "colorbar": {
              "outlinewidth": 0,
              "ticks": ""
             }
            },
            "marker": {
             "colorbar": {
              "outlinewidth": 0,
              "ticks": ""
             }
            },
            "type": "scatter3d"
           }
          ],
          "scattercarpet": [
           {
            "marker": {
             "colorbar": {
              "outlinewidth": 0,
              "ticks": ""
             }
            },
            "type": "scattercarpet"
           }
          ],
          "scattergeo": [
           {
            "marker": {
             "colorbar": {
              "outlinewidth": 0,
              "ticks": ""
             }
            },
            "type": "scattergeo"
           }
          ],
          "scattergl": [
           {
            "marker": {
             "colorbar": {
              "outlinewidth": 0,
              "ticks": ""
             }
            },
            "type": "scattergl"
           }
          ],
          "scattermap": [
           {
            "marker": {
             "colorbar": {
              "outlinewidth": 0,
              "ticks": ""
             }
            },
            "type": "scattermap"
           }
          ],
          "scattermapbox": [
           {
            "marker": {
             "colorbar": {
              "outlinewidth": 0,
              "ticks": ""
             }
            },
            "type": "scattermapbox"
           }
          ],
          "scatterpolar": [
           {
            "marker": {
             "colorbar": {
              "outlinewidth": 0,
              "ticks": ""
             }
            },
            "type": "scatterpolar"
           }
          ],
          "scatterpolargl": [
           {
            "marker": {
             "colorbar": {
              "outlinewidth": 0,
              "ticks": ""
             }
            },
            "type": "scatterpolargl"
           }
          ],
          "scatterternary": [
           {
            "marker": {
             "colorbar": {
              "outlinewidth": 0,
              "ticks": ""
             }
            },
            "type": "scatterternary"
           }
          ],
          "surface": [
           {
            "colorbar": {
             "outlinewidth": 0,
             "ticks": ""
            },
            "colorscale": [
             [
              0,
              "#0d0887"
             ],
             [
              0.1111111111111111,
              "#46039f"
             ],
             [
              0.2222222222222222,
              "#7201a8"
             ],
             [
              0.3333333333333333,
              "#9c179e"
             ],
             [
              0.4444444444444444,
              "#bd3786"
             ],
             [
              0.5555555555555556,
              "#d8576b"
             ],
             [
              0.6666666666666666,
              "#ed7953"
             ],
             [
              0.7777777777777778,
              "#fb9f3a"
             ],
             [
              0.8888888888888888,
              "#fdca26"
             ],
             [
              1,
              "#f0f921"
             ]
            ],
            "type": "surface"
           }
          ],
          "table": [
           {
            "cells": {
             "fill": {
              "color": "#EBF0F8"
             },
             "line": {
              "color": "white"
             }
            },
            "header": {
             "fill": {
              "color": "#C8D4E3"
             },
             "line": {
              "color": "white"
             }
            },
            "type": "table"
           }
          ]
         },
         "layout": {
          "annotationdefaults": {
           "arrowcolor": "#2a3f5f",
           "arrowhead": 0,
           "arrowwidth": 1
          },
          "autotypenumbers": "strict",
          "coloraxis": {
           "colorbar": {
            "outlinewidth": 0,
            "ticks": ""
           }
          },
          "colorscale": {
           "diverging": [
            [
             0,
             "#8e0152"
            ],
            [
             0.1,
             "#c51b7d"
            ],
            [
             0.2,
             "#de77ae"
            ],
            [
             0.3,
             "#f1b6da"
            ],
            [
             0.4,
             "#fde0ef"
            ],
            [
             0.5,
             "#f7f7f7"
            ],
            [
             0.6,
             "#e6f5d0"
            ],
            [
             0.7,
             "#b8e186"
            ],
            [
             0.8,
             "#7fbc41"
            ],
            [
             0.9,
             "#4d9221"
            ],
            [
             1,
             "#276419"
            ]
           ],
           "sequential": [
            [
             0,
             "#0d0887"
            ],
            [
             0.1111111111111111,
             "#46039f"
            ],
            [
             0.2222222222222222,
             "#7201a8"
            ],
            [
             0.3333333333333333,
             "#9c179e"
            ],
            [
             0.4444444444444444,
             "#bd3786"
            ],
            [
             0.5555555555555556,
             "#d8576b"
            ],
            [
             0.6666666666666666,
             "#ed7953"
            ],
            [
             0.7777777777777778,
             "#fb9f3a"
            ],
            [
             0.8888888888888888,
             "#fdca26"
            ],
            [
             1,
             "#f0f921"
            ]
           ],
           "sequentialminus": [
            [
             0,
             "#0d0887"
            ],
            [
             0.1111111111111111,
             "#46039f"
            ],
            [
             0.2222222222222222,
             "#7201a8"
            ],
            [
             0.3333333333333333,
             "#9c179e"
            ],
            [
             0.4444444444444444,
             "#bd3786"
            ],
            [
             0.5555555555555556,
             "#d8576b"
            ],
            [
             0.6666666666666666,
             "#ed7953"
            ],
            [
             0.7777777777777778,
             "#fb9f3a"
            ],
            [
             0.8888888888888888,
             "#fdca26"
            ],
            [
             1,
             "#f0f921"
            ]
           ]
          },
          "colorway": [
           "#636efa",
           "#EF553B",
           "#00cc96",
           "#ab63fa",
           "#FFA15A",
           "#19d3f3",
           "#FF6692",
           "#B6E880",
           "#FF97FF",
           "#FECB52"
          ],
          "font": {
           "color": "#2a3f5f"
          },
          "geo": {
           "bgcolor": "white",
           "lakecolor": "white",
           "landcolor": "#E5ECF6",
           "showlakes": true,
           "showland": true,
           "subunitcolor": "white"
          },
          "hoverlabel": {
           "align": "left"
          },
          "hovermode": "closest",
          "mapbox": {
           "style": "light"
          },
          "paper_bgcolor": "white",
          "plot_bgcolor": "#E5ECF6",
          "polar": {
           "angularaxis": {
            "gridcolor": "white",
            "linecolor": "white",
            "ticks": ""
           },
           "bgcolor": "#E5ECF6",
           "radialaxis": {
            "gridcolor": "white",
            "linecolor": "white",
            "ticks": ""
           }
          },
          "scene": {
           "xaxis": {
            "backgroundcolor": "#E5ECF6",
            "gridcolor": "white",
            "gridwidth": 2,
            "linecolor": "white",
            "showbackground": true,
            "ticks": "",
            "zerolinecolor": "white"
           },
           "yaxis": {
            "backgroundcolor": "#E5ECF6",
            "gridcolor": "white",
            "gridwidth": 2,
            "linecolor": "white",
            "showbackground": true,
            "ticks": "",
            "zerolinecolor": "white"
           },
           "zaxis": {
            "backgroundcolor": "#E5ECF6",
            "gridcolor": "white",
            "gridwidth": 2,
            "linecolor": "white",
            "showbackground": true,
            "ticks": "",
            "zerolinecolor": "white"
           }
          },
          "shapedefaults": {
           "line": {
            "color": "#2a3f5f"
           }
          },
          "ternary": {
           "aaxis": {
            "gridcolor": "white",
            "linecolor": "white",
            "ticks": ""
           },
           "baxis": {
            "gridcolor": "white",
            "linecolor": "white",
            "ticks": ""
           },
           "bgcolor": "#E5ECF6",
           "caxis": {
            "gridcolor": "white",
            "linecolor": "white",
            "ticks": ""
           }
          },
          "title": {
           "x": 0.05
          },
          "xaxis": {
           "automargin": true,
           "gridcolor": "white",
           "linecolor": "white",
           "ticks": "",
           "title": {
            "standoff": 15
           },
           "zerolinecolor": "white",
           "zerolinewidth": 2
          },
          "yaxis": {
           "automargin": true,
           "gridcolor": "white",
           "linecolor": "white",
           "ticks": "",
           "title": {
            "standoff": 15
           },
           "zerolinecolor": "white",
           "zerolinewidth": 2
          }
         }
        },
        "title": {
         "font": {
          "family": "Arial, sans-serif",
          "size": 18
         },
         "text": "Average Sales Traffic by Month",
         "x": 0.02,
         "xanchor": "left",
         "y": 0.95,
         "yanchor": "top"
        },
        "width": 1000,
        "xaxis": {
         "anchor": "y",
         "domain": [
          0,
          1
         ],
         "gridcolor": "lightgray",
         "gridwidth": 1,
         "showgrid": true,
         "title": {
          "text": "Month"
         }
        },
        "yaxis": {
         "anchor": "x",
         "domain": [
          0,
          1
         ],
         "gridcolor": "lightgray",
         "gridwidth": 1,
         "showgrid": true,
         "tickformat": ",",
         "title": {
          "text": "Average Number of Sales"
         }
        }
       }
      }
     },
     "metadata": {},
     "output_type": "display_data"
    },
    {
     "name": "stdout",
     "output_type": "stream",
     "text": [
      "\n",
      "Monthly Sales Traffic Summary:\n",
      "--------------------------------------------------\n",
      "Jan: 5,465 sales (80.1% of peak)\n",
      "Feb: 5,645 sales (82.7% of peak)\n",
      "Mar: 5,785 sales (84.7% of peak)\n",
      "Apr: 5,739 sales (84.1% of peak)\n",
      "May: 5,490 sales (80.4% of peak)\n",
      "Jun: 5,761 sales (84.4% of peak)\n",
      "Jul: 6,023 sales (88.2% of peak)\n",
      "Aug: 5,693 sales (83.4% of peak)\n",
      "Sep: 5,570 sales (81.6% of peak)\n",
      "Oct: 5,537 sales (81.1% of peak)\n",
      "Nov: 6,008 sales (88.0% of peak)\n",
      "Dec: 6,827 sales (100.0% of peak)\n",
      "\n",
      "Yearly Statistics:\n",
      "Average monthly sales: 5,795\n",
      "Peak month: Dec (6,827 sales)\n",
      "Lowest month: Jan (5,465 sales)\n",
      "Difference (Peak - Lowest): 1,361 sales\n",
      "\n",
      "Seasonal Analysis:\n",
      "Spring (Mar-May): 5,671 sales\n",
      "Summer (Jun-Aug): 5,826 sales\n",
      "Fall (Sep-Nov): 5,705 sales\n",
      "Winter (Dec-Feb): 5,979 sales\n"
     ]
    }
   ],
   "source": [
    "# Ensure month is ordered\n",
    "month_order = ['Jan', 'Feb', 'Mar', 'Apr', 'May', 'Jun','Jul', 'Aug', 'Sep', 'Oct', 'Nov', 'Dec']\n",
    "\n",
    "# Calculate monthly averages\n",
    "monthly_grp = df_features.groupby('month', as_index=False)['sales'].mean()\n",
    "monthly_grp['month'] = pd.Categorical(monthly_grp['month'], categories=month_order, ordered=True)\n",
    "monthly_grp = monthly_grp.sort_values('month')\n",
    "\n",
    "# Identify peak and lowest months\n",
    "peak_row = monthly_grp.loc[monthly_grp['sales'].idxmax()]\n",
    "lowest_row = monthly_grp.loc[monthly_grp['sales'].idxmin()]\n",
    "peak_month = peak_row['month']\n",
    "peak_value = peak_row['sales']\n",
    "lowest_month = lowest_row['month']\n",
    "lowest_value = lowest_row['sales']\n",
    "\n",
    "# Create enhanced line chart\n",
    "fig = px.line(\n",
    "    monthly_grp, \n",
    "    x='month', \n",
    "    y='sales',\n",
    "    markers=True,\n",
    "    title='Average Sales Traffic by Month',\n",
    "    labels={'customers': 'Average Sales', 'month': 'Month'},\n",
    "    line_shape='spline'  # Smooth curves for better trend visualization\n",
    ")\n",
    "\n",
    "# Enhanced styling\n",
    "fig.update_layout(\n",
    "    title={\n",
    "        'text': 'Average Sales Traffic by Month',\n",
    "        'x': 0.02,\n",
    "        'xanchor': 'left',\n",
    "        'y': 0.95,\n",
    "        'yanchor': 'top',\n",
    "        'font': {'size': 18, 'family': 'Arial, sans-serif'}\n",
    "    },\n",
    "    xaxis_title='Month',\n",
    "    yaxis_title='Average Number of Sales',\n",
    "    font=dict(size=12),\n",
    "    plot_bgcolor='white',\n",
    "    width=1000,\n",
    "    height=550,\n",
    "    margin=dict(t=80, b=60, l=80, r=80),\n",
    "    xaxis=dict(\n",
    "        showgrid=True,\n",
    "        gridwidth=1,\n",
    "        gridcolor='lightgray'\n",
    "    ),\n",
    "    yaxis=dict(\n",
    "        showgrid=True,\n",
    "        gridwidth=1,\n",
    "        gridcolor='lightgray',\n",
    "        tickformat=','\n",
    "    )\n",
    ")\n",
    "\n",
    "# Improve line and marker styling\n",
    "fig.update_traces(\n",
    "    line=dict(width=3, color='#1f77b4'),\n",
    "    marker=dict(\n",
    "        size=10,\n",
    "        color='#ff7f0e',\n",
    "        line=dict(width=2, color='white')\n",
    "    )\n",
    ")\n",
    "\n",
    "# Annotate peak month\n",
    "fig.add_annotation(\n",
    "    x=peak_month, \n",
    "    y=peak_value,\n",
    "    text=f'Peak: {peak_month}<br>({peak_value:,.0f} sales)',\n",
    "    showarrow=True,\n",
    "    arrowhead=2,\n",
    "    arrowsize=1,\n",
    "    arrowwidth=2,\n",
    "    arrowcolor='red',\n",
    "    font=dict(color='red', size=11),\n",
    "    yshift=20,\n",
    "    bgcolor=\"rgba(255,255,255,0.9)\",\n",
    "    bordercolor=\"red\",\n",
    "    borderwidth=1\n",
    ")\n",
    "\n",
    "# Annotate lowest month\n",
    "fig.add_annotation(\n",
    "    x=lowest_month, \n",
    "    y=lowest_value,\n",
    "    text=f'Lowest: {lowest_month}<br>({lowest_value:,.0f} sales)',\n",
    "    showarrow=True,\n",
    "    arrowhead=2,\n",
    "    arrowsize=1,\n",
    "    arrowwidth=2,\n",
    "    arrowcolor='blue',\n",
    "    font=dict(color='blue', size=11),\n",
    "    yshift=-30,\n",
    "    bgcolor=\"rgba(255,255,255,0.9)\",\n",
    "    bordercolor=\"blue\",\n",
    "    borderwidth=1\n",
    ")\n",
    "\n",
    "# Add seasonal analysis\n",
    "spring_months = ['Mar', 'Apr', 'May']\n",
    "summer_months = ['Jun', 'Jul', 'Aug']\n",
    "fall_months = ['Sep', 'Oct', 'Nov']\n",
    "winter_months = ['Dec', 'Jan', 'Feb']\n",
    "\n",
    "spring_avg = monthly_grp[monthly_grp['month'].isin(spring_months)]['sales'].mean()\n",
    "summer_avg = monthly_grp[monthly_grp['month'].isin(summer_months)]['sales'].mean()\n",
    "fall_avg = monthly_grp[monthly_grp['month'].isin(fall_months)]['sales'].mean()\n",
    "winter_avg = monthly_grp[monthly_grp['month'].isin(winter_months)]['sales'].mean()\n",
    "\n",
    "# Add summary statistics\n",
    "yearly_avg = monthly_grp['sales'].mean()\n",
    "yearly_std = monthly_grp['sales'].std()\n",
    "range_customers = peak_value - lowest_value\n",
    "\n",
    "fig.add_annotation(\n",
    "    text=f\"Yearly Average: {yearly_avg:,.0f}<br>\" +\n",
    "         f\"Standard Deviation: {yearly_std:,.0f}<br>\" +\n",
    "         f\"Range: {range_customers:,.0f}<br><br>\" +\n",
    "         f\"Seasonal Averages:<br>\" +\n",
    "         f\"Spring: {spring_avg:,.0f}<br>\" +\n",
    "         f\"Summer: {summer_avg:,.0f}<br>\" +\n",
    "         f\"Fall: {fall_avg:,.0f}<br>\" +\n",
    "         f\"Winter: {winter_avg:,.0f}\",\n",
    "    xref=\"paper\", yref=\"paper\",\n",
    "    x=0.02, y=0.5,  # Middle left side\n",
    "    xanchor=\"left\", yanchor=\"middle\",\n",
    "    showarrow=False,\n",
    "    font=dict(size=10, color=\"black\"),\n",
    "    align=\"left\",\n",
    "    bgcolor=\"rgba(255,255,255,0.9)\",\n",
    "    bordercolor=\"gray\",\n",
    "    borderwidth=1,\n",
    "    borderpad=8\n",
    ")\n",
    "\n",
    "fig.show()\n",
    "\n",
    "# Print detailed monthly summary\n",
    "print(\"\\nMonthly Sales Traffic Summary:\")\n",
    "print(\"-\" * 50)\n",
    "for _, row in monthly_grp.iterrows():\n",
    "    month = row['month']\n",
    "    sales = row['sales']\n",
    "    percentage_of_peak = (sales / peak_value) * 100\n",
    "    print(f\"{month}: {sales:,.0f} sales ({percentage_of_peak:.1f}% of peak)\")\n",
    "\n",
    "print(f\"\\nYearly Statistics:\")\n",
    "print(f\"Average monthly sales: {yearly_avg:,.0f}\")\n",
    "print(f\"Peak month: {peak_month} ({peak_value:,.0f} sales)\")\n",
    "print(f\"Lowest month: {lowest_month} ({lowest_value:,.0f} sales)\")\n",
    "print(f\"Difference (Peak - Lowest): {range_customers:,.0f} sales\")\n",
    "\n",
    "print(f\"\\nSeasonal Analysis:\")\n",
    "print(f\"Spring (Mar-May): {spring_avg:,.0f} sales\")\n",
    "print(f\"Summer (Jun-Aug): {summer_avg:,.0f} sales\") \n",
    "print(f\"Fall (Sep-Nov): {fall_avg:,.0f} sales\")\n",
    "print(f\"Winter (Dec-Feb): {winter_avg:,.0f} sales\")"
   ]
  },
  {
   "cell_type": "markdown",
   "id": "5abf9d7e-502a-4eea-b618-68ea44b2aef3",
   "metadata": {},
   "source": [
    "### Promo Impact Summary"
   ]
  },
  {
   "cell_type": "code",
   "execution_count": 22,
   "id": "3eb87117-81f7-4e2c-bb3f-19c4a9293eb9",
   "metadata": {},
   "outputs": [
    {
     "name": "stdout",
     "output_type": "stream",
     "text": [
      "🎯 PROMOTIONAL IMPACT ANALYSIS REPORT\n",
      "============================================================\n",
      "📊 Data Overview: 814,150 records after removing closed days\n",
      "🏪 Analyzing top 10 stores: [817, 262, 1114, 251, 842, 513, 562, 788, 383, 756]\n",
      "📈 Analysis dataset: 7,702 records\n",
      "🎯 Promotional days: 3,325 (43.2%)\n",
      "📅 Regular days: 4,377 (56.8%)\n",
      "\n",
      "💰 SALES PERFORMANCE ANALYSIS\n",
      "========================================\n",
      "🎯 Average Sales (Promotional): $20,779\n",
      "📊 Average Sales (Regular): $17,473\n",
      "⬆️  Absolute Sales Lift: $3,306\n",
      "📈 Percentage Sales Lift: +18.92%\n",
      "\n",
      "👥 CUSTOMER TRAFFIC ANALYSIS\n",
      "========================================\n",
      "🎯 Average Customers (Promotional): 2,636\n",
      "📊 Average Customers (Regular): 2,469\n",
      "⬆️  Customer Traffic Lift: +167\n",
      "📈 Customer Traffic Lift: +6.78%\n",
      "\n",
      "🎯 EFFICIENCY & PROFITABILITY\n",
      "========================================\n",
      "💳 Sales per Customer (Promotional): $7.88\n",
      "💳 Sales per Customer (Regular): $7.08\n",
      "📊 Spending Efficiency Gain: +11.37%\n",
      "\n",
      "📊 STATISTICAL VALIDATION\n",
      "========================================\n",
      "🧮 T-Statistic: 39.17\n",
      "📈 P-Value: 0.000000\n",
      "✅ Statistically Significant: YES (α=0.05)\n",
      "\n",
      "💡 KEY BUSINESS INSIGHTS\n",
      "========================================\n",
      "👍 GOOD PERFORMANCE: Promotions show solid results\n",
      "📋 RECOMMENDATION: MAINTAIN current promotional strategy\n",
      "💰 PRIMARY DRIVER: Promotions increase SPENDING PER VISIT (+11.4%)\n",
      "   → Excellent basket size improvement\n",
      "\n",
      "🏆 TOP PERFORMING STORE: #817\n",
      "   📈 Sales Lift: +32.8%\n",
      "   👥 Customer Lift: +21.1%\n",
      "   🎯 Promo Rate: 44.9%\n",
      "\n",
      "📉 LOWEST PERFORMING STORE: #262\n",
      "   📈 Sales Lift: +32.8%\n",
      "   👥 Customer Lift: +-3.4%\n",
      "   🎯 Promo Rate: 38.1%\n",
      "\n",
      "📊 CONSISTENCY ANALYSIS:\n",
      "   🎯 Average Lift Across Stores: +19.7%\n",
      "   📏 Performance Consistency: 8/10 stores within ±10%\n",
      "   👍 MODERATELY CONSISTENT: Most stores benefit similarly\n",
      "\n",
      "📅 SEASONAL INSIGHTS:\n",
      "   🏆 Best Month for Promos: December (+27.0%)\n",
      "   📉 Worst Month for Promos: November (+11.2%)\n",
      "\n",
      "🎉 ANALYSIS COMPLETE!\n"
     ]
    }
   ],
   "source": [
    "\n",
    "def clean_promo_analysis(df, sales_col='sales', customers_col='customers', \n",
    "                        store_col='store', promo_col='promo', date_col='date', top_n=10):\n",
    "    \"\"\"\n",
    "    Clean and comprehensive promotional impact analysis\n",
    "    \"\"\"\n",
    "    print(\"🎯 PROMOTIONAL IMPACT ANALYSIS REPORT\")\n",
    "    print(\"=\"*60)\n",
    "    \n",
    "    # Data preprocessing\n",
    "    df_clean = df.copy()\n",
    "    \n",
    "    # Remove closed stores (sales = 0)\n",
    "    df_clean = df_clean[df_clean[sales_col] > 0]\n",
    "    print(f\"📊 Data Overview: {len(df_clean):,} records after removing closed days\")\n",
    "    \n",
    "    # Create binary promo flag\n",
    "    df_clean['promo_flag'] = (df_clean[promo_col] == 'Promo').astype(int)\n",
    "    \n",
    "    # Get top stores by average sales\n",
    "    top_stores = df_clean.groupby(store_col)[sales_col].mean().nlargest(top_n).index\n",
    "    df_analysis = df_clean[df_clean[store_col].isin(top_stores)]\n",
    "    \n",
    "    print(f\"🏪 Analyzing top {len(top_stores)} stores: {list(top_stores)}\")\n",
    "    print(f\"📈 Analysis dataset: {len(df_analysis):,} records\")\n",
    "    \n",
    "    # Split data\n",
    "    promo_data = df_analysis[df_analysis['promo_flag'] == 1]\n",
    "    non_promo_data = df_analysis[df_analysis['promo_flag'] == 0]\n",
    "    \n",
    "    print(f\"🎯 Promotional days: {len(promo_data):,} ({len(promo_data)/len(df_analysis)*100:.1f}%)\")\n",
    "    print(f\"📅 Regular days: {len(non_promo_data):,} ({len(non_promo_data)/len(df_analysis)*100:.1f}%)\")\n",
    "    \n",
    "    # Calculate key metrics\n",
    "    results = {}\n",
    "    \n",
    "    # Sales metrics\n",
    "    promo_avg_sales = promo_data[sales_col].mean()\n",
    "    non_promo_avg_sales = non_promo_data[sales_col].mean()\n",
    "    sales_lift = promo_avg_sales - non_promo_avg_sales\n",
    "    sales_lift_pct = (sales_lift / non_promo_avg_sales) * 100\n",
    "    \n",
    "    # Customer metrics  \n",
    "    promo_avg_customers = promo_data[customers_col].mean()\n",
    "    non_promo_avg_customers = non_promo_data[customers_col].mean()\n",
    "    customer_lift = promo_avg_customers - non_promo_avg_customers\n",
    "    customer_lift_pct = (customer_lift / non_promo_avg_customers) * 100\n",
    "    \n",
    "    # Efficiency metrics\n",
    "    promo_sales_per_customer = promo_avg_sales / promo_avg_customers\n",
    "    non_promo_sales_per_customer = non_promo_avg_sales / non_promo_avg_customers\n",
    "    efficiency_improvement = ((promo_sales_per_customer - non_promo_sales_per_customer) / \n",
    "                             non_promo_sales_per_customer) * 100\n",
    "    \n",
    "    # Statistical test\n",
    "    t_stat, p_value = ttest_ind(promo_data[sales_col], non_promo_data[sales_col])\n",
    "    is_significant = p_value < 0.05\n",
    "    \n",
    "    # Store-level analysis\n",
    "    store_results = []\n",
    "    for store in top_stores:\n",
    "        store_data = df_analysis[df_analysis[store_col] == store]\n",
    "        store_promo = store_data[store_data['promo_flag'] == 1]\n",
    "        store_regular = store_data[store_data['promo_flag'] == 0]\n",
    "        \n",
    "        if len(store_promo) > 0 and len(store_regular) > 0:\n",
    "            store_sales_lift = ((store_promo[sales_col].mean() - store_regular[sales_col].mean()) / \n",
    "                              store_regular[sales_col].mean()) * 100\n",
    "            store_customer_lift = ((store_promo[customers_col].mean() - store_regular[customers_col].mean()) / \n",
    "                                 store_regular[customers_col].mean()) * 100\n",
    "            \n",
    "            store_results.append({\n",
    "                'Store': store,\n",
    "                'Promo Days': len(store_promo),\n",
    "                'Regular Days': len(store_regular),\n",
    "                'Promo Rate (%)': len(store_promo) / len(store_data) * 100,\n",
    "                'Sales Lift (%)': store_sales_lift,\n",
    "                'Customer Lift (%)': store_customer_lift,\n",
    "                'Promo Avg Sales': store_promo[sales_col].mean(),\n",
    "                'Regular Avg Sales': store_regular[sales_col].mean(),\n",
    "                'Promo Avg Customers': store_promo[customers_col].mean(),\n",
    "                'Regular Avg Customers': store_regular[customers_col].mean()\n",
    "            })\n",
    "    \n",
    "    store_df = pd.DataFrame(store_results)\n",
    "    \n",
    "    # Print results\n",
    "    print(f\"\\n💰 SALES PERFORMANCE ANALYSIS\")\n",
    "    print(f\"=\"*40)\n",
    "    print(f\"🎯 Average Sales (Promotional): ${promo_avg_sales:,.0f}\")\n",
    "    print(f\"📊 Average Sales (Regular): ${non_promo_avg_sales:,.0f}\")\n",
    "    print(f\"⬆️  Absolute Sales Lift: ${sales_lift:,.0f}\")\n",
    "    print(f\"📈 Percentage Sales Lift: +{sales_lift_pct:.2f}%\")\n",
    "    \n",
    "    print(f\"\\n👥 CUSTOMER TRAFFIC ANALYSIS\") \n",
    "    print(f\"=\"*40)\n",
    "    print(f\"🎯 Average Customers (Promotional): {promo_avg_customers:,.0f}\")\n",
    "    print(f\"📊 Average Customers (Regular): {non_promo_avg_customers:,.0f}\")\n",
    "    print(f\"⬆️  Customer Traffic Lift: +{customer_lift:.0f}\")\n",
    "    print(f\"📈 Customer Traffic Lift: +{customer_lift_pct:.2f}%\")\n",
    "    \n",
    "    print(f\"\\n🎯 EFFICIENCY & PROFITABILITY\")\n",
    "    print(f\"=\"*40)\n",
    "    print(f\"💳 Sales per Customer (Promotional): ${promo_sales_per_customer:.2f}\")\n",
    "    print(f\"💳 Sales per Customer (Regular): ${non_promo_sales_per_customer:.2f}\")\n",
    "    print(f\"📊 Spending Efficiency Gain: +{efficiency_improvement:.2f}%\")\n",
    "    \n",
    "    print(f\"\\n📊 STATISTICAL VALIDATION\")\n",
    "    print(f\"=\"*40)\n",
    "    print(f\"🧮 T-Statistic: {t_stat:.2f}\")\n",
    "    print(f\"📈 P-Value: {p_value:.6f}\")\n",
    "    print(f\"✅ Statistically Significant: {'YES' if is_significant else 'NO'} (α=0.05)\")\n",
    "    \n",
    "    # Business insights\n",
    "    print(f\"\\n💡 KEY BUSINESS INSIGHTS\")\n",
    "    print(f\"=\"*40)\n",
    "    \n",
    "    if sales_lift_pct > 50:\n",
    "        print(f\"🚀 EXCEPTIONAL PERFORMANCE: Promotions drive outstanding sales growth!\")\n",
    "        recommendation = \"MAXIMIZE promotional frequency - ROI is excellent\"\n",
    "    elif sales_lift_pct > 25:\n",
    "        print(f\"✅ STRONG PERFORMANCE: Promotions are highly effective\")\n",
    "        recommendation = \"INCREASE promotional activities strategically\"\n",
    "    elif sales_lift_pct > 10:\n",
    "        print(f\"👍 GOOD PERFORMANCE: Promotions show solid results\")\n",
    "        recommendation = \"MAINTAIN current promotional strategy\"\n",
    "    elif sales_lift_pct > 0:\n",
    "        print(f\"⚠️  WEAK PERFORMANCE: Minimal promotional benefit\")\n",
    "        recommendation = \"REVIEW promotional costs vs benefits\"\n",
    "    else:\n",
    "        print(f\"❌ NEGATIVE IMPACT: Promotions may be hurting performance\")\n",
    "        recommendation = \"URGENT REVIEW of promotional strategy needed\"\n",
    "    \n",
    "    print(f\"📋 RECOMMENDATION: {recommendation}\")\n",
    "    \n",
    "    # Traffic vs Spending analysis\n",
    "    if customer_lift_pct > efficiency_improvement:\n",
    "        print(f\"👥 PRIMARY DRIVER: Promotions mainly drive FOOT TRAFFIC (+{customer_lift_pct:.1f}%)\")\n",
    "        print(f\"   → Focus on conversion and upselling during promotions\")\n",
    "    elif efficiency_improvement > customer_lift_pct:\n",
    "        print(f\"💰 PRIMARY DRIVER: Promotions increase SPENDING PER VISIT (+{efficiency_improvement:.1f}%)\")\n",
    "        print(f\"   → Excellent basket size improvement\")\n",
    "    else:\n",
    "        print(f\"⚖️  BALANCED IMPACT: Both traffic and spending improve equally\")\n",
    "    \n",
    "    # Store performance insights\n",
    "    if not store_df.empty:\n",
    "        best_store = store_df.loc[store_df['Sales Lift (%)'].idxmax()]\n",
    "        worst_store = store_df.loc[store_df['Sales Lift (%)'].idxmin()]\n",
    "        \n",
    "        print(f\"\\n🏆 TOP PERFORMING STORE: #{int(best_store['Store'])}\")\n",
    "        print(f\"   📈 Sales Lift: +{best_store['Sales Lift (%)']:.1f}%\")\n",
    "        print(f\"   👥 Customer Lift: +{best_store['Customer Lift (%)']:.1f}%\")\n",
    "        print(f\"   🎯 Promo Rate: {best_store['Promo Rate (%)']:.1f}%\")\n",
    "        \n",
    "        print(f\"\\n📉 LOWEST PERFORMING STORE: #{int(worst_store['Store'])}\")\n",
    "        print(f\"   📈 Sales Lift: +{best_store['Sales Lift (%)']:.1f}%\")\n",
    "        print(f\"   👥 Customer Lift: +{worst_store['Customer Lift (%)']:.1f}%\")\n",
    "        print(f\"   🎯 Promo Rate: {worst_store['Promo Rate (%)']:.1f}%\")\n",
    "        \n",
    "        avg_lift = store_df['Sales Lift (%)'].mean()\n",
    "        consistent_stores = ((store_df['Sales Lift (%)'] - avg_lift).abs() < 10).sum()\n",
    "        \n",
    "        print(f\"\\n📊 CONSISTENCY ANALYSIS:\")\n",
    "        print(f\"   🎯 Average Lift Across Stores: +{avg_lift:.1f}%\")\n",
    "        print(f\"   📏 Performance Consistency: {consistent_stores}/{len(store_df)} stores within ±10%\")\n",
    "        \n",
    "        if consistent_stores / len(store_df) > 0.8:\n",
    "            print(f\"   ✅ HIGHLY CONSISTENT: Promotions work well across all stores\")\n",
    "        elif consistent_stores / len(store_df) > 0.6:\n",
    "            print(f\"   👍 MODERATELY CONSISTENT: Most stores benefit similarly\")\n",
    "        else:\n",
    "            print(f\"   ⚠️  INCONSISTENT: Results vary significantly by store\")\n",
    "            print(f\"   → Investigate store-specific factors affecting promotional performance\")\n",
    "    \n",
    "    # Time-based insights (if date available)\n",
    "    if date_col in df_analysis.columns:\n",
    "        df_analysis['month'] = pd.to_datetime(df_analysis[date_col]).dt.month_name()\n",
    "        df_analysis['weekday'] = pd.to_datetime(df_analysis[date_col]).dt.day_name()\n",
    "        \n",
    "        # Monthly performance\n",
    "        monthly_promo = df_analysis[df_analysis['promo_flag']==1].groupby('month')[sales_col].mean()\n",
    "        monthly_regular = df_analysis[df_analysis['promo_flag']==0].groupby('month')[sales_col].mean()\n",
    "        monthly_lift = ((monthly_promo - monthly_regular) / monthly_regular * 100).round(1)\n",
    "        \n",
    "        best_month = monthly_lift.idxmax()\n",
    "        worst_month = monthly_lift.idxmin()\n",
    "        \n",
    "        print(f\"\\n📅 SEASONAL INSIGHTS:\")\n",
    "        print(f\"   🏆 Best Month for Promos: {best_month} (+{monthly_lift[best_month]:.1f}%)\")\n",
    "        print(f\"   📉 Worst Month for Promos: {worst_month} (+{monthly_lift[worst_month]:.1f}%)\")\n",
    "    \n",
    "    print(f\"\\n🎉 ANALYSIS COMPLETE!\")\n",
    "    \n",
    "    # Return structured results\n",
    "    return {\n",
    "        'summary_metrics': {\n",
    "            'sales_lift_pct': sales_lift_pct,\n",
    "            'customer_lift_pct': customer_lift_pct,\n",
    "            'efficiency_improvement': efficiency_improvement,\n",
    "            'statistical_significance': is_significant,\n",
    "            'p_value': p_value\n",
    "        },\n",
    "        'store_performance': store_df,\n",
    "        'raw_data': {\n",
    "            'promo_avg_sales': promo_avg_sales,\n",
    "            'regular_avg_sales': non_promo_avg_sales,\n",
    "            'promo_avg_customers': promo_avg_customers,\n",
    "            'regular_avg_customers': non_promo_avg_customers\n",
    "        }\n",
    "    }\n",
    "\n",
    "def create_promo_visualization(results_dict, store_df):\n",
    "    \"\"\"\n",
    "    Create visualizations for promotional analysis\n",
    "    \"\"\"\n",
    "    fig, ((ax1, ax2), (ax3, ax4)) = plt.subplots(2, 2, figsize=(15, 12))\n",
    "    \n",
    "    # 1. Sales comparison\n",
    "    metrics = ['Promo', 'Regular']\n",
    "    sales_values = [results_dict['raw_data']['promo_avg_sales'], \n",
    "                   results_dict['raw_data']['regular_avg_sales']]\n",
    "    \n",
    "    bars1 = ax1.bar(metrics, sales_values, color=['#ff6b6b', '#4ecdc4'], alpha=0.8)\n",
    "    ax1.set_title('Average Sales: Promotional vs Regular Days', fontsize=14, fontweight='bold')\n",
    "    ax1.set_ylabel('Average Sales ($)')\n",
    "    \n",
    "    # Add value labels on bars\n",
    "    for bar in bars1:\n",
    "        height = bar.get_height()\n",
    "        ax1.text(bar.get_x() + bar.get_width()/2., height,\n",
    "                f'${height:,.0f}', ha='center', va='bottom', fontsize=12)\n",
    "    \n",
    "    # 2. Customer traffic comparison\n",
    "    customer_values = [results_dict['raw_data']['promo_avg_customers'],\n",
    "                      results_dict['raw_data']['regular_avg_customers']]\n",
    "    \n",
    "    bars2 = ax2.bar(metrics, customer_values, color=['#ff9f43', '#54a0ff'], alpha=0.8)\n",
    "    ax2.set_title('Average Customer Traffic: Promotional vs Regular Days', fontsize=14, fontweight='bold')\n",
    "    ax2.set_ylabel('Average Customers')\n",
    "    \n",
    "    for bar in bars2:\n",
    "        height = bar.get_height()\n",
    "        ax2.text(bar.get_x() + bar.get_width()/2., height,\n",
    "                f'{height:,.0f}', ha='center', va='bottom', fontsize=12)\n",
    "    \n",
    "    # 3. Store performance distribution\n",
    "    if not store_df.empty:\n",
    "        ax3.hist(store_df['Sales Lift (%)'], bins=8, alpha=0.7, color='#ff6b6b', edgecolor='black')\n",
    "        ax3.set_title('Distribution of Sales Lift Across Stores', fontsize=14, fontweight='bold')\n",
    "        ax3.set_xlabel('Sales Lift (%)')\n",
    "        ax3.set_ylabel('Number of Stores')\n",
    "        ax3.axvline(store_df['Sales Lift (%)'].mean(), color='red', linestyle='--', \n",
    "                   label=f'Mean: {store_df[\"Sales Lift (%)\"].mean():.1f}%')\n",
    "        ax3.legend()\n",
    "    \n",
    "    # 4. Key metrics summary\n",
    "    lift_pct = results_dict['summary_metrics']['sales_lift_pct']\n",
    "    customer_lift_pct = results_dict['summary_metrics']['customer_lift_pct']\n",
    "    efficiency = results_dict['summary_metrics']['efficiency_improvement']\n",
    "    \n",
    "    metrics_names = ['Sales Lift', 'Customer Lift', 'Efficiency Gain']\n",
    "    metrics_values = [lift_pct, customer_lift_pct, efficiency]\n",
    "    colors = ['#ff6b6b', '#4ecdc4', '#45aaf2']\n",
    "    \n",
    "    bars4 = ax4.bar(metrics_names, metrics_values, color=colors, alpha=0.8)\n",
    "    ax4.set_title('Key Performance Metrics (%)', fontsize=14, fontweight='bold')\n",
    "    ax4.set_ylabel('Improvement (%)')\n",
    "    \n",
    "    for bar in bars4:\n",
    "        height = bar.get_height()\n",
    "        ax4.text(bar.get_x() + bar.get_width()/2., height,\n",
    "                f'+{height:.1f}%', ha='center', va='bottom', fontsize=12)\n",
    "    \n",
    "    plt.tight_layout()\n",
    "    plt.show()\n",
    "    \n",
    "    return fig\n",
    "\n",
    "results = clean_promo_analysis(df_features)\n"
   ]
  },
  {
   "cell_type": "code",
   "execution_count": 23,
   "id": "1a41d584-54ba-4b4f-8e51-99bd40186e56",
   "metadata": {},
   "outputs": [
    {
     "data": {
      "image/png": "[encoded data removed]",
      "text/plain": [
       "<Figure size 1500x1200 with 4 Axes>"
      ]
     },
     "metadata": {},
     "output_type": "display_data"
    }
   ],
   "source": [
    "fig = create_promo_visualization(results, results['store_performance'])"
   ]
  }
 ],
 "metadata": {
  "kernelspec": {
   "display_name": "Python 3 (ipykernel)",
   "language": "python",
   "name": "python3"
  },
  "language_info": {
   "codemirror_mode": {
    "name": "ipython",
    "version": 3
   },
   "file_extension": ".py",
   "mimetype": "text/x-python",
   "name": "python",
   "nbconvert_exporter": "python",
   "pygments_lexer": "ipython3",
   "version": "3.11.8"
  }
 },
 "nbformat": 4,
 "nbformat_minor": 5
}
